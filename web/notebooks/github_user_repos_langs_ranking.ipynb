{
 "cells": [
  {
   "cell_type": "markdown",
   "metadata": {
    "deletable": true,
    "editable": true
   },
   "source": [
    "# Ranking de desenvolvedores relativo ao perfil de tecnologias\n",
    "\n",
    "O nosso modelo gerara uma lista de usuarios rankeados de acordo com a compatibilidade com uma lista de tecnologias especificada.\n",
    "\n",
    "      Exemplo de Lista de tecnologias/linguagens =['JavaScript','JavaScript','Python','JavaScript','JavaScript','C++','JavaScript','Lua','C']\n",
    "\n",
    "    Você pode repetir uma tecnologias quantas vzs quiser, isso aumenta o peso da tecnologia especifica, e ajuda a encontrar devs mais especialistas.\n",
    "\n",
    "\n",
    "Usaremos a estrutura de comunidades encontradas na rede de seguidores para testar se os devs rankeados estão na mesma comunidade."
   ]
  },
  {
   "cell_type": "code",
   "execution_count": 10,
   "metadata": {
    "collapsed": false,
    "deletable": true,
    "editable": true,
    "jupyter": {
     "outputs_hidden": false
    }
   },
   "outputs": [],
   "source": [
    "# %%time\n",
    "\n",
    "import pandas as pd\n",
    "import numpy as np\n",
    "import re\n",
    "\n",
    "import matplotlib\n",
    "import matplotlib.pyplot as plt\n",
    "import seaborn as sns\n",
    "\n",
    "matplotlib.style.use('ggplot')\n",
    "\n",
    "\n",
    "# from bokeh.plotting import figure, show\n",
    "# from bokeh.models import Range1d, NumeralTickFormatter, FixedTicker, Legend\n",
    "# from bokeh.palettes import Set1_7, RdBu5, RdBu11\n",
    "# from bokeh.io import output_notebook\n",
    "# output_notebook()\n",
    "\n",
    "%matplotlib inline\n",
    "\n",
    "from gensim.corpora import Dictionary\n",
    "from gensim.models import TfidfModel\n",
    "from gensim.models import Word2Vec\n",
    "from multiprocessing import cpu_count\n",
    "from gensim.similarities import MatrixSimilarity, SparseMatrixSimilarity, SoftCosineSimilarity\n",
    "\n",
    "# import logging\n",
    "# logging.basicConfig(format='%(asctime)s : %(levelname)s : %(message)s', level=logging.INFO)\n",
    "# Image(url=\"http://www.revistaforum.com.br/blogdorovai/wp-content/uploads/2014/01/grafico-inflacao.jpg\")"
   ]
  },
  {
   "cell_type": "code",
   "execution_count": 11,
   "metadata": {
    "collapsed": false,
    "deletable": true,
    "editable": true,
    "jupyter": {
     "outputs_hidden": false
    }
   },
   "outputs": [
    {
     "data": {
      "text/html": [
       "<div>\n",
       "<style scoped>\n",
       "    .dataframe tbody tr th:only-of-type {\n",
       "        vertical-align: middle;\n",
       "    }\n",
       "\n",
       "    .dataframe tbody tr th {\n",
       "        vertical-align: top;\n",
       "    }\n",
       "\n",
       "    .dataframe thead th {\n",
       "        text-align: right;\n",
       "    }\n",
       "</style>\n",
       "<table border=\"1\" class=\"dataframe\">\n",
       "  <thead>\n",
       "    <tr style=\"text-align: right;\">\n",
       "      <th></th>\n",
       "      <th>User</th>\n",
       "      <th>Repo_Member</th>\n",
       "      <th>mRepo_Language</th>\n",
       "      <th>Repo_Owner</th>\n",
       "      <th>oRepo_Language</th>\n",
       "    </tr>\n",
       "  </thead>\n",
       "  <tbody>\n",
       "    <tr>\n",
       "      <th>0</th>\n",
       "      <td>tarruda</td>\n",
       "      <td>libmpack/libmpack</td>\n",
       "      <td>C</td>\n",
       "      <td>tarruda/Algoritmos,tarruda/archdb,tarruda/back...</td>\n",
       "      <td>JavaScript,JavaScript,JavaScript,JavaScript,Py...</td>\n",
       "    </tr>\n",
       "    <tr>\n",
       "      <th>1</th>\n",
       "      <td>mairatma</td>\n",
       "      <td>deprecate/steel-avatar,deprecate/steel-cell-de...</td>\n",
       "      <td>CSS,CSS,HTML,CSS,HTML,CSS,JavaScript,CSS,JavaS...</td>\n",
       "      <td>mairatma/alloy-ui,mairatma/alloyui.com,mairatm...</td>\n",
       "      <td>JavaScript,JavaScript,TypeScript,JavaScript,Ja...</td>\n",
       "    </tr>\n",
       "    <tr>\n",
       "      <th>2</th>\n",
       "      <td>joselitojunior1</td>\n",
       "      <td>acmh/maecoruja,Cisneiros/projeto-anfa,demianbo...</td>\n",
       "      <td>JavaScript,Java,Java,HTML,JavaScript,None</td>\n",
       "      <td>joselitojunior1/abigobaldo-nunes-adventures,jo...</td>\n",
       "      <td>JavaScript,HTML,CSS,None,None,None,None,GCC Ma...</td>\n",
       "    </tr>\n",
       "    <tr>\n",
       "      <th>3</th>\n",
       "      <td>marcelcaraciolo</td>\n",
       "      <td>irgmedeiros/TCCRecommender,jg1141/Open-Allure-DS</td>\n",
       "      <td>Python,Python</td>\n",
       "      <td>marcelcaraciolo/apontador-api-libs,marcelcarac...</td>\n",
       "      <td>PHP,Python,Python,None,Python,Python,Python,No...</td>\n",
       "    </tr>\n",
       "    <tr>\n",
       "      <th>4</th>\n",
       "      <td>luanfonceca</td>\n",
       "      <td>andrezap/analise_expressao_genica,andrezap/arv...</td>\n",
       "      <td>Java,Java,Java,Ruby,Ruby,JavaScript,JavaScript...</td>\n",
       "      <td>luanfonceca/168horas,luanfonceca/4stoq,luanfon...</td>\n",
       "      <td>CSS,Ruby,Python,JavaScript,Python,Python,None,...</td>\n",
       "    </tr>\n",
       "  </tbody>\n",
       "</table>\n",
       "</div>"
      ],
      "text/plain": [
       "              User                                        Repo_Member  \\\n",
       "0          tarruda                                  libmpack/libmpack   \n",
       "1         mairatma  deprecate/steel-avatar,deprecate/steel-cell-de...   \n",
       "2  joselitojunior1  acmh/maecoruja,Cisneiros/projeto-anfa,demianbo...   \n",
       "3  marcelcaraciolo   irgmedeiros/TCCRecommender,jg1141/Open-Allure-DS   \n",
       "4      luanfonceca  andrezap/analise_expressao_genica,andrezap/arv...   \n",
       "\n",
       "                                      mRepo_Language  \\\n",
       "0                                                  C   \n",
       "1  CSS,CSS,HTML,CSS,HTML,CSS,JavaScript,CSS,JavaS...   \n",
       "2          JavaScript,Java,Java,HTML,JavaScript,None   \n",
       "3                                      Python,Python   \n",
       "4  Java,Java,Java,Ruby,Ruby,JavaScript,JavaScript...   \n",
       "\n",
       "                                          Repo_Owner  \\\n",
       "0  tarruda/Algoritmos,tarruda/archdb,tarruda/back...   \n",
       "1  mairatma/alloy-ui,mairatma/alloyui.com,mairatm...   \n",
       "2  joselitojunior1/abigobaldo-nunes-adventures,jo...   \n",
       "3  marcelcaraciolo/apontador-api-libs,marcelcarac...   \n",
       "4  luanfonceca/168horas,luanfonceca/4stoq,luanfon...   \n",
       "\n",
       "                                      oRepo_Language  \n",
       "0  JavaScript,JavaScript,JavaScript,JavaScript,Py...  \n",
       "1  JavaScript,JavaScript,TypeScript,JavaScript,Ja...  \n",
       "2  JavaScript,HTML,CSS,None,None,None,None,GCC Ma...  \n",
       "3  PHP,Python,Python,None,Python,Python,Python,No...  \n",
       "4  CSS,Ruby,Python,JavaScript,Python,Python,None,...  "
      ]
     },
     "execution_count": 11,
     "metadata": {},
     "output_type": "execute_result"
    }
   ],
   "source": [
    "users_repositories = pd.read_csv('../data/recife/users__repositories.csv', dtype=str, na_values=[\"\"])\n",
    "users_repositories.head()"
   ]
  },
  {
   "cell_type": "code",
   "execution_count": 12,
   "metadata": {
    "collapsed": false,
    "jupyter": {
     "outputs_hidden": false
    }
   },
   "outputs": [
    {
     "name": "stdout",
     "output_type": "stream",
     "text": [
      "<class 'pandas.core.frame.DataFrame'>\n",
      "RangeIndex: 1992 entries, 0 to 1991\n",
      "Data columns (total 5 columns):\n",
      " #   Column          Non-Null Count  Dtype \n",
      "---  ------          --------------  ----- \n",
      " 0   User            1992 non-null   object\n",
      " 1   Repo_Member     785 non-null    object\n",
      " 2   mRepo_Language  733 non-null    object\n",
      " 3   Repo_Owner      1630 non-null   object\n",
      " 4   oRepo_Language  1498 non-null   object\n",
      "dtypes: object(5)\n",
      "memory usage: 77.9+ KB\n"
     ]
    }
   ],
   "source": [
    "\n",
    "users_repositories.info()\n"
   ]
  },
  {
   "cell_type": "code",
   "execution_count": 13,
   "metadata": {
    "collapsed": false,
    "jupyter": {
     "outputs_hidden": false
    }
   },
   "outputs": [
    {
     "name": "stdout",
     "output_type": "stream",
     "text": [
      "<class 'pandas.core.frame.DataFrame'>\n",
      "Index: 688 entries, 0 to 1990\n",
      "Data columns (total 5 columns):\n",
      " #   Column          Non-Null Count  Dtype \n",
      "---  ------          --------------  ----- \n",
      " 0   User            688 non-null    object\n",
      " 1   Repo_Member     688 non-null    object\n",
      " 2   mRepo_Language  688 non-null    object\n",
      " 3   Repo_Owner      688 non-null    object\n",
      " 4   oRepo_Language  688 non-null    object\n",
      "dtypes: object(5)\n",
      "memory usage: 32.2+ KB\n"
     ]
    }
   ],
   "source": [
    "users_repositories.dropna().info()"
   ]
  },
  {
   "cell_type": "code",
   "execution_count": 14,
   "metadata": {
    "collapsed": false,
    "jupyter": {
     "outputs_hidden": false
    }
   },
   "outputs": [
    {
     "data": {
      "text/html": [
       "<div>\n",
       "<style scoped>\n",
       "    .dataframe tbody tr th:only-of-type {\n",
       "        vertical-align: middle;\n",
       "    }\n",
       "\n",
       "    .dataframe tbody tr th {\n",
       "        vertical-align: top;\n",
       "    }\n",
       "\n",
       "    .dataframe thead th {\n",
       "        text-align: right;\n",
       "    }\n",
       "</style>\n",
       "<table border=\"1\" class=\"dataframe\">\n",
       "  <thead>\n",
       "    <tr style=\"text-align: right;\">\n",
       "      <th></th>\n",
       "      <th>User</th>\n",
       "      <th>Repo_Member</th>\n",
       "      <th>mRepo_Language</th>\n",
       "      <th>Repo_Owner</th>\n",
       "      <th>oRepo_Language</th>\n",
       "    </tr>\n",
       "  </thead>\n",
       "  <tbody>\n",
       "    <tr>\n",
       "      <th>0</th>\n",
       "      <td>tarruda</td>\n",
       "      <td>libmpack/libmpack</td>\n",
       "      <td>C</td>\n",
       "      <td>tarruda/Algoritmos,tarruda/archdb,tarruda/back...</td>\n",
       "      <td>JavaScript,JavaScript,JavaScript,JavaScript,Py...</td>\n",
       "    </tr>\n",
       "    <tr>\n",
       "      <th>1</th>\n",
       "      <td>mairatma</td>\n",
       "      <td>deprecate/steel-avatar,deprecate/steel-cell-de...</td>\n",
       "      <td>CSS,CSS,HTML,CSS,HTML,CSS,JavaScript,CSS,JavaS...</td>\n",
       "      <td>mairatma/alloy-ui,mairatma/alloyui.com,mairatm...</td>\n",
       "      <td>JavaScript,JavaScript,TypeScript,JavaScript,Ja...</td>\n",
       "    </tr>\n",
       "    <tr>\n",
       "      <th>2</th>\n",
       "      <td>joselitojunior1</td>\n",
       "      <td>acmh/maecoruja,Cisneiros/projeto-anfa,demianbo...</td>\n",
       "      <td>JavaScript,Java,Java,HTML,JavaScript,None</td>\n",
       "      <td>joselitojunior1/abigobaldo-nunes-adventures,jo...</td>\n",
       "      <td>JavaScript,HTML,CSS,None,None,None,None,GCC Ma...</td>\n",
       "    </tr>\n",
       "    <tr>\n",
       "      <th>3</th>\n",
       "      <td>marcelcaraciolo</td>\n",
       "      <td>irgmedeiros/TCCRecommender,jg1141/Open-Allure-DS</td>\n",
       "      <td>Python,Python</td>\n",
       "      <td>marcelcaraciolo/apontador-api-libs,marcelcarac...</td>\n",
       "      <td>PHP,Python,Python,None,Python,Python,Python,No...</td>\n",
       "    </tr>\n",
       "    <tr>\n",
       "      <th>4</th>\n",
       "      <td>luanfonceca</td>\n",
       "      <td>andrezap/analise_expressao_genica,andrezap/arv...</td>\n",
       "      <td>Java,Java,Java,Ruby,Ruby,JavaScript,JavaScript...</td>\n",
       "      <td>luanfonceca/168horas,luanfonceca/4stoq,luanfon...</td>\n",
       "      <td>CSS,Ruby,Python,JavaScript,Python,Python,None,...</td>\n",
       "    </tr>\n",
       "  </tbody>\n",
       "</table>\n",
       "</div>"
      ],
      "text/plain": [
       "              User                                        Repo_Member  \\\n",
       "0          tarruda                                  libmpack/libmpack   \n",
       "1         mairatma  deprecate/steel-avatar,deprecate/steel-cell-de...   \n",
       "2  joselitojunior1  acmh/maecoruja,Cisneiros/projeto-anfa,demianbo...   \n",
       "3  marcelcaraciolo   irgmedeiros/TCCRecommender,jg1141/Open-Allure-DS   \n",
       "4      luanfonceca  andrezap/analise_expressao_genica,andrezap/arv...   \n",
       "\n",
       "                                      mRepo_Language  \\\n",
       "0                                                  C   \n",
       "1  CSS,CSS,HTML,CSS,HTML,CSS,JavaScript,CSS,JavaS...   \n",
       "2          JavaScript,Java,Java,HTML,JavaScript,None   \n",
       "3                                      Python,Python   \n",
       "4  Java,Java,Java,Ruby,Ruby,JavaScript,JavaScript...   \n",
       "\n",
       "                                          Repo_Owner  \\\n",
       "0  tarruda/Algoritmos,tarruda/archdb,tarruda/back...   \n",
       "1  mairatma/alloy-ui,mairatma/alloyui.com,mairatm...   \n",
       "2  joselitojunior1/abigobaldo-nunes-adventures,jo...   \n",
       "3  marcelcaraciolo/apontador-api-libs,marcelcarac...   \n",
       "4  luanfonceca/168horas,luanfonceca/4stoq,luanfon...   \n",
       "\n",
       "                                      oRepo_Language  \n",
       "0  JavaScript,JavaScript,JavaScript,JavaScript,Py...  \n",
       "1  JavaScript,JavaScript,TypeScript,JavaScript,Ja...  \n",
       "2  JavaScript,HTML,CSS,None,None,None,None,GCC Ma...  \n",
       "3  PHP,Python,Python,None,Python,Python,Python,No...  \n",
       "4  CSS,Ruby,Python,JavaScript,Python,Python,None,...  "
      ]
     },
     "execution_count": 14,
     "metadata": {},
     "output_type": "execute_result"
    }
   ],
   "source": [
    "users_repositories['Repo_Member'].apply(lambda x: list([l for l in str(x).split(',') if l!='None' and l!='']))\n",
    "users_repositories.head()"
   ]
  },
  {
   "cell_type": "code",
   "execution_count": 15,
   "metadata": {
    "collapsed": false,
    "deletable": true,
    "editable": true,
    "jupyter": {
     "outputs_hidden": false
    }
   },
   "outputs": [
    {
     "data": {
      "text/html": [
       "<div>\n",
       "<style scoped>\n",
       "    .dataframe tbody tr th:only-of-type {\n",
       "        vertical-align: middle;\n",
       "    }\n",
       "\n",
       "    .dataframe tbody tr th {\n",
       "        vertical-align: top;\n",
       "    }\n",
       "\n",
       "    .dataframe thead th {\n",
       "        text-align: right;\n",
       "    }\n",
       "</style>\n",
       "<table border=\"1\" class=\"dataframe\">\n",
       "  <thead>\n",
       "    <tr style=\"text-align: right;\">\n",
       "      <th></th>\n",
       "      <th>User</th>\n",
       "      <th>Repo_Member</th>\n",
       "      <th>mRepo_Language</th>\n",
       "      <th>Repo_Owner</th>\n",
       "      <th>oRepo_Language</th>\n",
       "    </tr>\n",
       "  </thead>\n",
       "  <tbody>\n",
       "    <tr>\n",
       "      <th>count</th>\n",
       "      <td>1992</td>\n",
       "      <td>785</td>\n",
       "      <td>733</td>\n",
       "      <td>1630</td>\n",
       "      <td>1498</td>\n",
       "    </tr>\n",
       "    <tr>\n",
       "      <th>unique</th>\n",
       "      <td>1981</td>\n",
       "      <td>764</td>\n",
       "      <td>412</td>\n",
       "      <td>1622</td>\n",
       "      <td>1206</td>\n",
       "    </tr>\n",
       "    <tr>\n",
       "      <th>top</th>\n",
       "      <td>ViniFlira</td>\n",
       "      <td>matheusacx/Discreta</td>\n",
       "      <td>Java</td>\n",
       "      <td>diogo-lins/BankAccount,diogo-lins/com-liferay-...</td>\n",
       "      <td>None,None</td>\n",
       "    </tr>\n",
       "    <tr>\n",
       "      <th>freq</th>\n",
       "      <td>2</td>\n",
       "      <td>3</td>\n",
       "      <td>78</td>\n",
       "      <td>2</td>\n",
       "      <td>37</td>\n",
       "    </tr>\n",
       "  </tbody>\n",
       "</table>\n",
       "</div>"
      ],
      "text/plain": [
       "             User          Repo_Member mRepo_Language  \\\n",
       "count        1992                  785            733   \n",
       "unique       1981                  764            412   \n",
       "top     ViniFlira  matheusacx/Discreta           Java   \n",
       "freq            2                    3             78   \n",
       "\n",
       "                                               Repo_Owner oRepo_Language  \n",
       "count                                                1630           1498  \n",
       "unique                                               1622           1206  \n",
       "top     diogo-lins/BankAccount,diogo-lins/com-liferay-...      None,None  \n",
       "freq                                                    2             37  "
      ]
     },
     "execution_count": 15,
     "metadata": {},
     "output_type": "execute_result"
    }
   ],
   "source": [
    "users_repositories.describe()"
   ]
  },
  {
   "cell_type": "code",
   "execution_count": 16,
   "metadata": {
    "collapsed": false,
    "deletable": true,
    "editable": true,
    "jupyter": {
     "outputs_hidden": false
    }
   },
   "outputs": [
    {
     "data": {
      "text/html": [
       "<div>\n",
       "<style scoped>\n",
       "    .dataframe tbody tr th:only-of-type {\n",
       "        vertical-align: middle;\n",
       "    }\n",
       "\n",
       "    .dataframe tbody tr th {\n",
       "        vertical-align: top;\n",
       "    }\n",
       "\n",
       "    .dataframe thead th {\n",
       "        text-align: right;\n",
       "    }\n",
       "</style>\n",
       "<table border=\"1\" class=\"dataframe\">\n",
       "  <thead>\n",
       "    <tr style=\"text-align: right;\">\n",
       "      <th></th>\n",
       "      <th>User</th>\n",
       "      <th>Repos</th>\n",
       "      <th>Languages</th>\n",
       "    </tr>\n",
       "  </thead>\n",
       "  <tbody>\n",
       "    <tr>\n",
       "      <th>0</th>\n",
       "      <td>tarruda</td>\n",
       "      <td>libmpack/libmpack,tarruda/Algoritmos,tarruda/a...</td>\n",
       "      <td>C,JavaScript,JavaScript,JavaScript,JavaScript,...</td>\n",
       "    </tr>\n",
       "    <tr>\n",
       "      <th>1</th>\n",
       "      <td>mairatma</td>\n",
       "      <td>deprecate/steel-avatar,deprecate/steel-cell-de...</td>\n",
       "      <td>CSS,CSS,HTML,CSS,HTML,CSS,JavaScript,CSS,JavaS...</td>\n",
       "    </tr>\n",
       "    <tr>\n",
       "      <th>2</th>\n",
       "      <td>joselitojunior1</td>\n",
       "      <td>acmh/maecoruja,Cisneiros/projeto-anfa,demianbo...</td>\n",
       "      <td>JavaScript,Java,Java,HTML,JavaScript,None,Java...</td>\n",
       "    </tr>\n",
       "    <tr>\n",
       "      <th>3</th>\n",
       "      <td>marcelcaraciolo</td>\n",
       "      <td>irgmedeiros/TCCRecommender,jg1141/Open-Allure-...</td>\n",
       "      <td>Python,Python,PHP,Python,Python,None,Python,Py...</td>\n",
       "    </tr>\n",
       "    <tr>\n",
       "      <th>4</th>\n",
       "      <td>luanfonceca</td>\n",
       "      <td>andrezap/analise_expressao_genica,andrezap/arv...</td>\n",
       "      <td>Java,Java,Java,Ruby,Ruby,JavaScript,JavaScript...</td>\n",
       "    </tr>\n",
       "  </tbody>\n",
       "</table>\n",
       "</div>"
      ],
      "text/plain": [
       "              User                                              Repos  \\\n",
       "0          tarruda  libmpack/libmpack,tarruda/Algoritmos,tarruda/a...   \n",
       "1         mairatma  deprecate/steel-avatar,deprecate/steel-cell-de...   \n",
       "2  joselitojunior1  acmh/maecoruja,Cisneiros/projeto-anfa,demianbo...   \n",
       "3  marcelcaraciolo  irgmedeiros/TCCRecommender,jg1141/Open-Allure-...   \n",
       "4      luanfonceca  andrezap/analise_expressao_genica,andrezap/arv...   \n",
       "\n",
       "                                           Languages  \n",
       "0  C,JavaScript,JavaScript,JavaScript,JavaScript,...  \n",
       "1  CSS,CSS,HTML,CSS,HTML,CSS,JavaScript,CSS,JavaS...  \n",
       "2  JavaScript,Java,Java,HTML,JavaScript,None,Java...  \n",
       "3  Python,Python,PHP,Python,Python,None,Python,Py...  \n",
       "4  Java,Java,Java,Ruby,Ruby,JavaScript,JavaScript...  "
      ]
     },
     "execution_count": 16,
     "metadata": {},
     "output_type": "execute_result"
    }
   ],
   "source": [
    "# Filtrando e Transformando o dataframe para dados de interesse\n",
    "\n",
    "repos_langs = pd.DataFrame({ \n",
    "    'User': users_repositories['User'],\n",
    "    'Repos': (users_repositories['Repo_Member'] +','+ users_repositories['Repo_Owner']).fillna(''),\n",
    "    'Languages': (users_repositories['mRepo_Language'] +','+ users_repositories['oRepo_Language']).fillna('')})\n",
    "repos_langs.head()"
   ]
  },
  {
   "cell_type": "markdown",
   "metadata": {},
   "source": [
    "## Repositories"
   ]
  },
  {
   "cell_type": "code",
   "execution_count": 17,
   "metadata": {
    "collapsed": false,
    "jupyter": {
     "outputs_hidden": false
    }
   },
   "outputs": [
    {
     "data": {
      "text/plain": [
       "0       [libmpack, Algoritmos, archdb, backbone-deep-m...\n",
       "1       [steel-avatar, steel-cell-deprecated, steel-dr...\n",
       "2       [maecoruja, projeto-anfa, phonegapbootcampsite...\n",
       "3       [TCCRecommender, Open-Allure-DS, apontador-api...\n",
       "4       [analise_expressao_genica, arvoresLP2, Ilicita...\n",
       "                              ...                        \n",
       "1987                                                   []\n",
       "1988                       [am, am, primeiroteste, teste]\n",
       "1989                                                   []\n",
       "1990    [WhereverIgo, RuralMaps, RuralMaps-Actionbar, ...\n",
       "1991                                                   []\n",
       "Name: Repos, Length: 1992, dtype: object"
      ]
     },
     "execution_count": 17,
     "metadata": {},
     "output_type": "execute_result"
    }
   ],
   "source": [
    "repos = repos_langs['Repos']\\\n",
    "            .apply(lambda x: str(x).split(','))\\\n",
    "            .apply(lambda x: [item[1] for item in [r.split('/') for r in x] if len(item) > 1])\n",
    "repos"
   ]
  },
  {
   "cell_type": "markdown",
   "metadata": {
    "deletable": true,
    "editable": true
   },
   "source": [
    "### Languages"
   ]
  },
  {
   "cell_type": "code",
   "execution_count": 18,
   "metadata": {
    "collapsed": false,
    "deletable": true,
    "editable": true,
    "jupyter": {
     "outputs_hidden": false
    }
   },
   "outputs": [
    {
     "data": {
      "text/plain": [
       "0    [C, JavaScript, JavaScript, JavaScript, JavaSc...\n",
       "1    [CSS, CSS, HTML, CSS, HTML, CSS, JavaScript, C...\n",
       "2    [JavaScript, Java, Java, HTML, JavaScript, Jav...\n",
       "3    [Python, Python, PHP, Python, Python, Python, ...\n",
       "4    [Java, Java, Java, Ruby, Ruby, JavaScript, Jav...\n",
       "Name: Languages, dtype: object"
      ]
     },
     "execution_count": 18,
     "metadata": {},
     "output_type": "execute_result"
    }
   ],
   "source": [
    "# Selecao de caracteristicas: vetor de linguagens\n",
    "languages = repos_langs['Languages'].apply(lambda x: list([l for l in str(x).split(',') if l!='None' and l!='']))\n",
    "languages.head()"
   ]
  },
  {
   "cell_type": "code",
   "execution_count": 19,
   "metadata": {
    "collapsed": false,
    "deletable": true,
    "editable": true,
    "jupyter": {
     "outputs_hidden": false
    }
   },
   "outputs": [
    {
     "data": {
      "text/html": [
       "<div>\n",
       "<style scoped>\n",
       "    .dataframe tbody tr th:only-of-type {\n",
       "        vertical-align: middle;\n",
       "    }\n",
       "\n",
       "    .dataframe tbody tr th {\n",
       "        vertical-align: top;\n",
       "    }\n",
       "\n",
       "    .dataframe thead th {\n",
       "        text-align: right;\n",
       "    }\n",
       "</style>\n",
       "<table border=\"1\" class=\"dataframe\">\n",
       "  <thead>\n",
       "    <tr style=\"text-align: right;\">\n",
       "      <th></th>\n",
       "      <th>Langs_Count</th>\n",
       "      <th>Langs_Count_Unique</th>\n",
       "      <th>Repos_Count</th>\n",
       "      <th>Repos_Count_Unique</th>\n",
       "    </tr>\n",
       "  </thead>\n",
       "  <tbody>\n",
       "    <tr>\n",
       "      <th>count</th>\n",
       "      <td>1992.000000</td>\n",
       "      <td>1992.000000</td>\n",
       "      <td>1992.000000</td>\n",
       "      <td>1992.000000</td>\n",
       "    </tr>\n",
       "    <tr>\n",
       "      <th>mean</th>\n",
       "      <td>5.681225</td>\n",
       "      <td>1.745984</td>\n",
       "      <td>6.834337</td>\n",
       "      <td>6.453815</td>\n",
       "    </tr>\n",
       "    <tr>\n",
       "      <th>std</th>\n",
       "      <td>13.456416</td>\n",
       "      <td>3.036317</td>\n",
       "      <td>15.509549</td>\n",
       "      <td>14.763458</td>\n",
       "    </tr>\n",
       "    <tr>\n",
       "      <th>min</th>\n",
       "      <td>0.000000</td>\n",
       "      <td>0.000000</td>\n",
       "      <td>0.000000</td>\n",
       "      <td>0.000000</td>\n",
       "    </tr>\n",
       "    <tr>\n",
       "      <th>25%</th>\n",
       "      <td>0.000000</td>\n",
       "      <td>0.000000</td>\n",
       "      <td>0.000000</td>\n",
       "      <td>0.000000</td>\n",
       "    </tr>\n",
       "    <tr>\n",
       "      <th>50%</th>\n",
       "      <td>0.000000</td>\n",
       "      <td>0.000000</td>\n",
       "      <td>0.000000</td>\n",
       "      <td>0.000000</td>\n",
       "    </tr>\n",
       "    <tr>\n",
       "      <th>75%</th>\n",
       "      <td>6.000000</td>\n",
       "      <td>3.000000</td>\n",
       "      <td>7.000000</td>\n",
       "      <td>7.000000</td>\n",
       "    </tr>\n",
       "    <tr>\n",
       "      <th>max</th>\n",
       "      <td>149.000000</td>\n",
       "      <td>19.000000</td>\n",
       "      <td>161.000000</td>\n",
       "      <td>159.000000</td>\n",
       "    </tr>\n",
       "  </tbody>\n",
       "</table>\n",
       "</div>"
      ],
      "text/plain": [
       "       Langs_Count  Langs_Count_Unique  Repos_Count  Repos_Count_Unique\n",
       "count  1992.000000         1992.000000  1992.000000         1992.000000\n",
       "mean      5.681225            1.745984     6.834337            6.453815\n",
       "std      13.456416            3.036317    15.509549           14.763458\n",
       "min       0.000000            0.000000     0.000000            0.000000\n",
       "25%       0.000000            0.000000     0.000000            0.000000\n",
       "50%       0.000000            0.000000     0.000000            0.000000\n",
       "75%       6.000000            3.000000     7.000000            7.000000\n",
       "max     149.000000           19.000000   161.000000          159.000000"
      ]
     },
     "execution_count": 19,
     "metadata": {},
     "output_type": "execute_result"
    }
   ],
   "source": [
    "# Distribuicao de tecnologias unicas/com repeticao\n",
    "\n",
    "repo_langs_df = pd.DataFrame({\n",
    " 'User': users_repositories['User'],\n",
    " 'Langs_List': languages,\n",
    " 'Langs_Count': languages.apply(len),\n",
    " 'Langs_Count_Unique': languages.apply(set).apply(len),\n",
    "    \n",
    " 'Repos_List': repos,\n",
    " 'Repos_Count': repos.apply(len),\n",
    " 'Repos_Count_Unique': repos.apply(set).apply(len)\n",
    "})\n",
    "\n",
    "repo_langs_df.describe()\n"
   ]
  },
  {
   "cell_type": "code",
   "execution_count": 51,
   "metadata": {
    "collapsed": false,
    "jupyter": {
     "outputs_hidden": false
    }
   },
   "outputs": [
    {
     "data": {
      "text/html": [
       "<div>\n",
       "<style scoped>\n",
       "    .dataframe tbody tr th:only-of-type {\n",
       "        vertical-align: middle;\n",
       "    }\n",
       "\n",
       "    .dataframe tbody tr th {\n",
       "        vertical-align: top;\n",
       "    }\n",
       "\n",
       "    .dataframe thead th {\n",
       "        text-align: right;\n",
       "    }\n",
       "</style>\n",
       "<table border=\"1\" class=\"dataframe\">\n",
       "  <thead>\n",
       "    <tr style=\"text-align: right;\">\n",
       "      <th></th>\n",
       "      <th>User</th>\n",
       "      <th>Langs_List</th>\n",
       "      <th>Langs_Count</th>\n",
       "      <th>Langs_Count_Unique</th>\n",
       "      <th>Repos_List</th>\n",
       "      <th>Repos_Count</th>\n",
       "      <th>Repos_Count_Unique</th>\n",
       "    </tr>\n",
       "  </thead>\n",
       "  <tbody>\n",
       "    <tr>\n",
       "      <th>0</th>\n",
       "      <td>tarruda</td>\n",
       "      <td>[C, JavaScript, JavaScript, JavaScript, JavaSc...</td>\n",
       "      <td>149</td>\n",
       "      <td>16</td>\n",
       "      <td>[libmpack, Algoritmos, archdb, backbone-deep-m...</td>\n",
       "      <td>157</td>\n",
       "      <td>157</td>\n",
       "    </tr>\n",
       "    <tr>\n",
       "      <th>1</th>\n",
       "      <td>mairatma</td>\n",
       "      <td>[CSS, CSS, HTML, CSS, HTML, CSS, JavaScript, C...</td>\n",
       "      <td>97</td>\n",
       "      <td>5</td>\n",
       "      <td>[steel-avatar, steel-cell-deprecated, steel-dr...</td>\n",
       "      <td>101</td>\n",
       "      <td>97</td>\n",
       "    </tr>\n",
       "    <tr>\n",
       "      <th>2</th>\n",
       "      <td>joselitojunior1</td>\n",
       "      <td>[JavaScript, Java, Java, HTML, JavaScript, Jav...</td>\n",
       "      <td>42</td>\n",
       "      <td>10</td>\n",
       "      <td>[maecoruja, projeto-anfa, phonegapbootcampsite...</td>\n",
       "      <td>58</td>\n",
       "      <td>57</td>\n",
       "    </tr>\n",
       "    <tr>\n",
       "      <th>3</th>\n",
       "      <td>marcelcaraciolo</td>\n",
       "      <td>[Python, Python, PHP, Python, Python, Python, ...</td>\n",
       "      <td>35</td>\n",
       "      <td>9</td>\n",
       "      <td>[TCCRecommender, Open-Allure-DS, apontador-api...</td>\n",
       "      <td>43</td>\n",
       "      <td>43</td>\n",
       "    </tr>\n",
       "    <tr>\n",
       "      <th>4</th>\n",
       "      <td>luanfonceca</td>\n",
       "      <td>[Java, Java, Java, Ruby, Ruby, JavaScript, Jav...</td>\n",
       "      <td>103</td>\n",
       "      <td>7</td>\n",
       "      <td>[analise_expressao_genica, arvoresLP2, Ilicita...</td>\n",
       "      <td>123</td>\n",
       "      <td>123</td>\n",
       "    </tr>\n",
       "  </tbody>\n",
       "</table>\n",
       "</div>"
      ],
      "text/plain": [
       "              User                                         Langs_List  \\\n",
       "0          tarruda  [C, JavaScript, JavaScript, JavaScript, JavaSc...   \n",
       "1         mairatma  [CSS, CSS, HTML, CSS, HTML, CSS, JavaScript, C...   \n",
       "2  joselitojunior1  [JavaScript, Java, Java, HTML, JavaScript, Jav...   \n",
       "3  marcelcaraciolo  [Python, Python, PHP, Python, Python, Python, ...   \n",
       "4      luanfonceca  [Java, Java, Java, Ruby, Ruby, JavaScript, Jav...   \n",
       "\n",
       "   Langs_Count  Langs_Count_Unique  \\\n",
       "0          149                  16   \n",
       "1           97                   5   \n",
       "2           42                  10   \n",
       "3           35                   9   \n",
       "4          103                   7   \n",
       "\n",
       "                                          Repos_List  Repos_Count  \\\n",
       "0  [libmpack, Algoritmos, archdb, backbone-deep-m...          157   \n",
       "1  [steel-avatar, steel-cell-deprecated, steel-dr...          101   \n",
       "2  [maecoruja, projeto-anfa, phonegapbootcampsite...           58   \n",
       "3  [TCCRecommender, Open-Allure-DS, apontador-api...           43   \n",
       "4  [analise_expressao_genica, arvoresLP2, Ilicita...          123   \n",
       "\n",
       "   Repos_Count_Unique  \n",
       "0                 157  \n",
       "1                  97  \n",
       "2                  57  \n",
       "3                  43  \n",
       "4                 123  "
      ]
     },
     "execution_count": 51,
     "metadata": {},
     "output_type": "execute_result"
    }
   ],
   "source": [
    "repo_langs_df.iloc[:5]"
   ]
  },
  {
   "cell_type": "code",
   "execution_count": 52,
   "metadata": {
    "collapsed": false,
    "jupyter": {
     "outputs_hidden": false
    }
   },
   "outputs": [
    {
     "data": {
      "text/html": [
       "<div>\n",
       "<style scoped>\n",
       "    .dataframe tbody tr th:only-of-type {\n",
       "        vertical-align: middle;\n",
       "    }\n",
       "\n",
       "    .dataframe tbody tr th {\n",
       "        vertical-align: top;\n",
       "    }\n",
       "\n",
       "    .dataframe thead th {\n",
       "        text-align: right;\n",
       "    }\n",
       "</style>\n",
       "<table border=\"1\" class=\"dataframe\">\n",
       "  <thead>\n",
       "    <tr style=\"text-align: right;\">\n",
       "      <th></th>\n",
       "      <th>User</th>\n",
       "      <th>Langs_List</th>\n",
       "      <th>Langs_Count</th>\n",
       "      <th>Langs_Count_Unique</th>\n",
       "      <th>Repos_List</th>\n",
       "      <th>Repos_Count</th>\n",
       "      <th>Repos_Count_Unique</th>\n",
       "    </tr>\n",
       "  </thead>\n",
       "  <tbody>\n",
       "    <tr>\n",
       "      <th>30</th>\n",
       "      <td>pcstl</td>\n",
       "      <td>[CSS, Processing, Python, C#, Objective-C, Pyt...</td>\n",
       "      <td>41</td>\n",
       "      <td>19</td>\n",
       "      <td>[analisecandidatos, hackathonmj, triangle_visu...</td>\n",
       "      <td>45</td>\n",
       "      <td>44</td>\n",
       "    </tr>\n",
       "    <tr>\n",
       "      <th>484</th>\n",
       "      <td>lgallindo</td>\n",
       "      <td>[CSS, R, R, R, R, R, C, R, HTML, Shell, Python...</td>\n",
       "      <td>75</td>\n",
       "      <td>18</td>\n",
       "      <td>[MapaExpo2016, CosW, SecKW, SinIW, TanB, abjDa...</td>\n",
       "      <td>84</td>\n",
       "      <td>84</td>\n",
       "    </tr>\n",
       "    <tr>\n",
       "      <th>101</th>\n",
       "      <td>itsmealves</td>\n",
       "      <td>[Python, JavaScript, Java, Vim script, CSS, Ja...</td>\n",
       "      <td>54</td>\n",
       "      <td>17</td>\n",
       "      <td>[Django_eh_massa, SINS-WEB, DI_progs, .vim, 20...</td>\n",
       "      <td>62</td>\n",
       "      <td>62</td>\n",
       "    </tr>\n",
       "    <tr>\n",
       "      <th>82</th>\n",
       "      <td>yelken</td>\n",
       "      <td>[PHP, CSS, Arduino, Python, Objective-C, HTML,...</td>\n",
       "      <td>62</td>\n",
       "      <td>17</td>\n",
       "      <td>[startuppe-representmap, academiadacidade, Sky...</td>\n",
       "      <td>99</td>\n",
       "      <td>99</td>\n",
       "    </tr>\n",
       "    <tr>\n",
       "      <th>0</th>\n",
       "      <td>tarruda</td>\n",
       "      <td>[C, JavaScript, JavaScript, JavaScript, JavaSc...</td>\n",
       "      <td>149</td>\n",
       "      <td>16</td>\n",
       "      <td>[libmpack, Algoritmos, archdb, backbone-deep-m...</td>\n",
       "      <td>157</td>\n",
       "      <td>157</td>\n",
       "    </tr>\n",
       "    <tr>\n",
       "      <th>...</th>\n",
       "      <td>...</td>\n",
       "      <td>...</td>\n",
       "      <td>...</td>\n",
       "      <td>...</td>\n",
       "      <td>...</td>\n",
       "      <td>...</td>\n",
       "      <td>...</td>\n",
       "    </tr>\n",
       "    <tr>\n",
       "      <th>218</th>\n",
       "      <td>pernambucano</td>\n",
       "      <td>[Python, Python, Python, Jupyter Notebook, Jav...</td>\n",
       "      <td>33</td>\n",
       "      <td>8</td>\n",
       "      <td>[MineracaoWeb, webproject, BDs-Inteligentes-Pr...</td>\n",
       "      <td>39</td>\n",
       "      <td>39</td>\n",
       "    </tr>\n",
       "    <tr>\n",
       "      <th>1031</th>\n",
       "      <td>carlossilvamelo</td>\n",
       "      <td>[Java, HTML, Assembly, CSS, Java, Java, HTML, ...</td>\n",
       "      <td>19</td>\n",
       "      <td>8</td>\n",
       "      <td>[projetoPDS, 2UD, arqsoft, bancodados, bootLoa...</td>\n",
       "      <td>24</td>\n",
       "      <td>24</td>\n",
       "    </tr>\n",
       "    <tr>\n",
       "      <th>128</th>\n",
       "      <td>TigerRobocop</td>\n",
       "      <td>[Java, Python, CSS, Kotlin, Java, Java, Java, ...</td>\n",
       "      <td>44</td>\n",
       "      <td>8</td>\n",
       "      <td>[hackmobile-tw, 30-Days-of-Python, Andre-Portf...</td>\n",
       "      <td>44</td>\n",
       "      <td>44</td>\n",
       "    </tr>\n",
       "    <tr>\n",
       "      <th>130</th>\n",
       "      <td>gabrieldluca</td>\n",
       "      <td>[JavaScript, HTML, Python, Swift, Python, Swif...</td>\n",
       "      <td>11</td>\n",
       "      <td>8</td>\n",
       "      <td>[Culturally, FSI_Apresentacao, bird-migration,...</td>\n",
       "      <td>11</td>\n",
       "      <td>11</td>\n",
       "    </tr>\n",
       "    <tr>\n",
       "      <th>185</th>\n",
       "      <td>albertmourato</td>\n",
       "      <td>[Java, Java, Java, C#, C#, Java, Python, Java,...</td>\n",
       "      <td>27</td>\n",
       "      <td>8</td>\n",
       "      <td>[ProjetoPG-2, sharkattacks-visualizacao-2018-1...</td>\n",
       "      <td>32</td>\n",
       "      <td>31</td>\n",
       "    </tr>\n",
       "  </tbody>\n",
       "</table>\n",
       "<p>100 rows × 7 columns</p>\n",
       "</div>"
      ],
      "text/plain": [
       "                 User                                         Langs_List  \\\n",
       "30              pcstl  [CSS, Processing, Python, C#, Objective-C, Pyt...   \n",
       "484         lgallindo  [CSS, R, R, R, R, R, C, R, HTML, Shell, Python...   \n",
       "101        itsmealves  [Python, JavaScript, Java, Vim script, CSS, Ja...   \n",
       "82             yelken  [PHP, CSS, Arduino, Python, Objective-C, HTML,...   \n",
       "0             tarruda  [C, JavaScript, JavaScript, JavaScript, JavaSc...   \n",
       "...               ...                                                ...   \n",
       "218      pernambucano  [Python, Python, Python, Jupyter Notebook, Jav...   \n",
       "1031  carlossilvamelo  [Java, HTML, Assembly, CSS, Java, Java, HTML, ...   \n",
       "128      TigerRobocop  [Java, Python, CSS, Kotlin, Java, Java, Java, ...   \n",
       "130      gabrieldluca  [JavaScript, HTML, Python, Swift, Python, Swif...   \n",
       "185     albertmourato  [Java, Java, Java, C#, C#, Java, Python, Java,...   \n",
       "\n",
       "      Langs_Count  Langs_Count_Unique  \\\n",
       "30             41                  19   \n",
       "484            75                  18   \n",
       "101            54                  17   \n",
       "82             62                  17   \n",
       "0             149                  16   \n",
       "...           ...                 ...   \n",
       "218            33                   8   \n",
       "1031           19                   8   \n",
       "128            44                   8   \n",
       "130            11                   8   \n",
       "185            27                   8   \n",
       "\n",
       "                                             Repos_List  Repos_Count  \\\n",
       "30    [analisecandidatos, hackathonmj, triangle_visu...           45   \n",
       "484   [MapaExpo2016, CosW, SecKW, SinIW, TanB, abjDa...           84   \n",
       "101   [Django_eh_massa, SINS-WEB, DI_progs, .vim, 20...           62   \n",
       "82    [startuppe-representmap, academiadacidade, Sky...           99   \n",
       "0     [libmpack, Algoritmos, archdb, backbone-deep-m...          157   \n",
       "...                                                 ...          ...   \n",
       "218   [MineracaoWeb, webproject, BDs-Inteligentes-Pr...           39   \n",
       "1031  [projetoPDS, 2UD, arqsoft, bancodados, bootLoa...           24   \n",
       "128   [hackmobile-tw, 30-Days-of-Python, Andre-Portf...           44   \n",
       "130   [Culturally, FSI_Apresentacao, bird-migration,...           11   \n",
       "185   [ProjetoPG-2, sharkattacks-visualizacao-2018-1...           32   \n",
       "\n",
       "      Repos_Count_Unique  \n",
       "30                    44  \n",
       "484                   84  \n",
       "101                   62  \n",
       "82                    99  \n",
       "0                    157  \n",
       "...                  ...  \n",
       "218                   39  \n",
       "1031                  24  \n",
       "128                   44  \n",
       "130                   11  \n",
       "185                   31  \n",
       "\n",
       "[100 rows x 7 columns]"
      ]
     },
     "execution_count": 52,
     "metadata": {},
     "output_type": "execute_result"
    }
   ],
   "source": [
    "repo_langs_df.sort_values(ascending=False, by=\"Langs_Count_Unique\")[0:100]"
   ]
  },
  {
   "cell_type": "code",
   "execution_count": null,
   "metadata": {
    "collapsed": true,
    "jupyter": {
     "outputs_hidden": true
    }
   },
   "outputs": [],
   "source": []
  },
  {
   "cell_type": "code",
   "execution_count": 53,
   "metadata": {
    "collapsed": false,
    "deletable": true,
    "editable": true,
    "jupyter": {
     "outputs_hidden": false
    }
   },
   "outputs": [
    {
     "data": {
      "image/png": "[encoded data removed]",
      "text/plain": [
       "<Figure size 640x480 with 1 Axes>"
      ]
     },
     "metadata": {},
     "output_type": "display_data"
    }
   ],
   "source": [
    "repo_langs_df[['Langs_Count', 'Langs_Count_Unique']][:100].plot.hist(bins=100);"
   ]
  },
  {
   "cell_type": "code",
   "execution_count": null,
   "metadata": {
    "collapsed": true,
    "jupyter": {
     "outputs_hidden": true
    }
   },
   "outputs": [],
   "source": []
  },
  {
   "cell_type": "code",
   "execution_count": 54,
   "metadata": {
    "collapsed": false,
    "jupyter": {
     "outputs_hidden": false
    }
   },
   "outputs": [
    {
     "data": {
      "image/png": "[encoded data removed]",
      "text/plain": [
       "<Figure size 640x480 with 1 Axes>"
      ]
     },
     "metadata": {},
     "output_type": "display_data"
    }
   ],
   "source": [
    "repo_langs_df[['Repos_Count', 'Repos_Count_Unique']][:100].plot.hist(bins=100);"
   ]
  },
  {
   "cell_type": "code",
   "execution_count": null,
   "metadata": {
    "collapsed": true,
    "jupyter": {
     "outputs_hidden": true
    }
   },
   "outputs": [],
   "source": []
  },
  {
   "cell_type": "code",
   "execution_count": 55,
   "metadata": {
    "collapsed": false,
    "jupyter": {
     "outputs_hidden": false
    }
   },
   "outputs": [
    {
     "data": {
      "image/png": "[encoded data removed]",
      "text/plain": [
       "<Figure size 640x480 with 1 Axes>"
      ]
     },
     "metadata": {},
     "output_type": "display_data"
    }
   ],
   "source": [
    "# Qtd pessoas x qtd de tecnologias unicas\n",
    "repo_langs_df[:100].plot.scatter(x=\"Langs_Count\", y=\"Langs_Count_Unique\");"
   ]
  },
  {
   "cell_type": "code",
   "execution_count": null,
   "metadata": {
    "collapsed": true,
    "jupyter": {
     "outputs_hidden": true
    }
   },
   "outputs": [],
   "source": []
  },
  {
   "cell_type": "code",
   "execution_count": 56,
   "metadata": {
    "collapsed": false,
    "jupyter": {
     "outputs_hidden": false
    }
   },
   "outputs": [
    {
     "data": {
      "image/png": "[encoded data removed]",
      "text/plain": [
       "<Figure size 640x480 with 1 Axes>"
      ]
     },
     "metadata": {},
     "output_type": "display_data"
    }
   ],
   "source": [
    "repo_langs_df[:100].plot.scatter(x=\"Repos_Count\", y=\"Repos_Count_Unique\");"
   ]
  },
  {
   "cell_type": "code",
   "execution_count": 57,
   "metadata": {
    "collapsed": false,
    "jupyter": {
     "outputs_hidden": false
    }
   },
   "outputs": [
    {
     "data": {
      "text/plain": [
       "array([149,  97,  42,  35, 103,  14,  58,  24,  44,  31,  46,   0,  26,\n",
       "       132, 102,  34,  62,  66,  41,  16,  22,  15,  38,  43,  21, 114,\n",
       "        54,  71,  19,  17,  23,  29,  32,  68,  20,  11,  18,  50, 106,\n",
       "        45,  13,  27,  56,  39,  57,   9,  94,  25,  61,  69,   8,  12,\n",
       "        49,  36,  33,  47,  28,   7,   4,  48,  40,   3,  81,   5,   6,\n",
       "        10,  60, 145,   2,  30,  75,  79,   1,  96,  84])"
      ]
     },
     "execution_count": 57,
     "metadata": {},
     "output_type": "execute_result"
    }
   ],
   "source": [
    "repo_langs_df.Langs_Count.unique()"
   ]
  },
  {
   "cell_type": "code",
   "execution_count": 58,
   "metadata": {
    "collapsed": false,
    "jupyter": {
     "outputs_hidden": false
    }
   },
   "outputs": [
    {
     "data": {
      "text/plain": [
       "array([157, 101,  58,  43, 123,  22,  69,  42,  45,  36,  57,   0,  31,\n",
       "       149, 117,  39,  71,  77,  44,  52,  18,  23,  21, 120,  49,  61,\n",
       "        74,  70,  88,  19,  48,  33,  78,  65,  14,  40,  47,  66, 112,\n",
       "        35,  51,  29,  34,  54,  30,  68,   9,  16, 105,  26,  20,  99,\n",
       "        75,  32,  79,   8,  12,  62,  25,  17,  11,  24,  55,  59,  10,\n",
       "         4,  50,   3,  84,   6,  13,  28,  27,  60,  15, 161,   5,   7,\n",
       "        38,  37,  41,   2,  85, 114, 104, 102])"
      ]
     },
     "execution_count": 58,
     "metadata": {},
     "output_type": "execute_result"
    }
   ],
   "source": [
    "repo_langs_df.Repos_Count.unique()"
   ]
  },
  {
   "cell_type": "code",
   "execution_count": 59,
   "metadata": {
    "collapsed": false,
    "jupyter": {
     "outputs_hidden": false
    }
   },
   "outputs": [
    {
     "data": {
      "image/png": "[encoded data removed]",
      "text/plain": [
       "<Figure size 640x480 with 1 Axes>"
      ]
     },
     "metadata": {},
     "output_type": "display_data"
    }
   ],
   "source": [
    "repo_langs_df[:100].plot.scatter(x=\"Langs_Count\", y=\"Repos_Count\");"
   ]
  },
  {
   "cell_type": "code",
   "execution_count": 60,
   "metadata": {
    "collapsed": false,
    "jupyter": {
     "outputs_hidden": false
    }
   },
   "outputs": [
    {
     "data": {
      "image/png": "[encoded data removed]",
      "text/plain": [
       "<Figure size 640x480 with 1 Axes>"
      ]
     },
     "metadata": {},
     "output_type": "display_data"
    }
   ],
   "source": [
    "repo_langs_df[:100].plot.scatter(x=\"Langs_Count_Unique\", y=\"Repos_Count_Unique\");"
   ]
  },
  {
   "cell_type": "markdown",
   "metadata": {
    "deletable": true,
    "editable": true
   },
   "source": [
    "## Construindo o dicionario de linguagens: tokens"
   ]
  },
  {
   "cell_type": "code",
   "execution_count": 61,
   "metadata": {
    "collapsed": false,
    "jupyter": {
     "outputs_hidden": false
    }
   },
   "outputs": [
    {
     "name": "stdout",
     "output_type": "stream",
     "text": [
      "Number of unique words: 10826\n",
      "Dictionary<10826 unique tokens: ['Algoritmos', 'CodeMirror', 'DefinitelyTyped', 'MaidSafe', 'MemoryModule']...>\n"
     ]
    }
   ],
   "source": [
    "#  building langs dictionary\n",
    "repos_dictionary = Dictionary(repos)\n",
    "\n",
    "print(\"Number of unique words: %d\" % len(repos_dictionary))\n",
    "print(repos_dictionary)"
   ]
  },
  {
   "cell_type": "code",
   "execution_count": 62,
   "metadata": {
    "collapsed": false,
    "jupyter": {
     "outputs_hidden": false
    }
   },
   "outputs": [
    {
     "name": "stdout",
     "output_type": "stream",
     "text": [
      "[\"('Algoritmos', 0)\", \"('CodeMirror', 1)\", \"('DefinitelyTyped', 2)\", \"('MaidSafe', 3)\", \"('MemoryModule', 4)\"]\n"
     ]
    }
   ],
   "source": [
    "repo_terms = repos_dictionary.token2id\n",
    "print([repr(x) for x in repo_terms.items()][:5])"
   ]
  },
  {
   "cell_type": "code",
   "execution_count": 63,
   "metadata": {
    "collapsed": false,
    "deletable": true,
    "editable": true,
    "jupyter": {
     "outputs_hidden": false
    }
   },
   "outputs": [
    {
     "name": "stdout",
     "output_type": "stream",
     "text": [
      "Number of unique words: 99\n",
      "Dictionary<99 unique tokens: ['C', 'C++', 'CMake', 'CoffeeScript', 'HTML']...>\n"
     ]
    }
   ],
   "source": [
    "#  building dictionary based on languages dataset\n",
    "dictionary = Dictionary(languages)\n",
    "print(\"Number of unique words: %d\" % len(dictionary))\n",
    "print(dictionary)\n"
   ]
  },
  {
   "cell_type": "code",
   "execution_count": 64,
   "metadata": {
    "collapsed": false,
    "jupyter": {
     "outputs_hidden": false
    }
   },
   "outputs": [
    {
     "name": "stdout",
     "output_type": "stream",
     "text": [
      "{'C': 0, 'C++': 1, 'CMake': 2, 'CoffeeScript': 3, 'HTML': 4, 'Haskell': 5, 'Java': 6, 'JavaScript': 7, 'Lua': 8, 'Makefile': 9, 'Perl': 10, 'Python': 11, 'Ruby': 12, 'Shell': 13, 'TypeScript': 14, 'VimL': 15, 'CSS': 16, 'GCC Machine Description': 17, 'Go': 18, 'PHP': 19, 'Objective-C': 20, 'Jupyter Notebook': 21, 'Vue': 22, 'Matlab': 23, 'Vim script': 24, 'XML': 25, 'ActionScript': 26, 'C#': 27, 'D': 28, 'Swift': 29, 'TeX': 30, 'Assembly': 31, 'Cucumber': 32, 'Groovy': 33, 'R': 34, 'FreeMarker': 35, 'PostScript': 36, 'VHDL': 37, 'Verilog': 38, 'Scala': 39, 'Kotlin': 40, 'Web Ontology Language': 41, 'Handlebars': 42, 'Arduino': 43, 'Eagle': 44, 'KiCad': 45, 'Elixir': 46, 'Elm': 47, 'Emacs Lisp': 48, 'NSIS': 49, 'Processing': 50, 'Rust': 51, 'Prolog': 52, 'Scheme': 53, 'Gherkin': 54, 'Clojure': 55, 'HCL': 56, 'Haxe': 57, 'NewLisp': 58, 'Common Lisp': 59, 'DOT': 60, 'XSLT': 61, 'PowerShell': 62, 'Erlang': 63, 'Puppet': 64, 'ApacheConf': 65, 'PLpgSQL': 66, 'Racket': 67, 'Crystal': 68, 'Visual Basic': 69, 'QMake': 70, 'Julia': 71, 'OpenSCAD': 72, 'DIGITAL Command Language': 73, 'Pure Data': 74, 'SystemVerilog': 75, 'PLSQL': 76, 'Vala': 77, 'Mathematica': 78, 'Gettext Catalog': 79, 'Pascal': 80, 'Roff': 81, 'OpenEdge ABL': 82, 'Standard ML': 83, 'OCaml': 84, 'Tcl': 85, 'MQL5': 86, 'Zimpl': 87, 'Nginx': 88, 'Groff': 89, 'Bison': 90, 'UrWeb': 91, 'Xtend': 92, 'Lex': 93, 'Isabelle': 94, 'ASP': 95, 'API Blueprint': 96, 'Dart': 97, 'COBOL': 98}\n"
     ]
    }
   ],
   "source": [
    "# Com o dicionario de tokens é possivel criar um dataframe com os valores do tf-idf de linguagens pra cada usuario\n",
    "lang_terms = dictionary.token2id\n",
    "print(lang_terms)"
   ]
  },
  {
   "cell_type": "markdown",
   "metadata": {
    "deletable": true,
    "editable": true
   },
   "source": [
    "## Features: TF-IDF (TermFrequency-InverseDocumentFrequency)\n",
    "\n",
    "Iremos aplicar o modelo de tf-idf, já que queremos dar foco no peso da tecnologia por pessoa (frequencia que a tecnologia aparece) tendo em vista que que a ocorrencia da tecnologia não é muito comum entre todos os usuários. \n",
    "\n",
    "Metricas do github: Users by Languages\n",
    "* [373  ",
    " Java](https://github.com/search?l=Java&q=location%3ARecife&type=Users ",
    ")\n",
    "* [256  ",
    " JavaScript](https://github.com/search?l=JavaScript&q=location%3ARecife&type=Users ",
    ")\n",
    "* [165 ",
    "Python](https://github.com/search?l=Python&q=location%3ARecife&type=Users ",
    ")\n",
    "* [126 ",
    "HTML](https://github.com/search?l=HTML&q=location%3ARecife&type=Users ",
    ")\n",
    "* [103 ",
    "PHP](https://github.com/search?l=PHP&q=location%3ARecife&type=Users ",
    ")\n",
    "* [77 ",
    "Ruby](https://github.com/search?l=Ruby&q=location%3ARecife&type=Users ",
    ")\n",
    "* [72 ",
    "CSS](https://github.com/search?l=CSS&q=location%3ARecife&type=Users ",
    ")\n",
    "* [54 ",
    "C](https://github.com/search?l=C&q=location%3ARecife&type=Users ",
    ")\n",
    "* [41 ",
    "C++](https://github.com/search?l=C%2B%2B&q=location%3ARecife&type=Users ",
    ")\n",
    "* [39 ",
    "C#](https://github.com/search?l=C%23&q=location%3ARecife&type=Users)\n",
    "\n",
    "O idf é necesario para normalizar os valores.\n",
    "\n",
    "Na análise abaixo podemos checar a nossa hipótese"
   ]
  },
  {
   "cell_type": "code",
   "execution_count": 65,
   "metadata": {
    "collapsed": false,
    "deletable": true,
    "editable": true,
    "jupyter": {
     "outputs_hidden": false
    }
   },
   "outputs": [
    {
     "data": {
      "text/plain": [
       "<gensim.models.tfidfmodel.TfidfModel at 0x13726de70>"
      ]
     },
     "execution_count": 65,
     "metadata": {},
     "output_type": "execute_result"
    }
   ],
   "source": [
    "# Traing Model for predicions(similaridade): tf-idf\\\n",
    "tfidf = TfidfModel(dictionary=dictionary)\n",
    "tfidf"
   ]
  },
  {
   "cell_type": "code",
   "execution_count": null,
   "metadata": {
    "collapsed": false,
    "deletable": true,
    "editable": true,
    "jupyter": {
     "outputs_hidden": false
    }
   },
   "outputs": [],
   "source": []
  },
  {
   "cell_type": "code",
   "execution_count": 66,
   "metadata": {
    "collapsed": false,
    "deletable": true,
    "editable": true,
    "jupyter": {
     "outputs_hidden": false
    }
   },
   "outputs": [
    {
     "data": {
      "text/plain": [
       "['C',\n",
       " 'C++',\n",
       " 'CMake',\n",
       " 'CoffeeScript',\n",
       " 'HTML',\n",
       " 'Haskell',\n",
       " 'Java',\n",
       " 'JavaScript',\n",
       " 'Lua',\n",
       " 'Makefile']"
      ]
     },
     "execution_count": 66,
     "metadata": {},
     "output_type": "execute_result"
    }
   ],
   "source": [
    "\n",
    "lang_terms_list = list(lang_terms)\n",
    "lang_terms_list[:10]"
   ]
  },
  {
   "cell_type": "markdown",
   "metadata": {
    "deletable": true,
    "editable": true
   },
   "source": [
    "** Verificando hipotese: new_doc é nosso projeto alvo **\n",
    "\n",
    "Vamos configurar um novo conjunto de techs(new_doc) para encontrar usuarios compatíveis.\n"
   ]
  },
  {
   "cell_type": "code",
   "execution_count": 67,
   "metadata": {
    "collapsed": false,
    "deletable": true,
    "editable": true,
    "jupyter": {
     "outputs_hidden": false
    }
   },
   "outputs": [
    {
     "data": {
      "text/plain": [
       "[(0, 1), (1, 1), (7, 5), (8, 1), (11, 1)]"
      ]
     },
     "execution_count": 67,
     "metadata": {},
     "output_type": "execute_result"
    }
   ],
   "source": [
    "# Novo Dado a ser rankeado\n",
    "new_doc = ['JavaScript','JavaScript','Python','JavaScript','JavaScript','C++','JavaScript','Lua','C'] # novo exemplo\n",
    "\n",
    "# Transformando novo exemplo em vetor de (TF) legend = (lang_nr, freq)\n",
    "new_vec = dictionary.doc2bow(new_doc) # term frequency vector\n",
    "new_vec"
   ]
  },
  {
   "cell_type": "code",
   "execution_count": 68,
   "metadata": {
    "collapsed": false,
    "deletable": true,
    "editable": true,
    "jupyter": {
     "outputs_hidden": false
    }
   },
   "outputs": [
    {
     "data": {
      "text/plain": [
       "[(0, 0.25642150351992826),\n",
       " (1, 0.2662231783141811),\n",
       " (7, 0.7677013457090224),\n",
       " (8, 0.4890197974947278),\n",
       " (11, 0.1867284480620099)]"
      ]
     },
     "execution_count": 68,
     "metadata": {},
     "output_type": "execute_result"
    }
   ],
   "source": [
    "# É facil ver que o valor estimado para o termo 7=Javascript é maior\n",
    "\n",
    "new_vec_tfidf = tfidf[new_vec] # Valor do tfidf pra cada termo em new_vec\n",
    "new_vec_tfidf"
   ]
  },
  {
   "cell_type": "code",
   "execution_count": 69,
   "metadata": {
    "collapsed": false,
    "deletable": true,
    "editable": true,
    "jupyter": {
     "outputs_hidden": false
    }
   },
   "outputs": [
    {
     "data": {
      "text/html": [
       "<div>\n",
       "<style scoped>\n",
       "    .dataframe tbody tr th:only-of-type {\n",
       "        vertical-align: middle;\n",
       "    }\n",
       "\n",
       "    .dataframe tbody tr th {\n",
       "        vertical-align: top;\n",
       "    }\n",
       "\n",
       "    .dataframe thead th {\n",
       "        text-align: right;\n",
       "    }\n",
       "</style>\n",
       "<table border=\"1\" class=\"dataframe\">\n",
       "  <thead>\n",
       "    <tr style=\"text-align: right;\">\n",
       "      <th></th>\n",
       "      <th>C</th>\n",
       "      <th>C++</th>\n",
       "      <th>JavaScript</th>\n",
       "      <th>Lua</th>\n",
       "      <th>Python</th>\n",
       "    </tr>\n",
       "  </thead>\n",
       "  <tbody>\n",
       "    <tr>\n",
       "      <th>0</th>\n",
       "      <td>1</td>\n",
       "      <td>1</td>\n",
       "      <td>5</td>\n",
       "      <td>1</td>\n",
       "      <td>1</td>\n",
       "    </tr>\n",
       "  </tbody>\n",
       "</table>\n",
       "</div>"
      ],
      "text/plain": [
       "   C  C++  JavaScript  Lua  Python\n",
       "0  1    1           5    1       1"
      ]
     },
     "execution_count": 69,
     "metadata": {},
     "output_type": "execute_result"
    }
   ],
   "source": [
    "keys, values = zip(*new_vec)\n",
    "freq_vector = pd.DataFrame([values],columns=[(lang_terms_list[idx]) for idx in keys])\n",
    "freq_vector "
   ]
  },
  {
   "cell_type": "code",
   "execution_count": 70,
   "metadata": {
    "collapsed": false,
    "deletable": true,
    "editable": true,
    "jupyter": {
     "outputs_hidden": false
    }
   },
   "outputs": [
    {
     "data": {
      "text/plain": [
       "[[(0, 11),\n",
       "  (1, 13),\n",
       "  (2, 1),\n",
       "  (3, 13),\n",
       "  (4, 2),\n",
       "  (5, 1),\n",
       "  (6, 3),\n",
       "  (7, 67),\n",
       "  (8, 5),\n",
       "  (9, 1),\n",
       "  (10, 1),\n",
       "  (11, 14),\n",
       "  (12, 3),\n",
       "  (13, 4),\n",
       "  (14, 2),\n",
       "  (15, 8)],\n",
       " [(4, 7), (6, 1), (7, 81), (14, 2), (16, 6)]]"
      ]
     },
     "execution_count": 70,
     "metadata": {},
     "output_type": "execute_result"
    }
   ],
   "source": [
    "# Codificamos assim cada usuario pra seu vetor tf->\n",
    "# Transforming dataset values\n",
    "# vetor de frequencia de palavras = techs freq\n",
    "\n",
    "bow_corpus = [dictionary.doc2bow(text) for text in languages] # frequency vector for all languages dataset\n",
    "bow_corpus[:2]"
   ]
  },
  {
   "cell_type": "code",
   "execution_count": 71,
   "metadata": {
    "collapsed": false,
    "deletable": true,
    "editable": true,
    "jupyter": {
     "outputs_hidden": false
    }
   },
   "outputs": [
    {
     "data": {
      "text/html": [
       "<div>\n",
       "<style scoped>\n",
       "    .dataframe tbody tr th:only-of-type {\n",
       "        vertical-align: middle;\n",
       "    }\n",
       "\n",
       "    .dataframe tbody tr th {\n",
       "        vertical-align: top;\n",
       "    }\n",
       "\n",
       "    .dataframe thead th {\n",
       "        text-align: right;\n",
       "    }\n",
       "</style>\n",
       "<table border=\"1\" class=\"dataframe\">\n",
       "  <thead>\n",
       "    <tr style=\"text-align: right;\">\n",
       "      <th></th>\n",
       "      <th>User</th>\n",
       "      <th>Langs_List</th>\n",
       "      <th>Langs_Count</th>\n",
       "      <th>Langs_Count_Unique</th>\n",
       "      <th>Repos_List</th>\n",
       "      <th>Repos_Count</th>\n",
       "      <th>Repos_Count_Unique</th>\n",
       "      <th>Lang_corpus</th>\n",
       "      <th>Lang_corpus_df</th>\n",
       "    </tr>\n",
       "  </thead>\n",
       "  <tbody>\n",
       "    <tr>\n",
       "      <th>0</th>\n",
       "      <td>tarruda</td>\n",
       "      <td>[C, JavaScript, JavaScript, JavaScript, JavaSc...</td>\n",
       "      <td>149</td>\n",
       "      <td>16</td>\n",
       "      <td>[libmpack, Algoritmos, archdb, backbone-deep-m...</td>\n",
       "      <td>157</td>\n",
       "      <td>157</td>\n",
       "      <td>[(7, 67), (11, 14), (1, 13), (3, 13), (0, 11),...</td>\n",
       "      <td>JavaScript  Python  C++  CoffeeScript   C  ...</td>\n",
       "    </tr>\n",
       "    <tr>\n",
       "      <th>1</th>\n",
       "      <td>mairatma</td>\n",
       "      <td>[CSS, CSS, HTML, CSS, HTML, CSS, JavaScript, C...</td>\n",
       "      <td>97</td>\n",
       "      <td>5</td>\n",
       "      <td>[steel-avatar, steel-cell-deprecated, steel-dr...</td>\n",
       "      <td>101</td>\n",
       "      <td>97</td>\n",
       "      <td>[(7, 81), (4, 7), (16, 6), (14, 2), (6, 1)]</td>\n",
       "      <td>JavaScript  HTML  CSS  TypeScript  Java\n",
       "0  ...</td>\n",
       "    </tr>\n",
       "    <tr>\n",
       "      <th>2</th>\n",
       "      <td>joselitojunior1</td>\n",
       "      <td>[JavaScript, Java, Java, HTML, JavaScript, Jav...</td>\n",
       "      <td>42</td>\n",
       "      <td>10</td>\n",
       "      <td>[maecoruja, projeto-anfa, phonegapbootcampsite...</td>\n",
       "      <td>58</td>\n",
       "      <td>57</td>\n",
       "      <td>[(4, 13), (7, 13), (16, 4), (6, 3), (19, 3), (...</td>\n",
       "      <td>HTML  JavaScript  CSS  Java  PHP  TypeScrip...</td>\n",
       "    </tr>\n",
       "    <tr>\n",
       "      <th>3</th>\n",
       "      <td>marcelcaraciolo</td>\n",
       "      <td>[Python, Python, PHP, Python, Python, Python, ...</td>\n",
       "      <td>35</td>\n",
       "      <td>9</td>\n",
       "      <td>[TCCRecommender, Open-Allure-DS, apontador-api...</td>\n",
       "      <td>43</td>\n",
       "      <td>43</td>\n",
       "      <td>[(11, 27), (0, 1), (7, 1), (10, 1), (12, 1), (...</td>\n",
       "      <td>Python  C  JavaScript  Perl  Ruby  Shell  C...</td>\n",
       "    </tr>\n",
       "    <tr>\n",
       "      <th>4</th>\n",
       "      <td>luanfonceca</td>\n",
       "      <td>[Java, Java, Java, Ruby, Ruby, JavaScript, Jav...</td>\n",
       "      <td>103</td>\n",
       "      <td>7</td>\n",
       "      <td>[analise_expressao_genica, arvoresLP2, Ilicita...</td>\n",
       "      <td>123</td>\n",
       "      <td>123</td>\n",
       "      <td>[(11, 55), (7, 25), (16, 9), (12, 6), (6, 5), ...</td>\n",
       "      <td>Python  JavaScript  CSS  Ruby  Java  HTML  ...</td>\n",
       "    </tr>\n",
       "  </tbody>\n",
       "</table>\n",
       "</div>"
      ],
      "text/plain": [
       "              User                                         Langs_List  \\\n",
       "0          tarruda  [C, JavaScript, JavaScript, JavaScript, JavaSc...   \n",
       "1         mairatma  [CSS, CSS, HTML, CSS, HTML, CSS, JavaScript, C...   \n",
       "2  joselitojunior1  [JavaScript, Java, Java, HTML, JavaScript, Jav...   \n",
       "3  marcelcaraciolo  [Python, Python, PHP, Python, Python, Python, ...   \n",
       "4      luanfonceca  [Java, Java, Java, Ruby, Ruby, JavaScript, Jav...   \n",
       "\n",
       "   Langs_Count  Langs_Count_Unique  \\\n",
       "0          149                  16   \n",
       "1           97                   5   \n",
       "2           42                  10   \n",
       "3           35                   9   \n",
       "4          103                   7   \n",
       "\n",
       "                                          Repos_List  Repos_Count  \\\n",
       "0  [libmpack, Algoritmos, archdb, backbone-deep-m...          157   \n",
       "1  [steel-avatar, steel-cell-deprecated, steel-dr...          101   \n",
       "2  [maecoruja, projeto-anfa, phonegapbootcampsite...           58   \n",
       "3  [TCCRecommender, Open-Allure-DS, apontador-api...           43   \n",
       "4  [analise_expressao_genica, arvoresLP2, Ilicita...          123   \n",
       "\n",
       "   Repos_Count_Unique                                        Lang_corpus  \\\n",
       "0                 157  [(7, 67), (11, 14), (1, 13), (3, 13), (0, 11),...   \n",
       "1                  97        [(7, 81), (4, 7), (16, 6), (14, 2), (6, 1)]   \n",
       "2                  57  [(4, 13), (7, 13), (16, 4), (6, 3), (19, 3), (...   \n",
       "3                  43  [(11, 27), (0, 1), (7, 1), (10, 1), (12, 1), (...   \n",
       "4                 123  [(11, 55), (7, 25), (16, 9), (12, 6), (6, 5), ...   \n",
       "\n",
       "                                      Lang_corpus_df  \n",
       "0     JavaScript  Python  C++  CoffeeScript   C  ...  \n",
       "1     JavaScript  HTML  CSS  TypeScript  Java\n",
       "0  ...  \n",
       "2     HTML  JavaScript  CSS  Java  PHP  TypeScrip...  \n",
       "3     Python  C  JavaScript  Perl  Ruby  Shell  C...  \n",
       "4     Python  JavaScript  CSS  Ruby  Java  HTML  ...  "
      ]
     },
     "execution_count": 71,
     "metadata": {},
     "output_type": "execute_result"
    }
   ],
   "source": [
    "# Cria dataframe com o freq-terms\n",
    "\n",
    "repo_langs_df['Lang_corpus'] = repo_langs_df['Langs_List'] \\\n",
    "                                .apply(dictionary.doc2bow)\\\n",
    "                                .apply(lambda x: sorted(x, key=lambda lang_term: lang_term[1], reverse=True))\n",
    "\n",
    "repo_langs_df['Lang_corpus_df'] = repo_langs_df['Lang_corpus'] \\\n",
    "                                    .apply(lambda x: list(zip(*x))) \\\n",
    "                                    .apply(lambda x: pd.DataFrame() if len(x)<2 else pd.DataFrame([x[1]],\n",
    "                                                                                      columns=[lang_terms_list[idx] for idx in x[0]]))\n",
    "# pd.EmptyDataFrame()\n",
    "\n",
    "repo_langs_df.head()"
   ]
  },
  {
   "cell_type": "code",
   "execution_count": 72,
   "metadata": {
    "collapsed": false,
    "deletable": true,
    "editable": true,
    "jupyter": {
     "outputs_hidden": false
    }
   },
   "outputs": [
    {
     "data": {
      "text/plain": [
       "'HTML'"
      ]
     },
     "execution_count": 72,
     "metadata": {},
     "output_type": "execute_result"
    }
   ],
   "source": [
    "# [langs_df.bow_corpus_df.iloc[tr[0]].plot.bar() for tr in top_recs_soft[:5]]\n",
    "# .plot.bar()\n",
    "# languages_frequency\n",
    "repo_langs_df.Lang_corpus_df.iloc[2].iloc[0].keys()[0]"
   ]
  },
  {
   "cell_type": "code",
   "execution_count": null,
   "metadata": {
    "collapsed": false,
    "jupyter": {
     "outputs_hidden": false
    }
   },
   "outputs": [],
   "source": [
    "\n"
   ]
  },
  {
   "cell_type": "markdown",
   "metadata": {
    "deletable": true,
    "editable": true
   },
   "source": [
    "## Modelo para predição Similaridade de cosseno\n",
    "\n",
    "Para encontrar perfis transversais tentamos usar o modelo Similaridade de cosseno.\n",
    "\n",
    "Cosine similarity ou Similaridade de cosseno ou Semelhança de cosseno\n",
    "\n",
    "A semelhança de cosseno é uma medida de similaridade(ou distância) entre dois vetores não nulos de um espaço de produto interno que mede o cosseno do ângulo entre eles. O cosseno de 0° é 1, e é menor que 1 para qualquer outro ângulo no intervalo [0,0.5π), portanto, um julgamento de orientação e não magnitude: dois vetores com a mesma orientação têm uma semelhança de cosseno de 1, dois vetores orientados a 90° um em relação ao outro têm uma semelhança de 0, e dois vetores diametralmente opostos têm uma semelhança de -1, independente de sua magnitude. A semelhança de cosseno é particularmente usada no espaço positivo, onde o resultado é nitidamente limitado em {\\ displaystyle [0,1]} [0,1]. O nome deriva do termo \"direção cosseno\": neste caso, os vetores unitários são maximamente \"similares\" se forem paralelos e maximamente \"dissimilares\" se forem ortogonais (perpendiculares). Isso é análogo ao cosseno, que é a unidade (valor máximo) quando os segmentos subtendem um ângulo zero e zero (não correlacionado) quando os segmentos são perpendiculares.\n",
    "\n",
    "[From Wikipedia, the free encyclopedia](https://en.wikipedia.org/wiki/Cosine_similarity)"
   ]
  },
  {
   "cell_type": "code",
   "execution_count": 73,
   "metadata": {
    "deletable": true,
    "editable": true
   },
   "outputs": [],
   "source": [
    "# Model: Calculo de similaridade com Cosin\n",
    "\n",
    "index = SparseMatrixSimilarity(tfidf[bow_corpus], num_features=102)"
   ]
  },
  {
   "cell_type": "markdown",
   "metadata": {
    "deletable": true,
    "editable": true
   },
   "source": [
    "# LISTA DE TOP 10 USUARIOS RECOMENDADOS PARA NEW_DOC"
   ]
  },
  {
   "cell_type": "code",
   "execution_count": 74,
   "metadata": {
    "collapsed": false,
    "deletable": true,
    "editable": true,
    "jupyter": {
     "outputs_hidden": false
    }
   },
   "outputs": [
    {
     "data": {
      "text/html": [
       "<div>\n",
       "<style scoped>\n",
       "    .dataframe tbody tr th:only-of-type {\n",
       "        vertical-align: middle;\n",
       "    }\n",
       "\n",
       "    .dataframe tbody tr th {\n",
       "        vertical-align: top;\n",
       "    }\n",
       "\n",
       "    .dataframe thead th {\n",
       "        text-align: right;\n",
       "    }\n",
       "</style>\n",
       "<table border=\"1\" class=\"dataframe\">\n",
       "  <thead>\n",
       "    <tr style=\"text-align: right;\">\n",
       "      <th></th>\n",
       "      <th>User</th>\n",
       "      <th>Repos</th>\n",
       "      <th>Languages</th>\n",
       "    </tr>\n",
       "  </thead>\n",
       "  <tbody>\n",
       "    <tr>\n",
       "      <th>638</th>\n",
       "      <td>AleffSouza</td>\n",
       "      <td>ahlp/owls_server,rafaellsma/transfer,renatohlf...</td>\n",
       "      <td>JavaScript,Java,JavaScript,JavaScript,C,Python...</td>\n",
       "    </tr>\n",
       "    <tr>\n",
       "      <th>0</th>\n",
       "      <td>tarruda</td>\n",
       "      <td>libmpack/libmpack,tarruda/Algoritmos,tarruda/a...</td>\n",
       "      <td>C,JavaScript,JavaScript,JavaScript,JavaScript,...</td>\n",
       "    </tr>\n",
       "    <tr>\n",
       "      <th>1075</th>\n",
       "      <td>reueljonathan</td>\n",
       "      <td>ahlp/owls_server,reueljonathan/functions-game,...</td>\n",
       "      <td>JavaScript,JavaScript,Lua,JavaScript,Lua,JavaS...</td>\n",
       "    </tr>\n",
       "    <tr>\n",
       "      <th>580</th>\n",
       "      <td>felipemobile</td>\n",
       "      <td>Colubris/parse-dashboard,felipemobile/awesome-...</td>\n",
       "      <td>JavaScript,HTML,C,JavaScript,JavaScript,JavaSc...</td>\n",
       "    </tr>\n",
       "    <tr>\n",
       "      <th>992</th>\n",
       "      <td>marcuscarneiro</td>\n",
       "      <td>raony/Iluminare2,marcuscarneiro/colabgame,marc...</td>\n",
       "      <td>Python,None,JavaScript,JavaScript,JavaScript,J...</td>\n",
       "    </tr>\n",
       "    <tr>\n",
       "      <th>197</th>\n",
       "      <td>leoreinaux</td>\n",
       "      <td>clausiobarbosa/python-keccak_hash,hiagors92/hi...</td>\n",
       "      <td>C,JavaScript,None,Python,C++,Python,Python,Jav...</td>\n",
       "    </tr>\n",
       "    <tr>\n",
       "      <th>160</th>\n",
       "      <td>acmh</td>\n",
       "      <td>fpwanderley/projetobd,mmfrb/siscom,rodrigoalve...</td>\n",
       "      <td>Python,Python,JavaScript,JavaScript,CSS,HTML,C...</td>\n",
       "    </tr>\n",
       "    <tr>\n",
       "      <th>133</th>\n",
       "      <td>FranciscoMarinho</td>\n",
       "      <td>karlafalcao/astar-search,karlafalcao/crie-awe-...</td>\n",
       "      <td>JavaScript,JavaScript,JavaScript,JavaScript</td>\n",
       "    </tr>\n",
       "    <tr>\n",
       "      <th>1423</th>\n",
       "      <td>bureauworks</td>\n",
       "      <td>bureauworks/mdPickers,bureauworks/slate,bureau...</td>\n",
       "      <td>JavaScript,JavaScript,JavaScript,JavaScript</td>\n",
       "    </tr>\n",
       "    <tr>\n",
       "      <th>1457</th>\n",
       "      <td>FEMUGPE</td>\n",
       "      <td>FEMUGPE/femug-lottery,FEMUGPE/FEMUGPE,FEMUGPE/...</td>\n",
       "      <td>JavaScript,None,JavaScript,None,JavaScript,Non...</td>\n",
       "    </tr>\n",
       "  </tbody>\n",
       "</table>\n",
       "</div>"
      ],
      "text/plain": [
       "                  User                                              Repos  \\\n",
       "638         AleffSouza  ahlp/owls_server,rafaellsma/transfer,renatohlf...   \n",
       "0              tarruda  libmpack/libmpack,tarruda/Algoritmos,tarruda/a...   \n",
       "1075     reueljonathan  ahlp/owls_server,reueljonathan/functions-game,...   \n",
       "580       felipemobile  Colubris/parse-dashboard,felipemobile/awesome-...   \n",
       "992     marcuscarneiro  raony/Iluminare2,marcuscarneiro/colabgame,marc...   \n",
       "197         leoreinaux  clausiobarbosa/python-keccak_hash,hiagors92/hi...   \n",
       "160               acmh  fpwanderley/projetobd,mmfrb/siscom,rodrigoalve...   \n",
       "133   FranciscoMarinho  karlafalcao/astar-search,karlafalcao/crie-awe-...   \n",
       "1423       bureauworks  bureauworks/mdPickers,bureauworks/slate,bureau...   \n",
       "1457           FEMUGPE  FEMUGPE/femug-lottery,FEMUGPE/FEMUGPE,FEMUGPE/...   \n",
       "\n",
       "                                              Languages  \n",
       "638   JavaScript,Java,JavaScript,JavaScript,C,Python...  \n",
       "0     C,JavaScript,JavaScript,JavaScript,JavaScript,...  \n",
       "1075  JavaScript,JavaScript,Lua,JavaScript,Lua,JavaS...  \n",
       "580   JavaScript,HTML,C,JavaScript,JavaScript,JavaSc...  \n",
       "992   Python,None,JavaScript,JavaScript,JavaScript,J...  \n",
       "197   C,JavaScript,None,Python,C++,Python,Python,Jav...  \n",
       "160   Python,Python,JavaScript,JavaScript,CSS,HTML,C...  \n",
       "133         JavaScript,JavaScript,JavaScript,JavaScript  \n",
       "1423        JavaScript,JavaScript,JavaScript,JavaScript  \n",
       "1457  JavaScript,None,JavaScript,None,JavaScript,Non...  "
      ]
     },
     "execution_count": 74,
     "metadata": {},
     "output_type": "execute_result"
    }
   ],
   "source": [
    "similarities = index[tfidf[new_vec]]\n",
    "recomendations = list(enumerate(similarities))\n",
    "top_recs = sorted(recomendations, key=lambda rating: rating[1], reverse=True)\n",
    "repos_langs.iloc[[tr[0] for tr in top_recs[:10]]]"
   ]
  },
  {
   "cell_type": "code",
   "execution_count": 75,
   "metadata": {
    "collapsed": false,
    "jupyter": {
     "outputs_hidden": false
    }
   },
   "outputs": [
    {
     "data": {
      "text/plain": [
       "(638, 0.8798249)"
      ]
     },
     "execution_count": 75,
     "metadata": {},
     "output_type": "execute_result"
    }
   ],
   "source": [
    "top_recs[0]\n"
   ]
  },
  {
   "cell_type": "code",
   "execution_count": 76,
   "metadata": {
    "collapsed": false,
    "deletable": true,
    "editable": true,
    "jupyter": {
     "outputs_hidden": false
    }
   },
   "outputs": [
    {
     "data": {
      "text/plain": [
       "[<Axes: >, <Axes: >, <Axes: >, <Axes: >, <Axes: >]"
      ]
     },
     "execution_count": 76,
     "metadata": {},
     "output_type": "execute_result"
    },
    {
     "data": {
      "image/png": "[encoded data removed]",
      "text/plain": [
       "<Figure size 640x480 with 1 Axes>"
      ]
     },
     "metadata": {},
     "output_type": "display_data"
    },
    {
     "data": {
      "image/png": "[encoded data removed]",
      "text/plain": [
       "<Figure size 640x480 with 1 Axes>"
      ]
     },
     "metadata": {},
     "output_type": "display_data"
    },
    {
     "data": {
      "image/png": "[encoded data removed]",
      "text/plain": [
       "<Figure size 640x480 with 1 Axes>"
      ]
     },
     "metadata": {},
     "output_type": "display_data"
    },
    {
     "data": {
      "image/png": "[encoded data removed]",
      "text/plain": [
       "<Figure size 640x480 with 1 Axes>"
      ]
     },
     "metadata": {},
     "output_type": "display_data"
    },
    {
     "data": {
      "image/png": "[encoded data removed]",
      "text/plain": [
       "<Figure size 640x480 with 1 Axes>"
      ]
     },
     "metadata": {},
     "output_type": "display_data"
    }
   ],
   "source": [
    "# Plotting the 5 top reccomendations\n",
    "\n",
    "# langs_df.bow_corpus_df.iloc[top_recs[0][0]].plot.bar()\n",
    "# langs_df.bow_corpus_df.iloc[top_recs[1][0]].plot.bar()\n",
    "# langs_df.bow_corpus_df.iloc[top_recs[2][0]].plot.bar()\n",
    "# langs_df.bow_corpus_df.iloc[top_recs[3][0]].plot.bar()\n",
    "# langs_df.bow_corpus_df.iloc[top_recs[4][0]].plot.bar()\n",
    "\n",
    "[repo_langs_df.Lang_corpus_df.iloc[tr[0]].plot.bar() for tr in top_recs[:5]]"
   ]
  },
  {
   "cell_type": "markdown",
   "metadata": {
    "deletable": true,
    "editable": true
   },
   "source": [
    "#End."
   ]
  },
  {
   "cell_type": "markdown",
   "metadata": {
    "deletable": true,
    "editable": true
   },
   "source": [
    "## Extra: Resultados com o Algoritmo sofcosin"
   ]
  },
  {
   "cell_type": "code",
   "execution_count": 77,
   "metadata": {
    "collapsed": false,
    "deletable": true,
    "editable": true,
    "jupyter": {
     "outputs_hidden": false
    }
   },
   "outputs": [
    {
     "ename": "TypeError",
     "evalue": "Word2Vec.__init__() got an unexpected keyword argument 'size'",
     "output_type": "error",
     "traceback": [
      "\u001b[0;31m---------------------------------------------------------------------------\u001b[0m",
      "\u001b[0;31mTypeError\u001b[0m                                 Traceback (most recent call last)",
      "Cell \u001b[0;32mIn[77], line 3\u001b[0m\n\u001b[1;32m      1\u001b[0m \u001b[38;5;66;03m# Algoritmo: Calculo de similaridade com SofCosin\u001b[39;00m\n\u001b[0;32m----> 3\u001b[0m w2v_model \u001b[38;5;241m=\u001b[39m \u001b[43mWord2Vec\u001b[49m\u001b[43m(\u001b[49m\u001b[43mlanguages\u001b[49m\u001b[43m,\u001b[49m\u001b[43m \u001b[49m\u001b[43mworkers\u001b[49m\u001b[38;5;241;43m=\u001b[39;49m\u001b[43mcpu_count\u001b[49m\u001b[43m(\u001b[49m\u001b[43m)\u001b[49m\u001b[43m,\u001b[49m\u001b[43m \u001b[49m\u001b[43msize\u001b[49m\u001b[38;5;241;43m=\u001b[39;49m\u001b[38;5;241;43m102\u001b[39;49m\u001b[43m,\u001b[49m\u001b[43m \u001b[49m\u001b[43mseed\u001b[49m\u001b[38;5;241;43m=\u001b[39;49m\u001b[38;5;241;43m12345\u001b[39;49m\u001b[43m)\u001b[49m\n\u001b[1;32m      4\u001b[0m similarity_matrix \u001b[38;5;241m=\u001b[39m w2v_model\u001b[38;5;241m.\u001b[39mwv\u001b[38;5;241m.\u001b[39msimilarity_matrix(dictionary, tfidf, nonzero_limit\u001b[38;5;241m=\u001b[39m\u001b[38;5;241m100\u001b[39m)\n\u001b[1;32m      6\u001b[0m index \u001b[38;5;241m=\u001b[39m SoftCosineSimilarity( tfidf[bow_corpus], similarity_matrix)\n",
      "\u001b[0;31mTypeError\u001b[0m: Word2Vec.__init__() got an unexpected keyword argument 'size'"
     ]
    }
   ],
   "source": [
    "# Algoritmo: Calculo de similaridade com SofCosin\n",
    "\n",
    "w2v_model = Word2Vec(languages, workers=cpu_count(), size=102, seed=12345)\n",
    "similarity_matrix = w2v_model.wv.similarity_matrix(dictionary, tfidf, nonzero_limit=100)\n",
    "\n",
    "index = SoftCosineSimilarity( tfidf[bow_corpus], similarity_matrix)\n"
   ]
  },
  {
   "cell_type": "code",
   "execution_count": 78,
   "metadata": {
    "collapsed": false,
    "jupyter": {
     "outputs_hidden": false
    }
   },
   "outputs": [
    {
     "name": "stdout",
     "output_type": "stream",
     "text": [
      "[(0, 0.8191004), (1, 0.7594308), (2, 0.4366601), (3, 0.21985255), (4, 0.43278128)]\n"
     ]
    }
   ],
   "source": [
    "similarities = index[tfidf[new_vec]]\n",
    "recs_soft = list(enumerate(similarities))\n",
    "print(recs_soft[:5])"
   ]
  },
  {
   "cell_type": "code",
   "execution_count": 79,
   "metadata": {
    "collapsed": false,
    "jupyter": {
     "outputs_hidden": false
    }
   },
   "outputs": [
    {
     "data": {
      "text/html": [
       "<div>\n",
       "<style scoped>\n",
       "    .dataframe tbody tr th:only-of-type {\n",
       "        vertical-align: middle;\n",
       "    }\n",
       "\n",
       "    .dataframe tbody tr th {\n",
       "        vertical-align: top;\n",
       "    }\n",
       "\n",
       "    .dataframe thead th {\n",
       "        text-align: right;\n",
       "    }\n",
       "</style>\n",
       "<table border=\"1\" class=\"dataframe\">\n",
       "  <thead>\n",
       "    <tr style=\"text-align: right;\">\n",
       "      <th></th>\n",
       "      <th>User</th>\n",
       "      <th>Repos</th>\n",
       "      <th>Languages</th>\n",
       "    </tr>\n",
       "  </thead>\n",
       "  <tbody>\n",
       "    <tr>\n",
       "      <th>638</th>\n",
       "      <td>AleffSouza</td>\n",
       "      <td>ahlp/owls_server,rafaellsma/transfer,renatohlf...</td>\n",
       "      <td>JavaScript,Java,JavaScript,JavaScript,C,Python...</td>\n",
       "    </tr>\n",
       "    <tr>\n",
       "      <th>0</th>\n",
       "      <td>tarruda</td>\n",
       "      <td>libmpack/libmpack,tarruda/Algoritmos,tarruda/a...</td>\n",
       "      <td>C,JavaScript,JavaScript,JavaScript,JavaScript,...</td>\n",
       "    </tr>\n",
       "    <tr>\n",
       "      <th>1075</th>\n",
       "      <td>reueljonathan</td>\n",
       "      <td>ahlp/owls_server,reueljonathan/functions-game,...</td>\n",
       "      <td>JavaScript,JavaScript,Lua,JavaScript,Lua,JavaS...</td>\n",
       "    </tr>\n",
       "    <tr>\n",
       "      <th>580</th>\n",
       "      <td>felipemobile</td>\n",
       "      <td>Colubris/parse-dashboard,felipemobile/awesome-...</td>\n",
       "      <td>JavaScript,HTML,C,JavaScript,JavaScript,JavaSc...</td>\n",
       "    </tr>\n",
       "    <tr>\n",
       "      <th>992</th>\n",
       "      <td>marcuscarneiro</td>\n",
       "      <td>raony/Iluminare2,marcuscarneiro/colabgame,marc...</td>\n",
       "      <td>Python,None,JavaScript,JavaScript,JavaScript,J...</td>\n",
       "    </tr>\n",
       "    <tr>\n",
       "      <th>197</th>\n",
       "      <td>leoreinaux</td>\n",
       "      <td>clausiobarbosa/python-keccak_hash,hiagors92/hi...</td>\n",
       "      <td>C,JavaScript,None,Python,C++,Python,Python,Jav...</td>\n",
       "    </tr>\n",
       "    <tr>\n",
       "      <th>160</th>\n",
       "      <td>acmh</td>\n",
       "      <td>fpwanderley/projetobd,mmfrb/siscom,rodrigoalve...</td>\n",
       "      <td>Python,Python,JavaScript,JavaScript,CSS,HTML,C...</td>\n",
       "    </tr>\n",
       "    <tr>\n",
       "      <th>133</th>\n",
       "      <td>FranciscoMarinho</td>\n",
       "      <td>karlafalcao/astar-search,karlafalcao/crie-awe-...</td>\n",
       "      <td>JavaScript,JavaScript,JavaScript,JavaScript</td>\n",
       "    </tr>\n",
       "    <tr>\n",
       "      <th>1423</th>\n",
       "      <td>bureauworks</td>\n",
       "      <td>bureauworks/mdPickers,bureauworks/slate,bureau...</td>\n",
       "      <td>JavaScript,JavaScript,JavaScript,JavaScript</td>\n",
       "    </tr>\n",
       "    <tr>\n",
       "      <th>1457</th>\n",
       "      <td>FEMUGPE</td>\n",
       "      <td>FEMUGPE/femug-lottery,FEMUGPE/FEMUGPE,FEMUGPE/...</td>\n",
       "      <td>JavaScript,None,JavaScript,None,JavaScript,Non...</td>\n",
       "    </tr>\n",
       "  </tbody>\n",
       "</table>\n",
       "</div>"
      ],
      "text/plain": [
       "                  User                                              Repos  \\\n",
       "638         AleffSouza  ahlp/owls_server,rafaellsma/transfer,renatohlf...   \n",
       "0              tarruda  libmpack/libmpack,tarruda/Algoritmos,tarruda/a...   \n",
       "1075     reueljonathan  ahlp/owls_server,reueljonathan/functions-game,...   \n",
       "580       felipemobile  Colubris/parse-dashboard,felipemobile/awesome-...   \n",
       "992     marcuscarneiro  raony/Iluminare2,marcuscarneiro/colabgame,marc...   \n",
       "197         leoreinaux  clausiobarbosa/python-keccak_hash,hiagors92/hi...   \n",
       "160               acmh  fpwanderley/projetobd,mmfrb/siscom,rodrigoalve...   \n",
       "133   FranciscoMarinho  karlafalcao/astar-search,karlafalcao/crie-awe-...   \n",
       "1423       bureauworks  bureauworks/mdPickers,bureauworks/slate,bureau...   \n",
       "1457           FEMUGPE  FEMUGPE/femug-lottery,FEMUGPE/FEMUGPE,FEMUGPE/...   \n",
       "\n",
       "                                              Languages  \n",
       "638   JavaScript,Java,JavaScript,JavaScript,C,Python...  \n",
       "0     C,JavaScript,JavaScript,JavaScript,JavaScript,...  \n",
       "1075  JavaScript,JavaScript,Lua,JavaScript,Lua,JavaS...  \n",
       "580   JavaScript,HTML,C,JavaScript,JavaScript,JavaSc...  \n",
       "992   Python,None,JavaScript,JavaScript,JavaScript,J...  \n",
       "197   C,JavaScript,None,Python,C++,Python,Python,Jav...  \n",
       "160   Python,Python,JavaScript,JavaScript,CSS,HTML,C...  \n",
       "133         JavaScript,JavaScript,JavaScript,JavaScript  \n",
       "1423        JavaScript,JavaScript,JavaScript,JavaScript  \n",
       "1457  JavaScript,None,JavaScript,None,JavaScript,Non...  "
      ]
     },
     "execution_count": 79,
     "metadata": {},
     "output_type": "execute_result"
    }
   ],
   "source": [
    "top_recs_soft = sorted(recs_soft, key=lambda rating: rating[1], reverse=True)\n",
    "repos_langs.iloc[[tr[0] for tr in top_recs_soft[:10]]]"
   ]
  },
  {
   "cell_type": "code",
   "execution_count": 80,
   "metadata": {
    "collapsed": false,
    "deletable": true,
    "editable": true,
    "jupyter": {
     "outputs_hidden": false
    }
   },
   "outputs": [
    {
     "data": {
      "text/plain": [
       "[<Axes: >, <Axes: >, <Axes: >, <Axes: >, <Axes: >]"
      ]
     },
     "execution_count": 80,
     "metadata": {},
     "output_type": "execute_result"
    },
    {
     "data": {
      "image/png": "[encoded data removed]",
      "text/plain": [
       "<Figure size 640x480 with 1 Axes>"
      ]
     },
     "metadata": {},
     "output_type": "display_data"
    },
    {
     "data": {
      "image/png": "[encoded data removed]",
      "text/plain": [
       "<Figure size 640x480 with 1 Axes>"
      ]
     },
     "metadata": {},
     "output_type": "display_data"
    },
    {
     "data": {
      "image/png": "[encoded data removed]",
      "text/plain": [
       "<Figure size 640x480 with 1 Axes>"
      ]
     },
     "metadata": {},
     "output_type": "display_data"
    },
    {
     "data": {
      "image/png": "[encoded data removed]",
      "text/plain": [
       "<Figure size 640x480 with 1 Axes>"
      ]
     },
     "metadata": {},
     "output_type": "display_data"
    },
    {
     "data": {
      "image/png": "[encoded data removed]",
      "text/plain": [
       "<Figure size 640x480 with 1 Axes>"
      ]
     },
     "metadata": {},
     "output_type": "display_data"
    }
   ],
   "source": [
    "[repo_langs_df.Lang_corpus_df.iloc[tr[0]].plot.bar() for tr in top_recs_soft[:5]]"
   ]
  },
  {
   "cell_type": "code",
   "execution_count": null,
   "metadata": {
    "collapsed": true,
    "deletable": true,
    "editable": true,
    "jupyter": {
     "outputs_hidden": true
    }
   },
   "outputs": [],
   "source": []
  },
  {
   "cell_type": "markdown",
   "metadata": {
    "collapsed": true,
    "deletable": true,
    "editable": true,
    "jupyter": {
     "outputs_hidden": true
    }
   },
   "source": [
    "## Comunidades"
   ]
  },
  {
   "cell_type": "code",
   "execution_count": 81,
   "metadata": {
    "collapsed": false,
    "deletable": true,
    "editable": true,
    "jupyter": {
     "outputs_hidden": false
    }
   },
   "outputs": [
    {
     "data": {
      "text/html": [
       "<div>\n",
       "<style scoped>\n",
       "    .dataframe tbody tr th:only-of-type {\n",
       "        vertical-align: middle;\n",
       "    }\n",
       "\n",
       "    .dataframe tbody tr th {\n",
       "        vertical-align: top;\n",
       "    }\n",
       "\n",
       "    .dataframe thead th {\n",
       "        text-align: right;\n",
       "    }\n",
       "</style>\n",
       "<table border=\"1\" class=\"dataframe\">\n",
       "  <thead>\n",
       "    <tr style=\"text-align: right;\">\n",
       "      <th></th>\n",
       "      <th>User</th>\n",
       "      <th>fill</th>\n",
       "    </tr>\n",
       "  </thead>\n",
       "  <tbody>\n",
       "    <tr>\n",
       "      <th>0</th>\n",
       "      <td>henriquemenezes</td>\n",
       "      <td>#df89ff</td>\n",
       "    </tr>\n",
       "    <tr>\n",
       "      <th>1</th>\n",
       "      <td>tarruda</td>\n",
       "      <td>#4c463e</td>\n",
       "    </tr>\n",
       "    <tr>\n",
       "      <th>2</th>\n",
       "      <td>paulolieuthier</td>\n",
       "      <td>#73c000</td>\n",
       "    </tr>\n",
       "    <tr>\n",
       "      <th>3</th>\n",
       "      <td>meiralins</td>\n",
       "      <td>#df89ff</td>\n",
       "    </tr>\n",
       "    <tr>\n",
       "      <th>4</th>\n",
       "      <td>dapine</td>\n",
       "      <td>#4c463e</td>\n",
       "    </tr>\n",
       "  </tbody>\n",
       "</table>\n",
       "</div>"
      ],
      "text/plain": [
       "              User     fill\n",
       "0  henriquemenezes  #df89ff\n",
       "1          tarruda  #4c463e\n",
       "2   paulolieuthier  #73c000\n",
       "3        meiralins  #df89ff\n",
       "4           dapine  #4c463e"
      ]
     },
     "execution_count": 81,
     "metadata": {},
     "output_type": "execute_result"
    }
   ],
   "source": [
    "communities = pd.read_csv('../data/communities.csv')\n",
    "communities.head()"
   ]
  },
  {
   "cell_type": "code",
   "execution_count": 82,
   "metadata": {
    "collapsed": false,
    "jupyter": {
     "outputs_hidden": false
    }
   },
   "outputs": [
    {
     "data": {
      "text/html": [
       "<div>\n",
       "<style scoped>\n",
       "    .dataframe tbody tr th:only-of-type {\n",
       "        vertical-align: middle;\n",
       "    }\n",
       "\n",
       "    .dataframe tbody tr th {\n",
       "        vertical-align: top;\n",
       "    }\n",
       "\n",
       "    .dataframe thead th {\n",
       "        text-align: right;\n",
       "    }\n",
       "</style>\n",
       "<table border=\"1\" class=\"dataframe\">\n",
       "  <thead>\n",
       "    <tr style=\"text-align: right;\">\n",
       "      <th></th>\n",
       "      <th>User</th>\n",
       "      <th>Langs_List</th>\n",
       "      <th>Langs_Count</th>\n",
       "      <th>Langs_Count_Unique</th>\n",
       "      <th>Repos_List</th>\n",
       "      <th>Repos_Count</th>\n",
       "      <th>Repos_Count_Unique</th>\n",
       "      <th>Lang_corpus</th>\n",
       "      <th>Lang_corpus_df</th>\n",
       "    </tr>\n",
       "  </thead>\n",
       "  <tbody>\n",
       "    <tr>\n",
       "      <th>0</th>\n",
       "      <td>tarruda</td>\n",
       "      <td>[C, JavaScript, JavaScript, JavaScript, JavaSc...</td>\n",
       "      <td>149</td>\n",
       "      <td>16</td>\n",
       "      <td>[libmpack, Algoritmos, archdb, backbone-deep-m...</td>\n",
       "      <td>157</td>\n",
       "      <td>157</td>\n",
       "      <td>[(7, 67), (11, 14), (1, 13), (3, 13), (0, 11),...</td>\n",
       "      <td>JavaScript  Python  C++  CoffeeScript   C  ...</td>\n",
       "    </tr>\n",
       "    <tr>\n",
       "      <th>1</th>\n",
       "      <td>mairatma</td>\n",
       "      <td>[CSS, CSS, HTML, CSS, HTML, CSS, JavaScript, C...</td>\n",
       "      <td>97</td>\n",
       "      <td>5</td>\n",
       "      <td>[steel-avatar, steel-cell-deprecated, steel-dr...</td>\n",
       "      <td>101</td>\n",
       "      <td>97</td>\n",
       "      <td>[(7, 81), (4, 7), (16, 6), (14, 2), (6, 1)]</td>\n",
       "      <td>JavaScript  HTML  CSS  TypeScript  Java\n",
       "0  ...</td>\n",
       "    </tr>\n",
       "    <tr>\n",
       "      <th>2</th>\n",
       "      <td>joselitojunior1</td>\n",
       "      <td>[JavaScript, Java, Java, HTML, JavaScript, Jav...</td>\n",
       "      <td>42</td>\n",
       "      <td>10</td>\n",
       "      <td>[maecoruja, projeto-anfa, phonegapbootcampsite...</td>\n",
       "      <td>58</td>\n",
       "      <td>57</td>\n",
       "      <td>[(4, 13), (7, 13), (16, 4), (6, 3), (19, 3), (...</td>\n",
       "      <td>HTML  JavaScript  CSS  Java  PHP  TypeScrip...</td>\n",
       "    </tr>\n",
       "    <tr>\n",
       "      <th>3</th>\n",
       "      <td>marcelcaraciolo</td>\n",
       "      <td>[Python, Python, PHP, Python, Python, Python, ...</td>\n",
       "      <td>35</td>\n",
       "      <td>9</td>\n",
       "      <td>[TCCRecommender, Open-Allure-DS, apontador-api...</td>\n",
       "      <td>43</td>\n",
       "      <td>43</td>\n",
       "      <td>[(11, 27), (0, 1), (7, 1), (10, 1), (12, 1), (...</td>\n",
       "      <td>Python  C  JavaScript  Perl  Ruby  Shell  C...</td>\n",
       "    </tr>\n",
       "    <tr>\n",
       "      <th>4</th>\n",
       "      <td>luanfonceca</td>\n",
       "      <td>[Java, Java, Java, Ruby, Ruby, JavaScript, Jav...</td>\n",
       "      <td>103</td>\n",
       "      <td>7</td>\n",
       "      <td>[analise_expressao_genica, arvoresLP2, Ilicita...</td>\n",
       "      <td>123</td>\n",
       "      <td>123</td>\n",
       "      <td>[(11, 55), (7, 25), (16, 9), (12, 6), (6, 5), ...</td>\n",
       "      <td>Python  JavaScript  CSS  Ruby  Java  HTML  ...</td>\n",
       "    </tr>\n",
       "    <tr>\n",
       "      <th>...</th>\n",
       "      <td>...</td>\n",
       "      <td>...</td>\n",
       "      <td>...</td>\n",
       "      <td>...</td>\n",
       "      <td>...</td>\n",
       "      <td>...</td>\n",
       "      <td>...</td>\n",
       "      <td>...</td>\n",
       "      <td>...</td>\n",
       "    </tr>\n",
       "    <tr>\n",
       "      <th>1987</th>\n",
       "      <td>gutogalamba</td>\n",
       "      <td>[]</td>\n",
       "      <td>0</td>\n",
       "      <td>0</td>\n",
       "      <td>[]</td>\n",
       "      <td>0</td>\n",
       "      <td>0</td>\n",
       "      <td>[]</td>\n",
       "      <td>Empty DataFrame\n",
       "Columns: []\n",
       "Index: []</td>\n",
       "    </tr>\n",
       "    <tr>\n",
       "      <th>1988</th>\n",
       "      <td>prgc</td>\n",
       "      <td>[Jupyter Notebook, Jupyter Notebook]</td>\n",
       "      <td>2</td>\n",
       "      <td>1</td>\n",
       "      <td>[am, am, primeiroteste, teste]</td>\n",
       "      <td>4</td>\n",
       "      <td>3</td>\n",
       "      <td>[(21, 2)]</td>\n",
       "      <td>Jupyter Notebook\n",
       "0                 2</td>\n",
       "    </tr>\n",
       "    <tr>\n",
       "      <th>1989</th>\n",
       "      <td>prfrancaf</td>\n",
       "      <td>[]</td>\n",
       "      <td>0</td>\n",
       "      <td>0</td>\n",
       "      <td>[]</td>\n",
       "      <td>0</td>\n",
       "      <td>0</td>\n",
       "      <td>[]</td>\n",
       "      <td>Empty DataFrame\n",
       "Columns: []\n",
       "Index: []</td>\n",
       "    </tr>\n",
       "    <tr>\n",
       "      <th>1990</th>\n",
       "      <td>gleydsonageu</td>\n",
       "      <td>[Java, Java, HTML, Python, Python, Java]</td>\n",
       "      <td>6</td>\n",
       "      <td>3</td>\n",
       "      <td>[WhereverIgo, RuralMaps, RuralMaps-Actionbar, ...</td>\n",
       "      <td>7</td>\n",
       "      <td>7</td>\n",
       "      <td>[(6, 3), (11, 2), (4, 1)]</td>\n",
       "      <td>Java  Python  HTML\n",
       "0     3       2     1</td>\n",
       "    </tr>\n",
       "    <tr>\n",
       "      <th>1991</th>\n",
       "      <td>majulins</td>\n",
       "      <td>[]</td>\n",
       "      <td>0</td>\n",
       "      <td>0</td>\n",
       "      <td>[]</td>\n",
       "      <td>0</td>\n",
       "      <td>0</td>\n",
       "      <td>[]</td>\n",
       "      <td>Empty DataFrame\n",
       "Columns: []\n",
       "Index: []</td>\n",
       "    </tr>\n",
       "  </tbody>\n",
       "</table>\n",
       "<p>1992 rows × 9 columns</p>\n",
       "</div>"
      ],
      "text/plain": [
       "                 User                                         Langs_List  \\\n",
       "0             tarruda  [C, JavaScript, JavaScript, JavaScript, JavaSc...   \n",
       "1            mairatma  [CSS, CSS, HTML, CSS, HTML, CSS, JavaScript, C...   \n",
       "2     joselitojunior1  [JavaScript, Java, Java, HTML, JavaScript, Jav...   \n",
       "3     marcelcaraciolo  [Python, Python, PHP, Python, Python, Python, ...   \n",
       "4         luanfonceca  [Java, Java, Java, Ruby, Ruby, JavaScript, Jav...   \n",
       "...               ...                                                ...   \n",
       "1987      gutogalamba                                                 []   \n",
       "1988             prgc               [Jupyter Notebook, Jupyter Notebook]   \n",
       "1989        prfrancaf                                                 []   \n",
       "1990     gleydsonageu           [Java, Java, HTML, Python, Python, Java]   \n",
       "1991         majulins                                                 []   \n",
       "\n",
       "      Langs_Count  Langs_Count_Unique  \\\n",
       "0             149                  16   \n",
       "1              97                   5   \n",
       "2              42                  10   \n",
       "3              35                   9   \n",
       "4             103                   7   \n",
       "...           ...                 ...   \n",
       "1987            0                   0   \n",
       "1988            2                   1   \n",
       "1989            0                   0   \n",
       "1990            6                   3   \n",
       "1991            0                   0   \n",
       "\n",
       "                                             Repos_List  Repos_Count  \\\n",
       "0     [libmpack, Algoritmos, archdb, backbone-deep-m...          157   \n",
       "1     [steel-avatar, steel-cell-deprecated, steel-dr...          101   \n",
       "2     [maecoruja, projeto-anfa, phonegapbootcampsite...           58   \n",
       "3     [TCCRecommender, Open-Allure-DS, apontador-api...           43   \n",
       "4     [analise_expressao_genica, arvoresLP2, Ilicita...          123   \n",
       "...                                                 ...          ...   \n",
       "1987                                                 []            0   \n",
       "1988                     [am, am, primeiroteste, teste]            4   \n",
       "1989                                                 []            0   \n",
       "1990  [WhereverIgo, RuralMaps, RuralMaps-Actionbar, ...            7   \n",
       "1991                                                 []            0   \n",
       "\n",
       "      Repos_Count_Unique                                        Lang_corpus  \\\n",
       "0                    157  [(7, 67), (11, 14), (1, 13), (3, 13), (0, 11),...   \n",
       "1                     97        [(7, 81), (4, 7), (16, 6), (14, 2), (6, 1)]   \n",
       "2                     57  [(4, 13), (7, 13), (16, 4), (6, 3), (19, 3), (...   \n",
       "3                     43  [(11, 27), (0, 1), (7, 1), (10, 1), (12, 1), (...   \n",
       "4                    123  [(11, 55), (7, 25), (16, 9), (12, 6), (6, 5), ...   \n",
       "...                  ...                                                ...   \n",
       "1987                   0                                                 []   \n",
       "1988                   3                                          [(21, 2)]   \n",
       "1989                   0                                                 []   \n",
       "1990                   7                          [(6, 3), (11, 2), (4, 1)]   \n",
       "1991                   0                                                 []   \n",
       "\n",
       "                                         Lang_corpus_df  \n",
       "0        JavaScript  Python  C++  CoffeeScript   C  ...  \n",
       "1        JavaScript  HTML  CSS  TypeScript  Java\n",
       "0  ...  \n",
       "2        HTML  JavaScript  CSS  Java  PHP  TypeScrip...  \n",
       "3        Python  C  JavaScript  Perl  Ruby  Shell  C...  \n",
       "4        Python  JavaScript  CSS  Ruby  Java  HTML  ...  \n",
       "...                                                 ...  \n",
       "1987              Empty DataFrame\n",
       "Columns: []\n",
       "Index: []  \n",
       "1988               Jupyter Notebook\n",
       "0                 2  \n",
       "1989              Empty DataFrame\n",
       "Columns: []\n",
       "Index: []  \n",
       "1990           Java  Python  HTML\n",
       "0     3       2     1  \n",
       "1991              Empty DataFrame\n",
       "Columns: []\n",
       "Index: []  \n",
       "\n",
       "[1992 rows x 9 columns]"
      ]
     },
     "execution_count": 82,
     "metadata": {},
     "output_type": "execute_result"
    }
   ],
   "source": [
    "repo_langs_df"
   ]
  },
  {
   "cell_type": "code",
   "execution_count": 83,
   "metadata": {
    "collapsed": false,
    "jupyter": {
     "outputs_hidden": false
    }
   },
   "outputs": [],
   "source": [
    "merged_data = communities.merge(right=repo_langs_df, on='User')"
   ]
  },
  {
   "cell_type": "code",
   "execution_count": 84,
   "metadata": {
    "collapsed": false,
    "jupyter": {
     "outputs_hidden": false
    }
   },
   "outputs": [
    {
     "data": {
      "text/html": [
       "<div>\n",
       "<style scoped>\n",
       "    .dataframe tbody tr th:only-of-type {\n",
       "        vertical-align: middle;\n",
       "    }\n",
       "\n",
       "    .dataframe tbody tr th {\n",
       "        vertical-align: top;\n",
       "    }\n",
       "\n",
       "    .dataframe thead th {\n",
       "        text-align: right;\n",
       "    }\n",
       "</style>\n",
       "<table border=\"1\" class=\"dataframe\">\n",
       "  <thead>\n",
       "    <tr style=\"text-align: right;\">\n",
       "      <th></th>\n",
       "      <th>User</th>\n",
       "      <th>fill</th>\n",
       "      <th>Langs_List</th>\n",
       "      <th>Langs_Count</th>\n",
       "      <th>Langs_Count_Unique</th>\n",
       "      <th>Repos_List</th>\n",
       "      <th>Repos_Count</th>\n",
       "      <th>Repos_Count_Unique</th>\n",
       "      <th>Lang_corpus</th>\n",
       "      <th>Lang_corpus_df</th>\n",
       "    </tr>\n",
       "  </thead>\n",
       "  <tbody>\n",
       "    <tr>\n",
       "      <th>0</th>\n",
       "      <td>henriquemenezes</td>\n",
       "      <td>#df89ff</td>\n",
       "      <td>[Go, Go, Python, Python, C++, Ruby, Java, Ruby...</td>\n",
       "      <td>23</td>\n",
       "      <td>9</td>\n",
       "      <td>[gin-example-api, android-open-source-apps, an...</td>\n",
       "      <td>31</td>\n",
       "      <td>31</td>\n",
       "      <td>[(11, 5), (12, 5), (13, 4), (18, 3), (23, 2), ...</td>\n",
       "      <td>Python  Ruby  Shell  Go  Matlab  C++  Java ...</td>\n",
       "    </tr>\n",
       "    <tr>\n",
       "      <th>1</th>\n",
       "      <td>tarruda</td>\n",
       "      <td>#4c463e</td>\n",
       "      <td>[C, JavaScript, JavaScript, JavaScript, JavaSc...</td>\n",
       "      <td>149</td>\n",
       "      <td>16</td>\n",
       "      <td>[libmpack, Algoritmos, archdb, backbone-deep-m...</td>\n",
       "      <td>157</td>\n",
       "      <td>157</td>\n",
       "      <td>[(7, 67), (11, 14), (1, 13), (3, 13), (0, 11),...</td>\n",
       "      <td>JavaScript  Python  C++  CoffeeScript   C  ...</td>\n",
       "    </tr>\n",
       "    <tr>\n",
       "      <th>2</th>\n",
       "      <td>paulolieuthier</td>\n",
       "      <td>#73c000</td>\n",
       "      <td>[Java, HTML, JavaScript, Java, Go, C++, C++, P...</td>\n",
       "      <td>18</td>\n",
       "      <td>12</td>\n",
       "      <td>[PCD_Middleware, criterion, meucongressonacion...</td>\n",
       "      <td>18</td>\n",
       "      <td>18</td>\n",
       "      <td>[(1, 4), (6, 3), (7, 2), (0, 1), (4, 1), (5, 1...</td>\n",
       "      <td>C++  Java  JavaScript  C  HTML  Haskell  CS...</td>\n",
       "    </tr>\n",
       "    <tr>\n",
       "      <th>3</th>\n",
       "      <td>meiralins</td>\n",
       "      <td>#df89ff</td>\n",
       "      <td>[Matlab, JavaScript, Python, Python, Python, P...</td>\n",
       "      <td>23</td>\n",
       "      <td>5</td>\n",
       "      <td>[aprendizagem, clipboard.js, cookiecutter-tapi...</td>\n",
       "      <td>25</td>\n",
       "      <td>25</td>\n",
       "      <td>[(11, 18), (23, 2), (4, 1), (7, 1), (15, 1)]</td>\n",
       "      <td>Python  Matlab  HTML  JavaScript  VimL\n",
       "0   ...</td>\n",
       "    </tr>\n",
       "    <tr>\n",
       "      <th>4</th>\n",
       "      <td>dapine</td>\n",
       "      <td>#4c463e</td>\n",
       "      <td>[]</td>\n",
       "      <td>0</td>\n",
       "      <td>0</td>\n",
       "      <td>[]</td>\n",
       "      <td>0</td>\n",
       "      <td>0</td>\n",
       "      <td>[]</td>\n",
       "      <td>Empty DataFrame\n",
       "Columns: []\n",
       "Index: []</td>\n",
       "    </tr>\n",
       "    <tr>\n",
       "      <th>...</th>\n",
       "      <td>...</td>\n",
       "      <td>...</td>\n",
       "      <td>...</td>\n",
       "      <td>...</td>\n",
       "      <td>...</td>\n",
       "      <td>...</td>\n",
       "      <td>...</td>\n",
       "      <td>...</td>\n",
       "      <td>...</td>\n",
       "      <td>...</td>\n",
       "    </tr>\n",
       "    <tr>\n",
       "      <th>804</th>\n",
       "      <td>mgrb</td>\n",
       "      <td>#c0c0c0</td>\n",
       "      <td>[]</td>\n",
       "      <td>0</td>\n",
       "      <td>0</td>\n",
       "      <td>[]</td>\n",
       "      <td>0</td>\n",
       "      <td>0</td>\n",
       "      <td>[]</td>\n",
       "      <td>Empty DataFrame\n",
       "Columns: []\n",
       "Index: []</td>\n",
       "    </tr>\n",
       "    <tr>\n",
       "      <th>805</th>\n",
       "      <td>LucasLJorge</td>\n",
       "      <td>#c0c0c0</td>\n",
       "      <td>[Java, Java, Java]</td>\n",
       "      <td>3</td>\n",
       "      <td>1</td>\n",
       "      <td>[BibliotecaIES, BRContador-2, BRContador]</td>\n",
       "      <td>3</td>\n",
       "      <td>3</td>\n",
       "      <td>[(6, 3)]</td>\n",
       "      <td>Java\n",
       "0     3</td>\n",
       "    </tr>\n",
       "    <tr>\n",
       "      <th>806</th>\n",
       "      <td>ericlrf</td>\n",
       "      <td>#c0c0c0</td>\n",
       "      <td>[Java, Java, Java, Java, Java, Java, Java, Jav...</td>\n",
       "      <td>42</td>\n",
       "      <td>5</td>\n",
       "      <td>[BRContador, ArvoreDeExtensaoMinima, Behaviora...</td>\n",
       "      <td>47</td>\n",
       "      <td>46</td>\n",
       "      <td>[(6, 33), (4, 5), (30, 2), (7, 1), (14, 1)]</td>\n",
       "      <td>Java  HTML  TeX  JavaScript  TypeScript\n",
       "0  ...</td>\n",
       "    </tr>\n",
       "    <tr>\n",
       "      <th>807</th>\n",
       "      <td>daniellyqueiroz</td>\n",
       "      <td>#c0c0c0</td>\n",
       "      <td>[Java, Java, Java, Java, JavaScript, Java, Jav...</td>\n",
       "      <td>11</td>\n",
       "      <td>2</td>\n",
       "      <td>[universitynd, localizar-placa-veiculos, naveg...</td>\n",
       "      <td>13</td>\n",
       "      <td>13</td>\n",
       "      <td>[(6, 10), (7, 1)]</td>\n",
       "      <td>Java  JavaScript\n",
       "0    10           1</td>\n",
       "    </tr>\n",
       "    <tr>\n",
       "      <th>808</th>\n",
       "      <td>JNMarcos</td>\n",
       "      <td>#c0c0c0</td>\n",
       "      <td>[JavaScript, Java, Java, Java, Matlab, Java, J...</td>\n",
       "      <td>25</td>\n",
       "      <td>5</td>\n",
       "      <td>[Acontece-na-Rural, PontoSaude, ava-javafx-asp...</td>\n",
       "      <td>29</td>\n",
       "      <td>28</td>\n",
       "      <td>[(6, 21), (1, 1), (7, 1), (23, 1), (27, 1)]</td>\n",
       "      <td>Java  C++  JavaScript  Matlab  C#\n",
       "0    21  ...</td>\n",
       "    </tr>\n",
       "  </tbody>\n",
       "</table>\n",
       "<p>809 rows × 10 columns</p>\n",
       "</div>"
      ],
      "text/plain": [
       "                User     fill  \\\n",
       "0    henriquemenezes  #df89ff   \n",
       "1            tarruda  #4c463e   \n",
       "2     paulolieuthier  #73c000   \n",
       "3          meiralins  #df89ff   \n",
       "4             dapine  #4c463e   \n",
       "..               ...      ...   \n",
       "804             mgrb  #c0c0c0   \n",
       "805      LucasLJorge  #c0c0c0   \n",
       "806          ericlrf  #c0c0c0   \n",
       "807  daniellyqueiroz  #c0c0c0   \n",
       "808         JNMarcos  #c0c0c0   \n",
       "\n",
       "                                            Langs_List  Langs_Count  \\\n",
       "0    [Go, Go, Python, Python, C++, Ruby, Java, Ruby...           23   \n",
       "1    [C, JavaScript, JavaScript, JavaScript, JavaSc...          149   \n",
       "2    [Java, HTML, JavaScript, Java, Go, C++, C++, P...           18   \n",
       "3    [Matlab, JavaScript, Python, Python, Python, P...           23   \n",
       "4                                                   []            0   \n",
       "..                                                 ...          ...   \n",
       "804                                                 []            0   \n",
       "805                                 [Java, Java, Java]            3   \n",
       "806  [Java, Java, Java, Java, Java, Java, Java, Jav...           42   \n",
       "807  [Java, Java, Java, Java, JavaScript, Java, Jav...           11   \n",
       "808  [JavaScript, Java, Java, Java, Matlab, Java, J...           25   \n",
       "\n",
       "     Langs_Count_Unique                                         Repos_List  \\\n",
       "0                     9  [gin-example-api, android-open-source-apps, an...   \n",
       "1                    16  [libmpack, Algoritmos, archdb, backbone-deep-m...   \n",
       "2                    12  [PCD_Middleware, criterion, meucongressonacion...   \n",
       "3                     5  [aprendizagem, clipboard.js, cookiecutter-tapi...   \n",
       "4                     0                                                 []   \n",
       "..                  ...                                                ...   \n",
       "804                   0                                                 []   \n",
       "805                   1          [BibliotecaIES, BRContador-2, BRContador]   \n",
       "806                   5  [BRContador, ArvoreDeExtensaoMinima, Behaviora...   \n",
       "807                   2  [universitynd, localizar-placa-veiculos, naveg...   \n",
       "808                   5  [Acontece-na-Rural, PontoSaude, ava-javafx-asp...   \n",
       "\n",
       "     Repos_Count  Repos_Count_Unique  \\\n",
       "0             31                  31   \n",
       "1            157                 157   \n",
       "2             18                  18   \n",
       "3             25                  25   \n",
       "4              0                   0   \n",
       "..           ...                 ...   \n",
       "804            0                   0   \n",
       "805            3                   3   \n",
       "806           47                  46   \n",
       "807           13                  13   \n",
       "808           29                  28   \n",
       "\n",
       "                                           Lang_corpus  \\\n",
       "0    [(11, 5), (12, 5), (13, 4), (18, 3), (23, 2), ...   \n",
       "1    [(7, 67), (11, 14), (1, 13), (3, 13), (0, 11),...   \n",
       "2    [(1, 4), (6, 3), (7, 2), (0, 1), (4, 1), (5, 1...   \n",
       "3         [(11, 18), (23, 2), (4, 1), (7, 1), (15, 1)]   \n",
       "4                                                   []   \n",
       "..                                                 ...   \n",
       "804                                                 []   \n",
       "805                                           [(6, 3)]   \n",
       "806        [(6, 33), (4, 5), (30, 2), (7, 1), (14, 1)]   \n",
       "807                                  [(6, 10), (7, 1)]   \n",
       "808        [(6, 21), (1, 1), (7, 1), (23, 1), (27, 1)]   \n",
       "\n",
       "                                        Lang_corpus_df  \n",
       "0       Python  Ruby  Shell  Go  Matlab  C++  Java ...  \n",
       "1       JavaScript  Python  C++  CoffeeScript   C  ...  \n",
       "2       C++  Java  JavaScript  C  HTML  Haskell  CS...  \n",
       "3       Python  Matlab  HTML  JavaScript  VimL\n",
       "0   ...  \n",
       "4                Empty DataFrame\n",
       "Columns: []\n",
       "Index: []  \n",
       "..                                                 ...  \n",
       "804              Empty DataFrame\n",
       "Columns: []\n",
       "Index: []  \n",
       "805                                       Java\n",
       "0     3  \n",
       "806     Java  HTML  TeX  JavaScript  TypeScript\n",
       "0  ...  \n",
       "807               Java  JavaScript\n",
       "0    10           1  \n",
       "808     Java  C++  JavaScript  Matlab  C#\n",
       "0    21  ...  \n",
       "\n",
       "[809 rows x 10 columns]"
      ]
     },
     "execution_count": 84,
     "metadata": {},
     "output_type": "execute_result"
    }
   ],
   "source": [
    "merged_data"
   ]
  },
  {
   "cell_type": "code",
   "execution_count": 85,
   "metadata": {
    "collapsed": false,
    "jupyter": {
     "outputs_hidden": false
    }
   },
   "outputs": [
    {
     "data": {
      "text/html": [
       "<div>\n",
       "<style scoped>\n",
       "    .dataframe tbody tr th:only-of-type {\n",
       "        vertical-align: middle;\n",
       "    }\n",
       "\n",
       "    .dataframe tbody tr th {\n",
       "        vertical-align: top;\n",
       "    }\n",
       "\n",
       "    .dataframe thead th {\n",
       "        text-align: right;\n",
       "    }\n",
       "</style>\n",
       "<table border=\"1\" class=\"dataframe\">\n",
       "  <thead>\n",
       "    <tr style=\"text-align: right;\">\n",
       "      <th></th>\n",
       "      <th>User</th>\n",
       "      <th>fill</th>\n",
       "      <th>Langs_List</th>\n",
       "      <th>Langs_Count</th>\n",
       "      <th>Langs_Count_Unique</th>\n",
       "      <th>Repos_List</th>\n",
       "      <th>Repos_Count</th>\n",
       "      <th>Repos_Count_Unique</th>\n",
       "      <th>Lang_corpus</th>\n",
       "      <th>Lang_corpus_df</th>\n",
       "    </tr>\n",
       "  </thead>\n",
       "  <tbody>\n",
       "    <tr>\n",
       "      <th>158</th>\n",
       "      <td>Leviterus</td>\n",
       "      <td>#00bd94</td>\n",
       "      <td>[CSS, JavaScript, VHDL, C++, HTML, CSS, JavaSc...</td>\n",
       "      <td>9</td>\n",
       "      <td>6</td>\n",
       "      <td>[EudoClub, CodeCup-Cerberos, AutoSegeManager, ...</td>\n",
       "      <td>11</td>\n",
       "      <td>11</td>\n",
       "      <td>[(7, 3), (16, 2), (1, 1), (4, 1), (29, 1), (37...</td>\n",
       "      <td>JavaScript  CSS  C++  HTML  Swift  VHDL\n",
       "0  ...</td>\n",
       "    </tr>\n",
       "    <tr>\n",
       "      <th>178</th>\n",
       "      <td>lucasbiagini</td>\n",
       "      <td>#00bd94</td>\n",
       "      <td>[PHP, Cucumber, Java, HTML, Ruby, JavaScript, ...</td>\n",
       "      <td>17</td>\n",
       "      <td>7</td>\n",
       "      <td>[siena-iat-2016, redu-specs, ShowUp, jenhogan....</td>\n",
       "      <td>17</td>\n",
       "      <td>16</td>\n",
       "      <td>[(19, 5), (12, 4), (6, 3), (32, 2), (1, 1), (4...</td>\n",
       "      <td>PHP  Ruby  Java  Cucumber  C++  HTML  JavaS...</td>\n",
       "    </tr>\n",
       "    <tr>\n",
       "      <th>305</th>\n",
       "      <td>acmh</td>\n",
       "      <td>#00bd94</td>\n",
       "      <td>[Python, Python, JavaScript, JavaScript, CSS, ...</td>\n",
       "      <td>19</td>\n",
       "      <td>9</td>\n",
       "      <td>[projetobd, siscom, vestibuleiro, iotflows-lan...</td>\n",
       "      <td>22</td>\n",
       "      <td>22</td>\n",
       "      <td>[(7, 8), (1, 2), (11, 2), (19, 2), (0, 1), (4,...</td>\n",
       "      <td>JavaScript  C++  Python  PHP  C  HTML  Java...</td>\n",
       "    </tr>\n",
       "    <tr>\n",
       "      <th>369</th>\n",
       "      <td>pnasc</td>\n",
       "      <td>#00bd94</td>\n",
       "      <td>[]</td>\n",
       "      <td>0</td>\n",
       "      <td>0</td>\n",
       "      <td>[]</td>\n",
       "      <td>0</td>\n",
       "      <td>0</td>\n",
       "      <td>[]</td>\n",
       "      <td>Empty DataFrame\n",
       "Columns: []\n",
       "Index: []</td>\n",
       "    </tr>\n",
       "    <tr>\n",
       "      <th>274</th>\n",
       "      <td>AbrantesMar</td>\n",
       "      <td>#00bd94</td>\n",
       "      <td>[]</td>\n",
       "      <td>0</td>\n",
       "      <td>0</td>\n",
       "      <td>[]</td>\n",
       "      <td>0</td>\n",
       "      <td>0</td>\n",
       "      <td>[]</td>\n",
       "      <td>Empty DataFrame\n",
       "Columns: []\n",
       "Index: []</td>\n",
       "    </tr>\n",
       "    <tr>\n",
       "      <th>...</th>\n",
       "      <td>...</td>\n",
       "      <td>...</td>\n",
       "      <td>...</td>\n",
       "      <td>...</td>\n",
       "      <td>...</td>\n",
       "      <td>...</td>\n",
       "      <td>...</td>\n",
       "      <td>...</td>\n",
       "      <td>...</td>\n",
       "      <td>...</td>\n",
       "    </tr>\n",
       "    <tr>\n",
       "      <th>225</th>\n",
       "      <td>agcloud</td>\n",
       "      <td>#ff8805</td>\n",
       "      <td>[]</td>\n",
       "      <td>0</td>\n",
       "      <td>0</td>\n",
       "      <td>[]</td>\n",
       "      <td>0</td>\n",
       "      <td>0</td>\n",
       "      <td>[]</td>\n",
       "      <td>Empty DataFrame\n",
       "Columns: []\n",
       "Index: []</td>\n",
       "    </tr>\n",
       "    <tr>\n",
       "      <th>233</th>\n",
       "      <td>valterh4ck3r</td>\n",
       "      <td>#ff8805</td>\n",
       "      <td>[Java, Java, JavaScript, Java, Kotlin, JavaScr...</td>\n",
       "      <td>36</td>\n",
       "      <td>8</td>\n",
       "      <td>[RMI, 8R-Reflections, AdminBSBMaterialDesign, ...</td>\n",
       "      <td>39</td>\n",
       "      <td>39</td>\n",
       "      <td>[(6, 12), (7, 12), (40, 4), (14, 3), (0, 2), (...</td>\n",
       "      <td>Java  JavaScript  Kotlin  TypeScript  C  HT...</td>\n",
       "    </tr>\n",
       "    <tr>\n",
       "      <th>234</th>\n",
       "      <td>ArthurLCastro</td>\n",
       "      <td>#ff8805</td>\n",
       "      <td>[]</td>\n",
       "      <td>0</td>\n",
       "      <td>0</td>\n",
       "      <td>[]</td>\n",
       "      <td>0</td>\n",
       "      <td>0</td>\n",
       "      <td>[]</td>\n",
       "      <td>Empty DataFrame\n",
       "Columns: []\n",
       "Index: []</td>\n",
       "    </tr>\n",
       "    <tr>\n",
       "      <th>143</th>\n",
       "      <td>italoj</td>\n",
       "      <td>#ff8805</td>\n",
       "      <td>[]</td>\n",
       "      <td>0</td>\n",
       "      <td>0</td>\n",
       "      <td>[]</td>\n",
       "      <td>0</td>\n",
       "      <td>0</td>\n",
       "      <td>[]</td>\n",
       "      <td>Empty DataFrame\n",
       "Columns: []\n",
       "Index: []</td>\n",
       "    </tr>\n",
       "    <tr>\n",
       "      <th>188</th>\n",
       "      <td>lucianojsjr</td>\n",
       "      <td>#ff8805</td>\n",
       "      <td>[]</td>\n",
       "      <td>0</td>\n",
       "      <td>0</td>\n",
       "      <td>[]</td>\n",
       "      <td>0</td>\n",
       "      <td>0</td>\n",
       "      <td>[]</td>\n",
       "      <td>Empty DataFrame\n",
       "Columns: []\n",
       "Index: []</td>\n",
       "    </tr>\n",
       "  </tbody>\n",
       "</table>\n",
       "<p>809 rows × 10 columns</p>\n",
       "</div>"
      ],
      "text/plain": [
       "              User     fill  \\\n",
       "158      Leviterus  #00bd94   \n",
       "178   lucasbiagini  #00bd94   \n",
       "305           acmh  #00bd94   \n",
       "369          pnasc  #00bd94   \n",
       "274    AbrantesMar  #00bd94   \n",
       "..             ...      ...   \n",
       "225        agcloud  #ff8805   \n",
       "233   valterh4ck3r  #ff8805   \n",
       "234  ArthurLCastro  #ff8805   \n",
       "143         italoj  #ff8805   \n",
       "188    lucianojsjr  #ff8805   \n",
       "\n",
       "                                            Langs_List  Langs_Count  \\\n",
       "158  [CSS, JavaScript, VHDL, C++, HTML, CSS, JavaSc...            9   \n",
       "178  [PHP, Cucumber, Java, HTML, Ruby, JavaScript, ...           17   \n",
       "305  [Python, Python, JavaScript, JavaScript, CSS, ...           19   \n",
       "369                                                 []            0   \n",
       "274                                                 []            0   \n",
       "..                                                 ...          ...   \n",
       "225                                                 []            0   \n",
       "233  [Java, Java, JavaScript, Java, Kotlin, JavaScr...           36   \n",
       "234                                                 []            0   \n",
       "143                                                 []            0   \n",
       "188                                                 []            0   \n",
       "\n",
       "     Langs_Count_Unique                                         Repos_List  \\\n",
       "158                   6  [EudoClub, CodeCup-Cerberos, AutoSegeManager, ...   \n",
       "178                   7  [siena-iat-2016, redu-specs, ShowUp, jenhogan....   \n",
       "305                   9  [projetobd, siscom, vestibuleiro, iotflows-lan...   \n",
       "369                   0                                                 []   \n",
       "274                   0                                                 []   \n",
       "..                  ...                                                ...   \n",
       "225                   0                                                 []   \n",
       "233                   8  [RMI, 8R-Reflections, AdminBSBMaterialDesign, ...   \n",
       "234                   0                                                 []   \n",
       "143                   0                                                 []   \n",
       "188                   0                                                 []   \n",
       "\n",
       "     Repos_Count  Repos_Count_Unique  \\\n",
       "158           11                  11   \n",
       "178           17                  16   \n",
       "305           22                  22   \n",
       "369            0                   0   \n",
       "274            0                   0   \n",
       "..           ...                 ...   \n",
       "225            0                   0   \n",
       "233           39                  39   \n",
       "234            0                   0   \n",
       "143            0                   0   \n",
       "188            0                   0   \n",
       "\n",
       "                                           Lang_corpus  \\\n",
       "158  [(7, 3), (16, 2), (1, 1), (4, 1), (29, 1), (37...   \n",
       "178  [(19, 5), (12, 4), (6, 3), (32, 2), (1, 1), (4...   \n",
       "305  [(7, 8), (1, 2), (11, 2), (19, 2), (0, 1), (4,...   \n",
       "369                                                 []   \n",
       "274                                                 []   \n",
       "..                                                 ...   \n",
       "225                                                 []   \n",
       "233  [(6, 12), (7, 12), (40, 4), (14, 3), (0, 2), (...   \n",
       "234                                                 []   \n",
       "143                                                 []   \n",
       "188                                                 []   \n",
       "\n",
       "                                        Lang_corpus_df  \n",
       "158     JavaScript  CSS  C++  HTML  Swift  VHDL\n",
       "0  ...  \n",
       "178     PHP  Ruby  Java  Cucumber  C++  HTML  JavaS...  \n",
       "305     JavaScript  C++  Python  PHP  C  HTML  Java...  \n",
       "369              Empty DataFrame\n",
       "Columns: []\n",
       "Index: []  \n",
       "274              Empty DataFrame\n",
       "Columns: []\n",
       "Index: []  \n",
       "..                                                 ...  \n",
       "225              Empty DataFrame\n",
       "Columns: []\n",
       "Index: []  \n",
       "233     Java  JavaScript  Kotlin  TypeScript  C  HT...  \n",
       "234              Empty DataFrame\n",
       "Columns: []\n",
       "Index: []  \n",
       "143              Empty DataFrame\n",
       "Columns: []\n",
       "Index: []  \n",
       "188              Empty DataFrame\n",
       "Columns: []\n",
       "Index: []  \n",
       "\n",
       "[809 rows x 10 columns]"
      ]
     },
     "execution_count": 85,
     "metadata": {},
     "output_type": "execute_result"
    }
   ],
   "source": [
    "merged_data.sort_values('fill', axis=0, ascending=True, inplace=True)\n",
    "merged_data"
   ]
  },
  {
   "cell_type": "code",
   "execution_count": 86,
   "metadata": {
    "collapsed": false,
    "jupyter": {
     "outputs_hidden": false
    }
   },
   "outputs": [
    {
     "name": "stdout",
     "output_type": "stream",
     "text": [
      "              User     fill                                     Lang_corpus_df\n",
      "719     sergio3010  #df89ff     Python  JavaScript  C#\n",
      "0       2           ...\n",
      "654        andredm  #df89ff              Empty DataFrame\n",
      "Columns: []\n",
      "Index: []\n",
      "745           rnns  #df89ff     Java  C  JavaScript  Ruby  PHP\n",
      "0     3  1  ...\n",
      "742       dcaragao  #df89ff                                   Python\n",
      "0       2\n",
      "803        axontec  #df89ff              Empty DataFrame\n",
      "Columns: []\n",
      "Index: []\n",
      "..             ...      ...                                                ...\n",
      "373   aricardoreis  #df89ff              Empty DataFrame\n",
      "Columns: []\n",
      "Index: []\n",
      "126  diegobarcelar  #df89ff              Empty DataFrame\n",
      "Columns: []\n",
      "Index: []\n",
      "49   victorcarrico  #df89ff     Python  JavaScript  CSS  C  Objective-C  Ma...\n",
      "47            fjsj  #df89ff     Python  JavaScript  Java  Ruby  CSS  C  HTM...\n",
      "46   filipeximenes  #df89ff     Python  HTML  JavaScript  Ruby  CSS  Object...\n",
      "\n",
      "[124 rows x 3 columns]\n"
     ]
    }
   ],
   "source": [
    "print( merged_data[['User', 'fill', 'Lang_corpus_df']][merged_data.fill == '#df89ff'] )\n",
    "# print( merged_data[['User', 'fill', 'Lang_corpus_df']][merged_data.fill == '#4c463e'] )\n",
    "# print( merged_data[['User', 'fill', 'Lang_corpus_df']][merged_data.fill == '#73c000'] )\n",
    "# print( merged_data[['User', 'fill', 'Lang_corpus_df']][merged_data.fill == '#ff5584'] )\n",
    "# print( merged_data[['User', 'fill', 'Lang_corpus_df']][merged_data.fill == '#00c4ff'] )\n",
    "# print( merged_data[['User', 'fill', 'Lang_corpus_df']][merged_data.fill == '#00bd94'] )\n",
    "# print( merged_data[['User', 'fill', 'Lang_corpus_df']][merged_data.fill == '#c0c0c0'] )\n",
    "# print( merged_data[['User', 'fill', 'Lang_corpus_df']][merged_data.fill == '#ff8805'] )\n",
    "# print( merged_data[['User', 'fill', 'Lang_corpus_df']][merged_data.fill == '#d3b3b0'] )"
   ]
  },
  {
   "cell_type": "code",
   "execution_count": 87,
   "metadata": {
    "collapsed": false,
    "jupyter": {
     "outputs_hidden": false
    }
   },
   "outputs": [
    {
     "data": {
      "text/html": [
       "<div>\n",
       "<style scoped>\n",
       "    .dataframe tbody tr th:only-of-type {\n",
       "        vertical-align: middle;\n",
       "    }\n",
       "\n",
       "    .dataframe tbody tr th {\n",
       "        vertical-align: top;\n",
       "    }\n",
       "\n",
       "    .dataframe thead th {\n",
       "        text-align: right;\n",
       "    }\n",
       "</style>\n",
       "<table border=\"1\" class=\"dataframe\">\n",
       "  <thead>\n",
       "    <tr style=\"text-align: right;\">\n",
       "      <th></th>\n",
       "      <th>User</th>\n",
       "      <th>fill</th>\n",
       "      <th>Lang_corpus_df</th>\n",
       "    </tr>\n",
       "  </thead>\n",
       "  <tbody>\n",
       "    <tr>\n",
       "      <th>0</th>\n",
       "      <td>sergio3010</td>\n",
       "      <td>#df89ff</td>\n",
       "      <td>Python  JavaScript  C#\n",
       "0       2           ...</td>\n",
       "    </tr>\n",
       "    <tr>\n",
       "      <th>1</th>\n",
       "      <td>andredm</td>\n",
       "      <td>#df89ff</td>\n",
       "      <td>Empty DataFrame\n",
       "Columns: []\n",
       "Index: []</td>\n",
       "    </tr>\n",
       "    <tr>\n",
       "      <th>2</th>\n",
       "      <td>rnns</td>\n",
       "      <td>#df89ff</td>\n",
       "      <td>Java  C  JavaScript  Ruby  PHP\n",
       "0     3  1  ...</td>\n",
       "    </tr>\n",
       "    <tr>\n",
       "      <th>3</th>\n",
       "      <td>dcaragao</td>\n",
       "      <td>#df89ff</td>\n",
       "      <td>Python\n",
       "0       2</td>\n",
       "    </tr>\n",
       "    <tr>\n",
       "      <th>4</th>\n",
       "      <td>axontec</td>\n",
       "      <td>#df89ff</td>\n",
       "      <td>Empty DataFrame\n",
       "Columns: []\n",
       "Index: []</td>\n",
       "    </tr>\n",
       "    <tr>\n",
       "      <th>...</th>\n",
       "      <td>...</td>\n",
       "      <td>...</td>\n",
       "      <td>...</td>\n",
       "    </tr>\n",
       "    <tr>\n",
       "      <th>119</th>\n",
       "      <td>aricardoreis</td>\n",
       "      <td>#df89ff</td>\n",
       "      <td>Empty DataFrame\n",
       "Columns: []\n",
       "Index: []</td>\n",
       "    </tr>\n",
       "    <tr>\n",
       "      <th>120</th>\n",
       "      <td>diegobarcelar</td>\n",
       "      <td>#df89ff</td>\n",
       "      <td>Empty DataFrame\n",
       "Columns: []\n",
       "Index: []</td>\n",
       "    </tr>\n",
       "    <tr>\n",
       "      <th>121</th>\n",
       "      <td>victorcarrico</td>\n",
       "      <td>#df89ff</td>\n",
       "      <td>Python  JavaScript  CSS  C  Objective-C  Ma...</td>\n",
       "    </tr>\n",
       "    <tr>\n",
       "      <th>122</th>\n",
       "      <td>fjsj</td>\n",
       "      <td>#df89ff</td>\n",
       "      <td>Python  JavaScript  Java  Ruby  CSS  C  HTM...</td>\n",
       "    </tr>\n",
       "    <tr>\n",
       "      <th>123</th>\n",
       "      <td>filipeximenes</td>\n",
       "      <td>#df89ff</td>\n",
       "      <td>Python  HTML  JavaScript  Ruby  CSS  Object...</td>\n",
       "    </tr>\n",
       "  </tbody>\n",
       "</table>\n",
       "<p>124 rows × 3 columns</p>\n",
       "</div>"
      ],
      "text/plain": [
       "              User     fill                                     Lang_corpus_df\n",
       "0       sergio3010  #df89ff     Python  JavaScript  C#\n",
       "0       2           ...\n",
       "1          andredm  #df89ff              Empty DataFrame\n",
       "Columns: []\n",
       "Index: []\n",
       "2             rnns  #df89ff     Java  C  JavaScript  Ruby  PHP\n",
       "0     3  1  ...\n",
       "3         dcaragao  #df89ff                                   Python\n",
       "0       2\n",
       "4          axontec  #df89ff              Empty DataFrame\n",
       "Columns: []\n",
       "Index: []\n",
       "..             ...      ...                                                ...\n",
       "119   aricardoreis  #df89ff              Empty DataFrame\n",
       "Columns: []\n",
       "Index: []\n",
       "120  diegobarcelar  #df89ff              Empty DataFrame\n",
       "Columns: []\n",
       "Index: []\n",
       "121  victorcarrico  #df89ff     Python  JavaScript  CSS  C  Objective-C  Ma...\n",
       "122           fjsj  #df89ff     Python  JavaScript  Java  Ruby  CSS  C  HTM...\n",
       "123  filipeximenes  #df89ff     Python  HTML  JavaScript  Ruby  CSS  Object...\n",
       "\n",
       "[124 rows x 3 columns]"
      ]
     },
     "execution_count": 87,
     "metadata": {},
     "output_type": "execute_result"
    }
   ],
   "source": [
    "# pink group\n",
    "new_data = merged_data[['User', 'fill', 'Lang_corpus_df']][merged_data.fill == '#df89ff'].reset_index().drop('index', axis=1)\n",
    "new_data"
   ]
  },
  {
   "cell_type": "code",
   "execution_count": 88,
   "metadata": {
    "collapsed": false,
    "jupyter": {
     "outputs_hidden": false
    }
   },
   "outputs": [
    {
     "data": {
      "text/html": [
       "<div>\n",
       "<style scoped>\n",
       "    .dataframe tbody tr th:only-of-type {\n",
       "        vertical-align: middle;\n",
       "    }\n",
       "\n",
       "    .dataframe tbody tr th {\n",
       "        vertical-align: top;\n",
       "    }\n",
       "\n",
       "    .dataframe thead th {\n",
       "        text-align: right;\n",
       "    }\n",
       "</style>\n",
       "<table border=\"1\" class=\"dataframe\">\n",
       "  <thead>\n",
       "    <tr style=\"text-align: right;\">\n",
       "      <th></th>\n",
       "      <th>Python</th>\n",
       "      <th>JavaScript</th>\n",
       "      <th>C#</th>\n",
       "      <th>Java</th>\n",
       "      <th>C</th>\n",
       "      <th>Ruby</th>\n",
       "      <th>PHP</th>\n",
       "      <th>VHDL</th>\n",
       "      <th>HTML</th>\n",
       "      <th>CSS</th>\n",
       "      <th>...</th>\n",
       "      <th>Eagle</th>\n",
       "      <th>Kotlin</th>\n",
       "      <th>TypeScript</th>\n",
       "      <th>NewLisp</th>\n",
       "      <th>PowerShell</th>\n",
       "      <th>Standard ML</th>\n",
       "      <th>Prolog</th>\n",
       "      <th>Handlebars</th>\n",
       "      <th>Common Lisp</th>\n",
       "      <th>XML</th>\n",
       "    </tr>\n",
       "  </thead>\n",
       "  <tbody>\n",
       "    <tr>\n",
       "      <th>0</th>\n",
       "      <td>2.0</td>\n",
       "      <td>1.0</td>\n",
       "      <td>1.0</td>\n",
       "      <td>NaN</td>\n",
       "      <td>NaN</td>\n",
       "      <td>NaN</td>\n",
       "      <td>NaN</td>\n",
       "      <td>NaN</td>\n",
       "      <td>NaN</td>\n",
       "      <td>NaN</td>\n",
       "      <td>...</td>\n",
       "      <td>NaN</td>\n",
       "      <td>NaN</td>\n",
       "      <td>NaN</td>\n",
       "      <td>NaN</td>\n",
       "      <td>NaN</td>\n",
       "      <td>NaN</td>\n",
       "      <td>NaN</td>\n",
       "      <td>NaN</td>\n",
       "      <td>NaN</td>\n",
       "      <td>NaN</td>\n",
       "    </tr>\n",
       "    <tr>\n",
       "      <th>1</th>\n",
       "      <td>NaN</td>\n",
       "      <td>1.0</td>\n",
       "      <td>NaN</td>\n",
       "      <td>3.0</td>\n",
       "      <td>1.0</td>\n",
       "      <td>1.0</td>\n",
       "      <td>1.0</td>\n",
       "      <td>NaN</td>\n",
       "      <td>NaN</td>\n",
       "      <td>NaN</td>\n",
       "      <td>...</td>\n",
       "      <td>NaN</td>\n",
       "      <td>NaN</td>\n",
       "      <td>NaN</td>\n",
       "      <td>NaN</td>\n",
       "      <td>NaN</td>\n",
       "      <td>NaN</td>\n",
       "      <td>NaN</td>\n",
       "      <td>NaN</td>\n",
       "      <td>NaN</td>\n",
       "      <td>NaN</td>\n",
       "    </tr>\n",
       "    <tr>\n",
       "      <th>2</th>\n",
       "      <td>2.0</td>\n",
       "      <td>NaN</td>\n",
       "      <td>NaN</td>\n",
       "      <td>NaN</td>\n",
       "      <td>NaN</td>\n",
       "      <td>NaN</td>\n",
       "      <td>NaN</td>\n",
       "      <td>NaN</td>\n",
       "      <td>NaN</td>\n",
       "      <td>NaN</td>\n",
       "      <td>...</td>\n",
       "      <td>NaN</td>\n",
       "      <td>NaN</td>\n",
       "      <td>NaN</td>\n",
       "      <td>NaN</td>\n",
       "      <td>NaN</td>\n",
       "      <td>NaN</td>\n",
       "      <td>NaN</td>\n",
       "      <td>NaN</td>\n",
       "      <td>NaN</td>\n",
       "      <td>NaN</td>\n",
       "    </tr>\n",
       "    <tr>\n",
       "      <th>3</th>\n",
       "      <td>NaN</td>\n",
       "      <td>NaN</td>\n",
       "      <td>NaN</td>\n",
       "      <td>NaN</td>\n",
       "      <td>NaN</td>\n",
       "      <td>NaN</td>\n",
       "      <td>NaN</td>\n",
       "      <td>3.0</td>\n",
       "      <td>1.0</td>\n",
       "      <td>1.0</td>\n",
       "      <td>...</td>\n",
       "      <td>NaN</td>\n",
       "      <td>NaN</td>\n",
       "      <td>NaN</td>\n",
       "      <td>NaN</td>\n",
       "      <td>NaN</td>\n",
       "      <td>NaN</td>\n",
       "      <td>NaN</td>\n",
       "      <td>NaN</td>\n",
       "      <td>NaN</td>\n",
       "      <td>NaN</td>\n",
       "    </tr>\n",
       "    <tr>\n",
       "      <th>4</th>\n",
       "      <td>1.0</td>\n",
       "      <td>NaN</td>\n",
       "      <td>1.0</td>\n",
       "      <td>1.0</td>\n",
       "      <td>NaN</td>\n",
       "      <td>NaN</td>\n",
       "      <td>NaN</td>\n",
       "      <td>NaN</td>\n",
       "      <td>1.0</td>\n",
       "      <td>NaN</td>\n",
       "      <td>...</td>\n",
       "      <td>NaN</td>\n",
       "      <td>NaN</td>\n",
       "      <td>NaN</td>\n",
       "      <td>NaN</td>\n",
       "      <td>NaN</td>\n",
       "      <td>NaN</td>\n",
       "      <td>NaN</td>\n",
       "      <td>NaN</td>\n",
       "      <td>NaN</td>\n",
       "      <td>NaN</td>\n",
       "    </tr>\n",
       "    <tr>\n",
       "      <th>...</th>\n",
       "      <td>...</td>\n",
       "      <td>...</td>\n",
       "      <td>...</td>\n",
       "      <td>...</td>\n",
       "      <td>...</td>\n",
       "      <td>...</td>\n",
       "      <td>...</td>\n",
       "      <td>...</td>\n",
       "      <td>...</td>\n",
       "      <td>...</td>\n",
       "      <td>...</td>\n",
       "      <td>...</td>\n",
       "      <td>...</td>\n",
       "      <td>...</td>\n",
       "      <td>...</td>\n",
       "      <td>...</td>\n",
       "      <td>...</td>\n",
       "      <td>...</td>\n",
       "      <td>...</td>\n",
       "      <td>...</td>\n",
       "      <td>...</td>\n",
       "    </tr>\n",
       "    <tr>\n",
       "      <th>68</th>\n",
       "      <td>8.0</td>\n",
       "      <td>4.0</td>\n",
       "      <td>NaN</td>\n",
       "      <td>1.0</td>\n",
       "      <td>NaN</td>\n",
       "      <td>NaN</td>\n",
       "      <td>NaN</td>\n",
       "      <td>NaN</td>\n",
       "      <td>1.0</td>\n",
       "      <td>6.0</td>\n",
       "      <td>...</td>\n",
       "      <td>NaN</td>\n",
       "      <td>NaN</td>\n",
       "      <td>NaN</td>\n",
       "      <td>NaN</td>\n",
       "      <td>NaN</td>\n",
       "      <td>NaN</td>\n",
       "      <td>NaN</td>\n",
       "      <td>NaN</td>\n",
       "      <td>NaN</td>\n",
       "      <td>NaN</td>\n",
       "    </tr>\n",
       "    <tr>\n",
       "      <th>69</th>\n",
       "      <td>7.0</td>\n",
       "      <td>1.0</td>\n",
       "      <td>NaN</td>\n",
       "      <td>NaN</td>\n",
       "      <td>NaN</td>\n",
       "      <td>2.0</td>\n",
       "      <td>NaN</td>\n",
       "      <td>NaN</td>\n",
       "      <td>2.0</td>\n",
       "      <td>NaN</td>\n",
       "      <td>...</td>\n",
       "      <td>NaN</td>\n",
       "      <td>NaN</td>\n",
       "      <td>NaN</td>\n",
       "      <td>NaN</td>\n",
       "      <td>NaN</td>\n",
       "      <td>NaN</td>\n",
       "      <td>NaN</td>\n",
       "      <td>NaN</td>\n",
       "      <td>NaN</td>\n",
       "      <td>NaN</td>\n",
       "    </tr>\n",
       "    <tr>\n",
       "      <th>70</th>\n",
       "      <td>10.0</td>\n",
       "      <td>2.0</td>\n",
       "      <td>NaN</td>\n",
       "      <td>NaN</td>\n",
       "      <td>1.0</td>\n",
       "      <td>NaN</td>\n",
       "      <td>NaN</td>\n",
       "      <td>NaN</td>\n",
       "      <td>NaN</td>\n",
       "      <td>2.0</td>\n",
       "      <td>...</td>\n",
       "      <td>NaN</td>\n",
       "      <td>NaN</td>\n",
       "      <td>NaN</td>\n",
       "      <td>NaN</td>\n",
       "      <td>NaN</td>\n",
       "      <td>NaN</td>\n",
       "      <td>NaN</td>\n",
       "      <td>NaN</td>\n",
       "      <td>1.0</td>\n",
       "      <td>NaN</td>\n",
       "    </tr>\n",
       "    <tr>\n",
       "      <th>71</th>\n",
       "      <td>29.0</td>\n",
       "      <td>12.0</td>\n",
       "      <td>NaN</td>\n",
       "      <td>5.0</td>\n",
       "      <td>2.0</td>\n",
       "      <td>4.0</td>\n",
       "      <td>NaN</td>\n",
       "      <td>NaN</td>\n",
       "      <td>2.0</td>\n",
       "      <td>3.0</td>\n",
       "      <td>...</td>\n",
       "      <td>NaN</td>\n",
       "      <td>NaN</td>\n",
       "      <td>NaN</td>\n",
       "      <td>NaN</td>\n",
       "      <td>NaN</td>\n",
       "      <td>NaN</td>\n",
       "      <td>NaN</td>\n",
       "      <td>NaN</td>\n",
       "      <td>NaN</td>\n",
       "      <td>NaN</td>\n",
       "    </tr>\n",
       "    <tr>\n",
       "      <th>72</th>\n",
       "      <td>30.0</td>\n",
       "      <td>3.0</td>\n",
       "      <td>NaN</td>\n",
       "      <td>NaN</td>\n",
       "      <td>NaN</td>\n",
       "      <td>2.0</td>\n",
       "      <td>NaN</td>\n",
       "      <td>NaN</td>\n",
       "      <td>3.0</td>\n",
       "      <td>2.0</td>\n",
       "      <td>...</td>\n",
       "      <td>NaN</td>\n",
       "      <td>NaN</td>\n",
       "      <td>NaN</td>\n",
       "      <td>NaN</td>\n",
       "      <td>NaN</td>\n",
       "      <td>NaN</td>\n",
       "      <td>NaN</td>\n",
       "      <td>NaN</td>\n",
       "      <td>NaN</td>\n",
       "      <td>1.0</td>\n",
       "    </tr>\n",
       "  </tbody>\n",
       "</table>\n",
       "<p>73 rows × 47 columns</p>\n",
       "</div>"
      ],
      "text/plain": [
       "    Python  JavaScript   C#  Java    C  Ruby  PHP  VHDL  HTML  CSS  ...  \\\n",
       "0      2.0         1.0  1.0   NaN  NaN   NaN  NaN   NaN   NaN  NaN  ...   \n",
       "1      NaN         1.0  NaN   3.0  1.0   1.0  1.0   NaN   NaN  NaN  ...   \n",
       "2      2.0         NaN  NaN   NaN  NaN   NaN  NaN   NaN   NaN  NaN  ...   \n",
       "3      NaN         NaN  NaN   NaN  NaN   NaN  NaN   3.0   1.0  1.0  ...   \n",
       "4      1.0         NaN  1.0   1.0  NaN   NaN  NaN   NaN   1.0  NaN  ...   \n",
       "..     ...         ...  ...   ...  ...   ...  ...   ...   ...  ...  ...   \n",
       "68     8.0         4.0  NaN   1.0  NaN   NaN  NaN   NaN   1.0  6.0  ...   \n",
       "69     7.0         1.0  NaN   NaN  NaN   2.0  NaN   NaN   2.0  NaN  ...   \n",
       "70    10.0         2.0  NaN   NaN  1.0   NaN  NaN   NaN   NaN  2.0  ...   \n",
       "71    29.0        12.0  NaN   5.0  2.0   4.0  NaN   NaN   2.0  3.0  ...   \n",
       "72    30.0         3.0  NaN   NaN  NaN   2.0  NaN   NaN   3.0  2.0  ...   \n",
       "\n",
       "    Eagle  Kotlin  TypeScript  NewLisp  PowerShell  Standard ML  Prolog  \\\n",
       "0     NaN     NaN         NaN      NaN         NaN          NaN     NaN   \n",
       "1     NaN     NaN         NaN      NaN         NaN          NaN     NaN   \n",
       "2     NaN     NaN         NaN      NaN         NaN          NaN     NaN   \n",
       "3     NaN     NaN         NaN      NaN         NaN          NaN     NaN   \n",
       "4     NaN     NaN         NaN      NaN         NaN          NaN     NaN   \n",
       "..    ...     ...         ...      ...         ...          ...     ...   \n",
       "68    NaN     NaN         NaN      NaN         NaN          NaN     NaN   \n",
       "69    NaN     NaN         NaN      NaN         NaN          NaN     NaN   \n",
       "70    NaN     NaN         NaN      NaN         NaN          NaN     NaN   \n",
       "71    NaN     NaN         NaN      NaN         NaN          NaN     NaN   \n",
       "72    NaN     NaN         NaN      NaN         NaN          NaN     NaN   \n",
       "\n",
       "    Handlebars  Common Lisp  XML  \n",
       "0          NaN          NaN  NaN  \n",
       "1          NaN          NaN  NaN  \n",
       "2          NaN          NaN  NaN  \n",
       "3          NaN          NaN  NaN  \n",
       "4          NaN          NaN  NaN  \n",
       "..         ...          ...  ...  \n",
       "68         NaN          NaN  NaN  \n",
       "69         NaN          NaN  NaN  \n",
       "70         NaN          1.0  NaN  \n",
       "71         NaN          NaN  NaN  \n",
       "72         NaN          NaN  1.0  \n",
       "\n",
       "[73 rows x 47 columns]"
      ]
     },
     "execution_count": 88,
     "metadata": {},
     "output_type": "execute_result"
    }
   ],
   "source": [
    "\n",
    "# concat all dataframes in langs corpus column\n",
    "langs_concat = pd.concat(list(new_data.Lang_corpus_df), axis=0, join='outer')\\\n",
    "                .reset_index().drop('index', axis=1)\\\n",
    "                .dropna(axis='columns', how='all')\n",
    "langs_concat"
   ]
  },
  {
   "cell_type": "code",
   "execution_count": 89,
   "metadata": {
    "collapsed": false,
    "jupyter": {
     "outputs_hidden": false
    }
   },
   "outputs": [],
   "source": [
    "# plotting the first row\n",
    "# langs_concat.iloc[0].plot.bar()"
   ]
  },
  {
   "cell_type": "code",
   "execution_count": 90,
   "metadata": {
    "collapsed": false,
    "jupyter": {
     "outputs_hidden": false
    }
   },
   "outputs": [
    {
     "data": {
      "text/plain": [
       "<Axes: >"
      ]
     },
     "execution_count": 90,
     "metadata": {},
     "output_type": "execute_result"
    },
    {
     "data": {
      "image/png": "[encoded data removed]",
      "text/plain": [
       "<Figure size 640x480 with 1 Axes>"
      ]
     },
     "metadata": {},
     "output_type": "display_data"
    }
   ],
   "source": [
    "# Plot the sum of all rows\n",
    "langs_concat.apply(np.sum, axis=0).plot.bar()"
   ]
  },
  {
   "cell_type": "code",
   "execution_count": 91,
   "metadata": {},
   "outputs": [],
   "source": [
    "#00c4ff (azul)\n"
   ]
  },
  {
   "cell_type": "code",
   "execution_count": 92,
   "metadata": {
    "collapsed": false,
    "jupyter": {
     "outputs_hidden": false
    }
   },
   "outputs": [
    {
     "data": {
      "text/plain": [
       "<Axes: >"
      ]
     },
     "execution_count": 92,
     "metadata": {},
     "output_type": "execute_result"
    },
    {
     "data": {
      "image/png": "[encoded data removed]",
      "text/plain": [
       "<Figure size 640x480 with 1 Axes>"
      ]
     },
     "metadata": {},
     "output_type": "display_data"
    }
   ],
   "source": [
    "new_data = merged_data[['User', 'fill', 'Lang_corpus_df']][merged_data.fill == '#00c4ff'].reset_index().drop('index', axis=1)\n",
    "\n",
    "langs_concat = pd.concat(list(new_data.Lang_corpus_df), axis=0, join='outer')\\\n",
    "                .reset_index().drop('index', axis=1)\\\n",
    "                .dropna(axis='columns', how='all')\n",
    "langs_concat\n",
    "\n",
    "langs_concat.apply(np.sum, axis=0).plot.bar()"
   ]
  },
  {
   "cell_type": "code",
   "execution_count": null,
   "metadata": {
    "collapsed": true,
    "jupyter": {
     "outputs_hidden": true
    }
   },
   "outputs": [],
   "source": []
  },
  {
   "cell_type": "code",
   "execution_count": 93,
   "metadata": {},
   "outputs": [],
   "source": [
    "#73c000 (verde)\n"
   ]
  },
  {
   "cell_type": "code",
   "execution_count": 94,
   "metadata": {
    "collapsed": false,
    "jupyter": {
     "outputs_hidden": false
    }
   },
   "outputs": [
    {
     "data": {
      "text/plain": [
       "<Axes: >"
      ]
     },
     "execution_count": 94,
     "metadata": {},
     "output_type": "execute_result"
    },
    {
     "data": {
      "image/png": "[encoded data removed]",
      "text/plain": [
       "<Figure size 640x480 with 1 Axes>"
      ]
     },
     "metadata": {},
     "output_type": "display_data"
    }
   ],
   "source": [
    "new_data = merged_data[['User', 'fill', 'Lang_corpus_df']][merged_data.fill == '#73c000'].reset_index().drop('index', axis=1)\n",
    "\n",
    "langs_concat = pd.concat(list(new_data.Lang_corpus_df), axis=0, join='outer')\\\n",
    "                .reset_index().drop('index', axis=1)\\\n",
    "                .dropna(axis='columns', how='all')\n",
    "langs_concat\n",
    "\n",
    "langs_concat.apply(np.sum, axis=0).plot.bar()"
   ]
  },
  {
   "cell_type": "code",
   "execution_count": null,
   "metadata": {
    "collapsed": true,
    "jupyter": {
     "outputs_hidden": true
    }
   },
   "outputs": [],
   "source": []
  },
  {
   "cell_type": "code",
   "execution_count": 95,
   "metadata": {
    "collapsed": false,
    "jupyter": {
     "outputs_hidden": false
    }
   },
   "outputs": [
    {
     "data": {
      "text/plain": [
       "<Axes: >"
      ]
     },
     "execution_count": 95,
     "metadata": {},
     "output_type": "execute_result"
    },
    {
     "data": {
      "image/png": "[encoded data removed]",
      "text/plain": [
       "<Figure size 640x480 with 1 Axes>"
      ]
     },
     "metadata": {},
     "output_type": "display_data"
    }
   ],
   "source": [
    "#ff8805 (orange)\n",
    "\n",
    "new_data = merged_data[['User', 'fill', 'Lang_corpus_df']][merged_data.fill == '#ff8805'].reset_index().drop('index', axis=1)\n",
    "\n",
    "langs_concat = pd.concat(list(new_data.Lang_corpus_df), axis=0, join='outer')\\\n",
    "                .reset_index().drop('index', axis=1)\\\n",
    "                .dropna(axis='columns', how='all')\n",
    "langs_concat\n",
    "\n",
    "langs_concat.apply(np.sum, axis=0).plot.bar()"
   ]
  },
  {
   "cell_type": "code",
   "execution_count": null,
   "metadata": {
    "collapsed": true,
    "jupyter": {
     "outputs_hidden": true
    }
   },
   "outputs": [],
   "source": []
  },
  {
   "cell_type": "code",
   "execution_count": null,
   "metadata": {},
   "outputs": [],
   "source": []
  },
  {
   "cell_type": "code",
   "execution_count": null,
   "metadata": {},
   "outputs": [],
   "source": []
  },
  {
   "cell_type": "code",
   "execution_count": null,
   "metadata": {},
   "outputs": [],
   "source": []
  }
 ],
 "metadata": {
  "kernelspec": {
   "display_name": "Python 3 (ipykernel)",
   "language": "python",
   "name": "python3"
  },
  "language_info": {
   "codemirror_mode": {
    "name": "ipython",
    "version": 3
   },
   "file_extension": ".py",
   "mimetype": "text/x-python",
   "name": "python",
   "nbconvert_exporter": "python",
   "pygments_lexer": "ipython3",
   "version": "3.10.14"
  }
 },
 "nbformat": 4,
 "nbformat_minor": 4
}
