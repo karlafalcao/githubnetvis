{
 "cells": [
  {
   "cell_type": "markdown",
   "metadata": {},
   "source": [
    "# Github Data Analysis"
   ]
  },
  {
   "cell_type": "markdown",
   "metadata": {},
   "source": [
    "## Part 1: Pre Processing - Users_Followers"
   ]
  },
  {
   "cell_type": "code",
   "execution_count": 5,
   "metadata": {},
   "outputs": [],
   "source": [
    "import pandas as pd\n",
    "import numpy as np\n",
    "import re"
   ]
  },
  {
   "cell_type": "markdown",
   "metadata": {},
   "source": [
    "## Loading Data"
   ]
  },
  {
   "cell_type": "code",
   "execution_count": 6,
   "metadata": {},
   "outputs": [
    {
     "data": {
      "text/html": [
       "<div>\n",
       "<style scoped>\n",
       "    .dataframe tbody tr th:only-of-type {\n",
       "        vertical-align: middle;\n",
       "    }\n",
       "\n",
       "    .dataframe tbody tr th {\n",
       "        vertical-align: top;\n",
       "    }\n",
       "\n",
       "    .dataframe thead th {\n",
       "        text-align: right;\n",
       "    }\n",
       "</style>\n",
       "<table border=\"1\" class=\"dataframe\">\n",
       "  <thead>\n",
       "    <tr style=\"text-align: right;\">\n",
       "      <th></th>\n",
       "      <th>User</th>\n",
       "      <th>All_Followers</th>\n",
       "      <th>nF</th>\n",
       "    </tr>\n",
       "  </thead>\n",
       "  <tbody>\n",
       "    <tr>\n",
       "      <th>0</th>\n",
       "      <td>tarruda</td>\n",
       "      <td>Sannis,danielmahon,csjaba,FergusRedican,Victor...</td>\n",
       "      <td>570</td>\n",
       "    </tr>\n",
       "    <tr>\n",
       "      <th>1</th>\n",
       "      <td>mairatma</td>\n",
       "      <td>brunocoelho,henvic,eduardolundgren,aperrelli,a...</td>\n",
       "      <td>363</td>\n",
       "    </tr>\n",
       "    <tr>\n",
       "      <th>2</th>\n",
       "      <td>joselitojunior1</td>\n",
       "      <td>renatooliveira,jeffesonmaia,jotaefe,duartefq,J...</td>\n",
       "      <td>350</td>\n",
       "    </tr>\n",
       "    <tr>\n",
       "      <th>3</th>\n",
       "      <td>marcelcaraciolo</td>\n",
       "      <td>thiagoarrais,brunojm,henriquebastos,macndesign...</td>\n",
       "      <td>330</td>\n",
       "    </tr>\n",
       "    <tr>\n",
       "      <th>4</th>\n",
       "      <td>luanfonceca</td>\n",
       "      <td>brunohenrique,luizvarela,gladson,lucasbibiano,...</td>\n",
       "      <td>301</td>\n",
       "    </tr>\n",
       "  </tbody>\n",
       "</table>\n",
       "</div>"
      ],
      "text/plain": [
       "              User                                      All_Followers   nF\n",
       "0          tarruda  Sannis,danielmahon,csjaba,FergusRedican,Victor...  570\n",
       "1         mairatma  brunocoelho,henvic,eduardolundgren,aperrelli,a...  363\n",
       "2  joselitojunior1  renatooliveira,jeffesonmaia,jotaefe,duartefq,J...  350\n",
       "3  marcelcaraciolo  thiagoarrais,brunojm,henriquebastos,macndesign...  330\n",
       "4      luanfonceca  brunohenrique,luizvarela,gladson,lucasbibiano,...  301"
      ]
     },
     "execution_count": 6,
     "metadata": {},
     "output_type": "execute_result"
    }
   ],
   "source": [
    "# load dataset\n",
    "\n",
    "gh_users_followers = pd.read_csv('../data/recife/users__followers.csv')\n",
    "gh_users_followers.head()"
   ]
  },
  {
   "cell_type": "markdown",
   "metadata": {},
   "source": [
    "## Normalizing"
   ]
  },
  {
   "cell_type": "code",
   "execution_count": 7,
   "metadata": {},
   "outputs": [
    {
     "data": {
      "text/html": [
       "<div>\n",
       "<style scoped>\n",
       "    .dataframe tbody tr th:only-of-type {\n",
       "        vertical-align: middle;\n",
       "    }\n",
       "\n",
       "    .dataframe tbody tr th {\n",
       "        vertical-align: top;\n",
       "    }\n",
       "\n",
       "    .dataframe thead th {\n",
       "        text-align: right;\n",
       "    }\n",
       "</style>\n",
       "<table border=\"1\" class=\"dataframe\">\n",
       "  <thead>\n",
       "    <tr style=\"text-align: right;\">\n",
       "      <th></th>\n",
       "      <th>User</th>\n",
       "      <th>All_Followers</th>\n",
       "      <th>nF</th>\n",
       "    </tr>\n",
       "  </thead>\n",
       "  <tbody>\n",
       "    <tr>\n",
       "      <th>0</th>\n",
       "      <td>tarruda</td>\n",
       "      <td>User\n",
       "0           Sannis\n",
       "1      d...</td>\n",
       "      <td>570</td>\n",
       "    </tr>\n",
       "    <tr>\n",
       "      <th>1</th>\n",
       "      <td>mairatma</td>\n",
       "      <td>User\n",
       "0        brunocoelho\n",
       "1   ...</td>\n",
       "      <td>363</td>\n",
       "    </tr>\n",
       "    <tr>\n",
       "      <th>2</th>\n",
       "      <td>joselitojunior1</td>\n",
       "      <td>User\n",
       "0    renatooliveira\n",
       "1     ...</td>\n",
       "      <td>350</td>\n",
       "    </tr>\n",
       "    <tr>\n",
       "      <th>3</th>\n",
       "      <td>marcelcaraciolo</td>\n",
       "      <td>User\n",
       "0      thiagoarrais\n",
       "1     ...</td>\n",
       "      <td>330</td>\n",
       "    </tr>\n",
       "    <tr>\n",
       "      <th>4</th>\n",
       "      <td>luanfonceca</td>\n",
       "      <td>User\n",
       "0     brunohenrique\n",
       "1     ...</td>\n",
       "      <td>301</td>\n",
       "    </tr>\n",
       "  </tbody>\n",
       "</table>\n",
       "</div>"
      ],
      "text/plain": [
       "              User                                      All_Followers   nF\n",
       "0          tarruda                User\n",
       "0           Sannis\n",
       "1      d...  570\n",
       "1         mairatma                  User\n",
       "0        brunocoelho\n",
       "1   ...  363\n",
       "2  joselitojunior1                 User\n",
       "0    renatooliveira\n",
       "1     ...  350\n",
       "3  marcelcaraciolo                 User\n",
       "0      thiagoarrais\n",
       "1     ...  330\n",
       "4      luanfonceca                 User\n",
       "0     brunohenrique\n",
       "1     ...  301"
      ]
     },
     "execution_count": 7,
     "metadata": {},
     "output_type": "execute_result"
    }
   ],
   "source": [
    "# normalizing\n",
    "def fs_to_dataframe(fs):\n",
    "    return pd.DataFrame({'User': re.split('\\W+', str(fs))})\n",
    "\n",
    "gh_users_followers['All_Followers'] = gh_users_followers['All_Followers'].fillna('').apply(fs_to_dataframe) # apenas para simplificar operacoes \n",
    "\n",
    "gh_users_followers.head()"
   ]
  },
  {
   "cell_type": "markdown",
   "metadata": {},
   "source": [
    "## Filtering followers\n",
    "\n",
    "**Recife**\n",
    "\n",
    "Gostariamos de criar outra coluna contendo apenas os seguidores da cidade de Recife: Para isso vamos fazer um merge full inner(intersecao) de cada lista de seguidores com a lista de usuários (que são recifenses)"
   ]
  },
  {
   "cell_type": "code",
   "execution_count": 8,
   "metadata": {},
   "outputs": [
    {
     "data": {
      "text/html": [
       "<div>\n",
       "<style scoped>\n",
       "    .dataframe tbody tr th:only-of-type {\n",
       "        vertical-align: middle;\n",
       "    }\n",
       "\n",
       "    .dataframe tbody tr th {\n",
       "        vertical-align: top;\n",
       "    }\n",
       "\n",
       "    .dataframe thead th {\n",
       "        text-align: right;\n",
       "    }\n",
       "</style>\n",
       "<table border=\"1\" class=\"dataframe\">\n",
       "  <thead>\n",
       "    <tr style=\"text-align: right;\">\n",
       "      <th></th>\n",
       "      <th>User</th>\n",
       "      <th>All_Followers</th>\n",
       "      <th>nF</th>\n",
       "      <th>Followers</th>\n",
       "      <th>nFs</th>\n",
       "    </tr>\n",
       "  </thead>\n",
       "  <tbody>\n",
       "    <tr>\n",
       "      <th>0</th>\n",
       "      <td>tarruda</td>\n",
       "      <td>User\n",
       "0           Sannis\n",
       "1      d...</td>\n",
       "      <td>570</td>\n",
       "      <td>User\n",
       "0  henriquemenezes\n",
       "1   paul...</td>\n",
       "      <td>5</td>\n",
       "    </tr>\n",
       "    <tr>\n",
       "      <th>1</th>\n",
       "      <td>mairatma</td>\n",
       "      <td>User\n",
       "0        brunocoelho\n",
       "1   ...</td>\n",
       "      <td>363</td>\n",
       "      <td>User\n",
       "0        simoneas02\n",
       "1     ...</td>\n",
       "      <td>19</td>\n",
       "    </tr>\n",
       "    <tr>\n",
       "      <th>2</th>\n",
       "      <td>joselitojunior1</td>\n",
       "      <td>User\n",
       "0    renatooliveira\n",
       "1     ...</td>\n",
       "      <td>350</td>\n",
       "      <td>User\n",
       "0      luanfonceca\n",
       "1   rena...</td>\n",
       "      <td>23</td>\n",
       "    </tr>\n",
       "    <tr>\n",
       "      <th>3</th>\n",
       "      <td>marcelcaraciolo</td>\n",
       "      <td>User\n",
       "0      thiagoarrais\n",
       "1     ...</td>\n",
       "      <td>330</td>\n",
       "      <td>User\n",
       "0        luanfonceca\n",
       "1   ...</td>\n",
       "      <td>28</td>\n",
       "    </tr>\n",
       "    <tr>\n",
       "      <th>4</th>\n",
       "      <td>luanfonceca</td>\n",
       "      <td>User\n",
       "0     brunohenrique\n",
       "1     ...</td>\n",
       "      <td>301</td>\n",
       "      <td>User\n",
       "0  deividazevedo2\n",
       "1         ...</td>\n",
       "      <td>9</td>\n",
       "    </tr>\n",
       "  </tbody>\n",
       "</table>\n",
       "</div>"
      ],
      "text/plain": [
       "              User                                      All_Followers   nF  \\\n",
       "0          tarruda                User\n",
       "0           Sannis\n",
       "1      d...  570   \n",
       "1         mairatma                  User\n",
       "0        brunocoelho\n",
       "1   ...  363   \n",
       "2  joselitojunior1                 User\n",
       "0    renatooliveira\n",
       "1     ...  350   \n",
       "3  marcelcaraciolo                 User\n",
       "0      thiagoarrais\n",
       "1     ...  330   \n",
       "4      luanfonceca                 User\n",
       "0     brunohenrique\n",
       "1     ...  301   \n",
       "\n",
       "                                           Followers  nFs  \n",
       "0                User\n",
       "0  henriquemenezes\n",
       "1   paul...    5  \n",
       "1                 User\n",
       "0        simoneas02\n",
       "1     ...   19  \n",
       "2                User\n",
       "0      luanfonceca\n",
       "1   rena...   23  \n",
       "3                  User\n",
       "0        luanfonceca\n",
       "1   ...   28  \n",
       "4               User\n",
       "0  deividazevedo2\n",
       "1         ...    9  "
      ]
     },
     "execution_count": 8,
     "metadata": {},
     "output_type": "execute_result"
    }
   ],
   "source": [
    "# Dataframe incluindo colunas contendo apenas seguidores recifenses\n",
    "\n",
    "gh_users_followers['Followers'] = gh_users_followers['All_Followers'].apply(pd.DataFrame({'User':gh_users_followers['User']}).merge)\n",
    "\n",
    "gh_users_followers['nFs'] = gh_users_followers['Followers'].apply(len)\n",
    "\n",
    "gh_users_followers.head()"
   ]
  },
  {
   "cell_type": "code",
   "execution_count": 9,
   "metadata": {},
   "outputs": [
    {
     "data": {
      "text/html": [
       "<div>\n",
       "<style scoped>\n",
       "    .dataframe tbody tr th:only-of-type {\n",
       "        vertical-align: middle;\n",
       "    }\n",
       "\n",
       "    .dataframe tbody tr th {\n",
       "        vertical-align: top;\n",
       "    }\n",
       "\n",
       "    .dataframe thead th {\n",
       "        text-align: right;\n",
       "    }\n",
       "</style>\n",
       "<table border=\"1\" class=\"dataframe\">\n",
       "  <thead>\n",
       "    <tr style=\"text-align: right;\">\n",
       "      <th></th>\n",
       "      <th>User</th>\n",
       "      <th>Followers</th>\n",
       "      <th>nFs</th>\n",
       "      <th>All_Followers</th>\n",
       "      <th>nF</th>\n",
       "    </tr>\n",
       "  </thead>\n",
       "  <tbody>\n",
       "    <tr>\n",
       "      <th>12</th>\n",
       "      <td>fernandocastor</td>\n",
       "      <td>User\n",
       "0   joselitojunior1\n",
       "1     ...</td>\n",
       "      <td>48</td>\n",
       "      <td>User\n",
       "0     guiocavalcanti\n",
       "1   ...</td>\n",
       "      <td>129</td>\n",
       "    </tr>\n",
       "    <tr>\n",
       "      <th>8</th>\n",
       "      <td>filipeximenes</td>\n",
       "      <td>User\n",
       "0          luanfonceca\n",
       "...</td>\n",
       "      <td>40</td>\n",
       "      <td>User\n",
       "0       luisgabriel\n",
       "1    r...</td>\n",
       "      <td>177</td>\n",
       "    </tr>\n",
       "    <tr>\n",
       "      <th>7</th>\n",
       "      <td>simoneas02</td>\n",
       "      <td>User\n",
       "0         talitaolive...</td>\n",
       "      <td>37</td>\n",
       "      <td>User\n",
       "0      ElsonBarcelos\n",
       "1   ...</td>\n",
       "      <td>250</td>\n",
       "    </tr>\n",
       "    <tr>\n",
       "      <th>9</th>\n",
       "      <td>renatooliveira</td>\n",
       "      <td>User\n",
       "0   joselitojunior1\n",
       "1     ...</td>\n",
       "      <td>35</td>\n",
       "      <td>User\n",
       "0         adrianomelo\n",
       "1 ...</td>\n",
       "      <td>166</td>\n",
       "    </tr>\n",
       "    <tr>\n",
       "      <th>26</th>\n",
       "      <td>lailsonbm</td>\n",
       "      <td>User\n",
       "0       luanfonceca\n",
       "1     ...</td>\n",
       "      <td>29</td>\n",
       "      <td>User\n",
       "0          kraudio\n",
       "1    luc...</td>\n",
       "      <td>73</td>\n",
       "    </tr>\n",
       "  </tbody>\n",
       "</table>\n",
       "</div>"
      ],
      "text/plain": [
       "              User                                          Followers  nFs  \\\n",
       "12  fernandocastor                 User\n",
       "0   joselitojunior1\n",
       "1     ...   48   \n",
       "8    filipeximenes                    User\n",
       "0          luanfonceca\n",
       "...   40   \n",
       "7       simoneas02                      User\n",
       "0         talitaolive...   37   \n",
       "9   renatooliveira                 User\n",
       "0   joselitojunior1\n",
       "1     ...   35   \n",
       "26       lailsonbm                 User\n",
       "0       luanfonceca\n",
       "1     ...   29   \n",
       "\n",
       "                                        All_Followers   nF  \n",
       "12                  User\n",
       "0     guiocavalcanti\n",
       "1   ...  129  \n",
       "8                  User\n",
       "0       luisgabriel\n",
       "1    r...  177  \n",
       "7                   User\n",
       "0      ElsonBarcelos\n",
       "1   ...  250  \n",
       "9                    User\n",
       "0         adrianomelo\n",
       "1 ...  166  \n",
       "26                User\n",
       "0          kraudio\n",
       "1    luc...   73  "
      ]
     },
     "execution_count": 9,
     "metadata": {},
     "output_type": "execute_result"
    }
   ],
   "source": [
    "# foco na visualização dos Followers recifenses \n",
    "# (mantendo no DataFrame todos os seguidores(recifenses e não recifenses))\n",
    "\n",
    "gh_users_followers = gh_users_followers.loc[:, ['User', 'Followers', 'nFs', 'All_Followers', 'nF']]\n",
    "gh_users_followers.sort_values('nFs', axis=0, ascending=False, inplace=True)\n",
    "\n",
    "gh_users_followers.head()"
   ]
  },
  {
   "cell_type": "markdown",
   "metadata": {},
   "source": [
    "# Building the Followers Graph\n",
    "\n",
    "A nossa principal análise envolve a criação de um grafo direcionado em que cada aresta indica a relação \"X segue Y\"\n",
    "\n",
    "**Construção do grafo de seguidores.** Dado uma lista de usuarios e pra cada usuario a lista de seguidores criamos o grafo de seguidores  <GRAFO DE SEGUIDORES> = onde pra cada relação A segue B é criada uma aresta direcionada onde o ponto de origem é o A e o de chegada é o B (Lista de adjacências).\n",
    "\n",
    "** Nós:** Usuarios do github\n",
    "        \n",
    "** Arestas:** Relacao \"seguir\"\n",
    " \n",
    "\n",
    "** Analise do Grafo e Discussão dos resultados obtidos **\n",
    "\n",
    "\n",
    "* **GRAU**\n",
    "    * Densidade = 0.001 (visualização dos nos vs arestas) - graph2 e graph3\n",
    "        * baixa densidade = baixa fração de arestas (2152)\n",
    "\n",
    "    * Distribuição de grau\n",
    "        * Lei de potencia: Poucos nós com muitos seguidores\n",
    "        * Grau de entrada: Quantidade de seguidores totais (recifenses ou não) (All-In-degree)\n",
    "        * Grau de entrada: Quantidade de seguidores recifenses (In-Degree)\n",
    "    * Grau médio indica nivel de reciprocidade = 1.133 (visualização distribuição dos graus) - graph 4\n",
    "\n",
    "\n",
    "* **CAMINHO**\n",
    "    * Efeito Mundo Pequeno\n",
    "    * Experimento de Milgram: Six degrees of separation\n",
    "    * Caminho Medio: Diametro Da Rede = 13 (visualizacao do maior caminho)\n",
    "    * Tamanho do Caminho medio = 5.067 \n",
    "        * Rede de mundo pequeno (Visualização de todos os caminhos de tamanho 5)\n",
    "\n",
    "\n",
    "* **ARESTAS** \n",
    "\n",
    "    * Conectividade (visualizacao - graph5)\n",
    "        * O tamanho indica betweeness (intermediacao), a cor indica componentes conectados\n",
    "        * Nos conectados e soltos quase meio a meio\n",
    "        * Number of Weakly Connected Components: 1157\n",
    "        * Number of Strongly Connected Components: 1503\n",
    "        * Transitividade: Coeficiente de Clusterizaçao médio = 0.058\n",
    "        * Rede muito desconectada\n",
    "\n",
    "\n",
    "* **VERTICES**\n",
    "\n",
    "    * Influencia/Autoridade/Importancia (Visualização - graph6)\n",
    "        * O tamanho dos nos indica autoridade (importância)\n",
    "        * A cor indica componentes conectados\n",
    "        * Pra um no ser importante não precisa ser fortemente conectado\n",
    "        \n",
    "    * Centralidade: \n",
    "        * PageRank (visualizacao) - graph8\n",
    "        * Eigenvector (visualizacao) - graph 9\n",
    "        * Betweeness (visualizacao) - graph5\n",
    "\n",
    "    * Hubs  (1 cluster gigante 1 varios pequenos) (visualização dos Hubs)\n",
    "\n",
    "    * Egocentrismo (Filtros)\n",
    "\n",
    "\n",
    "\n"
   ]
  },
  {
   "cell_type": "code",
   "execution_count": 10,
   "metadata": {},
   "outputs": [],
   "source": [
    "# todos os usuarios recifenses (nem todos serao considerados como nos do graph - ver Parte 2) \n",
    "# nodes_preview = gh_users_followers.loc[:,['User','nFs', 'nF']]\n",
    "# nodes_preview.columns = ['Id', 'In-Degree', 'All-In-Degree']\n",
    "\n",
    "# nodes_preview.head()"
   ]
  },
  {
   "cell_type": "code",
   "execution_count": 11,
   "metadata": {},
   "outputs": [],
   "source": [
    "# criacao das arestas\n",
    "\n",
    "# def create_edges_df(batches):\n",
    "#     return pd.concat(batches,\n",
    "#         ignore_index=True)\n",
    "\n",
    "# pairs = zip(gh_users_followers.User, gh_users_followers.Followers)\n",
    "\n",
    "# edges = [pd.DataFrame([{'Source':str(f), 'Target':str(u)} for f in fs['User']]) for (u,fs) in pairs]\n",
    "\n",
    "# edges_df = create_edges_df(edges)\n",
    "# edges_df.head()\n",
    "# edges_df.to_csv('../data/recife/edges.csv', index=False)"
   ]
  },
  {
   "cell_type": "code",
   "execution_count": 12,
   "metadata": {},
   "outputs": [],
   "source": [
    "# formatando para exportar\n",
    "\n",
    "# gh_users_followers['Followers'] = gh_users_followers['Followers'].apply(lambda x: x.apply(','.join))\n",
    "# gh_users_followers['All_Followers'] = gh_users_followers['All_Followers'].apply(lambda x: x.apply(','.join))\n",
    "\n",
    "# gh_users_followers.head()\n",
    "# gh_users_followers.to_csv('../data/recife/users__followers.csv', index=False)"
   ]
  },
  {
   "cell_type": "markdown",
   "metadata": {},
   "source": [
    "\n",
    "# Part 2: Followers Analysis - Users_Followers"
   ]
  },
  {
   "cell_type": "code",
   "execution_count": 13,
   "metadata": {},
   "outputs": [
    {
     "data": {
      "text/plain": [
       "1992"
      ]
     },
     "execution_count": 13,
     "metadata": {},
     "output_type": "execute_result"
    }
   ],
   "source": [
    "# numero de usuarios recifenses \n",
    "gh_users_followers['User'].count()"
   ]
  },
  {
   "cell_type": "code",
   "execution_count": 14,
   "metadata": {},
   "outputs": [
    {
     "data": {
      "text/plain": [
       "692"
      ]
     },
     "execution_count": 14,
     "metadata": {},
     "output_type": "execute_result"
    }
   ],
   "source": [
    "# numero de usuarios recifenses com seguidores recifenses \n",
    "users_0_fs = [str(n) for n in gh_users_followers.User[gh_users_followers['nFs'] != 0]]\n",
    "len(users_0_fs)"
   ]
  },
  {
   "cell_type": "code",
   "execution_count": 15,
   "metadata": {},
   "outputs": [
    {
     "data": {
      "text/plain": [
       "1300"
      ]
     },
     "execution_count": 15,
     "metadata": {},
     "output_type": "execute_result"
    }
   ],
   "source": [
    "# numero de usuarios recifenses sem seguidores recifenses\n",
    "users_0_fs = [str(n) for n in gh_users_followers.User[gh_users_followers['nFs'] == 0]]\n",
    "len(users_0_fs)"
   ]
  },
  {
   "cell_type": "code",
   "execution_count": 16,
   "metadata": {},
   "outputs": [
    {
     "data": {
      "text/plain": [
       "1103"
      ]
     },
     "execution_count": 16,
     "metadata": {},
     "output_type": "execute_result"
    }
   ],
   "source": [
    "# numero de usuarios recifenses com seguidores (recifenses ou nao)\n",
    "users_0_fs = [str(n) for n in gh_users_followers.User[gh_users_followers['nF'] != 0]]\n",
    "len(users_0_fs)"
   ]
  },
  {
   "cell_type": "code",
   "execution_count": 17,
   "metadata": {},
   "outputs": [
    {
     "data": {
      "text/plain": [
       "889"
      ]
     },
     "execution_count": 17,
     "metadata": {},
     "output_type": "execute_result"
    }
   ],
   "source": [
    "# numero de usuarios recifenses sem seguidores (recifenses ou nao)\n",
    "users_0_fs = [str(n) for n in gh_users_followers.User[gh_users_followers['nF'] == 0]]\n",
    "len(users_0_fs)"
   ]
  },
  {
   "cell_type": "code",
   "execution_count": 18,
   "metadata": {},
   "outputs": [
    {
     "data": {
      "text/plain": [
       "2320"
      ]
     },
     "execution_count": 18,
     "metadata": {},
     "output_type": "execute_result"
    }
   ],
   "source": [
    "# numero de arestas (somatorio do total de seguidores)\n",
    "gh_users_followers.nFs.sum()"
   ]
  },
  {
   "cell_type": "code",
   "execution_count": 19,
   "metadata": {},
   "outputs": [
    {
     "data": {
      "text/html": [
       "<div>\n",
       "<style scoped>\n",
       "    .dataframe tbody tr th:only-of-type {\n",
       "        vertical-align: middle;\n",
       "    }\n",
       "\n",
       "    .dataframe tbody tr th {\n",
       "        vertical-align: top;\n",
       "    }\n",
       "\n",
       "    .dataframe thead th {\n",
       "        text-align: right;\n",
       "    }\n",
       "</style>\n",
       "<table border=\"1\" class=\"dataframe\">\n",
       "  <thead>\n",
       "    <tr style=\"text-align: right;\">\n",
       "      <th></th>\n",
       "      <th>source</th>\n",
       "      <th>target</th>\n",
       "    </tr>\n",
       "  </thead>\n",
       "  <tbody>\n",
       "    <tr>\n",
       "      <th>0</th>\n",
       "      <td>joselitojunior1</td>\n",
       "      <td>fernandocastor</td>\n",
       "    </tr>\n",
       "    <tr>\n",
       "      <th>1</th>\n",
       "      <td>filipeximenes</td>\n",
       "      <td>fernandocastor</td>\n",
       "    </tr>\n",
       "    <tr>\n",
       "      <th>2</th>\n",
       "      <td>renatooliveira</td>\n",
       "      <td>fernandocastor</td>\n",
       "    </tr>\n",
       "    <tr>\n",
       "      <th>3</th>\n",
       "      <td>henvic</td>\n",
       "      <td>fernandocastor</td>\n",
       "    </tr>\n",
       "    <tr>\n",
       "      <th>4</th>\n",
       "      <td>fjsj</td>\n",
       "      <td>fernandocastor</td>\n",
       "    </tr>\n",
       "  </tbody>\n",
       "</table>\n",
       "</div>"
      ],
      "text/plain": [
       "            source          target\n",
       "0  joselitojunior1  fernandocastor\n",
       "1    filipeximenes  fernandocastor\n",
       "2   renatooliveira  fernandocastor\n",
       "3           henvic  fernandocastor\n",
       "4             fjsj  fernandocastor"
      ]
     },
     "execution_count": 19,
     "metadata": {},
     "output_type": "execute_result"
    }
   ],
   "source": [
    "# revendo o numero de arestas\n",
    "edges = pd.read_csv('../data/recife/edges.csv')\n",
    "edges.head()"
   ]
  },
  {
   "cell_type": "markdown",
   "metadata": {},
   "source": [
    "**- Número de nós considerados**\n",
    "\n",
    "Note que como estes nós pertencem a uma aresta, eles representam os usuários que tem seguidores e/ou seguem alguém."
   ]
  },
  {
   "cell_type": "code",
   "execution_count": 20,
   "metadata": {},
   "outputs": [
    {
     "data": {
      "text/plain": [
       "828"
      ]
     },
     "execution_count": 20,
     "metadata": {},
     "output_type": "execute_result"
    }
   ],
   "source": [
    "\n",
    "# (usuarios recifenses, excluidos os que não tem seguidores se e somente se não seguem ninguem)\n",
    "len(pd.unique(edges[['source','target']].values.ravel()))\n"
   ]
  },
  {
   "cell_type": "code",
   "execution_count": 21,
   "metadata": {},
   "outputs": [
    {
     "data": {
      "text/plain": [
       "nFs\n",
       "0     1300\n",
       "1      310\n",
       "2      142\n",
       "3       67\n",
       "4       42\n",
       "5       27\n",
       "7       19\n",
       "6       18\n",
       "8       14\n",
       "9       14\n",
       "11       6\n",
       "14       5\n",
       "12       3\n",
       "23       3\n",
       "20       2\n",
       "13       2\n",
       "18       2\n",
       "10       2\n",
       "15       2\n",
       "24       2\n",
       "25       2\n",
       "29       1\n",
       "37       1\n",
       "35       1\n",
       "16       1\n",
       "28       1\n",
       "19       1\n",
       "40       1\n",
       "48       1\n",
       "Name: count, dtype: int64"
      ]
     },
     "execution_count": 21,
     "metadata": {},
     "output_type": "execute_result"
    }
   ],
   "source": [
    "# distribuicao do Grau\n",
    "gh_users_followers[\"nFs\"].value_counts()"
   ]
  },
  {
   "cell_type": "code",
   "execution_count": 22,
   "metadata": {},
   "outputs": [
    {
     "data": {
      "text/plain": [
       "nFs\n",
       "0     eliene-mb,anniewalker,lucasvsr,nataliaalves,th...\n",
       "1     filipe-torres,ericksantana,Kassio-Ferreira,koo...\n",
       "2     sudorafa,gilesv,andreneto,marcoshmendes,tonnyv...\n",
       "3     luhanlacerda,walber,mauLeal,tcostam,bebetocf,v...\n",
       "4     vmms16,wwcoderecife,andreldm,lhew,brunovpl,cit...\n",
       "5     favasconcelos,alinedoleron,djalmaafilho,Master...\n",
       "6     vanessa,gcaraciolo,luizlago,omailson,rvlb-19,L...\n",
       "7     pedroqueiroz,t0rr3sp3dr0,leticiamachado,felipe...\n",
       "8     iagobelo,dvro,nielsonsantana,tomersimis,JoaoGF...\n",
       "9     patrickrbc,luanfonceca,jeftarmascarenhas,ovict...\n",
       "10                              miguelarauj1o,Cisneiros\n",
       "11    lmarinho,leopoldomt,karlafalcao,irgmedeiros,br...\n",
       "12           brunnogomes,jordanamorais,marcellustavares\n",
       "13                            brunofarache,alexpessoajr\n",
       "14    vinicius3w,thiagodiniz,diegonvs,victorlaerte,a...\n",
       "15                                interaminense,dakerfp\n",
       "16                                           pauloborba\n",
       "18                                        gvc,luiztiago\n",
       "19                                             mairatma\n",
       "20                                  fjsj,talitaoliveira\n",
       "23                   joselitojunior1,gileno,arthuralvim\n",
       "24                     guiocavalcanti,clovisdasilvaneto\n",
       "25                               guilhermefarias,henvic\n",
       "28                                      marcelcaraciolo\n",
       "29                                            lailsonbm\n",
       "35                                       renatooliveira\n",
       "37                                           simoneas02\n",
       "40                                        filipeximenes\n",
       "48                                       fernandocastor\n",
       "Name: User, dtype: object"
      ]
     },
     "execution_count": 22,
     "metadata": {},
     "output_type": "execute_result"
    }
   ],
   "source": [
    "# distribuicao do grau - usuarios por ocorrencias da quantidade de seguidores \n",
    "groupby_nfs = gh_users_followers.groupby('nFs')\n",
    "groupby_nfs['User'].apply( ','.join)"
   ]
  },
  {
   "cell_type": "markdown",
   "metadata": {},
   "source": [
    "# Part 3: Metrics observed on Gephi"
   ]
  },
  {
   "cell_type": "code",
   "execution_count": 26,
   "metadata": {},
   "outputs": [
    {
     "data": {
      "text/html": [
       "<div>\n",
       "<style scoped>\n",
       "    .dataframe tbody tr th:only-of-type {\n",
       "        vertical-align: middle;\n",
       "    }\n",
       "\n",
       "    .dataframe tbody tr th {\n",
       "        vertical-align: top;\n",
       "    }\n",
       "\n",
       "    .dataframe thead th {\n",
       "        text-align: right;\n",
       "    }\n",
       "</style>\n",
       "<table border=\"1\" class=\"dataframe\">\n",
       "  <thead>\n",
       "    <tr style=\"text-align: right;\">\n",
       "      <th></th>\n",
       "      <th>User</th>\n",
       "      <th>In_Degree</th>\n",
       "      <th>Out_Degree</th>\n",
       "      <th>Degree</th>\n",
       "      <th>Modularity_Class</th>\n",
       "      <th>Page_Rank</th>\n",
       "      <th>Eccentricity_Centrality</th>\n",
       "      <th>Closness_Centrality</th>\n",
       "      <th>Betweeness_Centrality</th>\n",
       "      <th>EigenVector_Centrality</th>\n",
       "    </tr>\n",
       "  </thead>\n",
       "  <tbody>\n",
       "    <tr>\n",
       "      <th>0</th>\n",
       "      <td>fernandocastor</td>\n",
       "      <td>48</td>\n",
       "      <td>7</td>\n",
       "      <td>55</td>\n",
       "      <td>6</td>\n",
       "      <td>0.012520</td>\n",
       "      <td>8</td>\n",
       "      <td>0.253469</td>\n",
       "      <td>37787.361925</td>\n",
       "      <td>0.751562</td>\n",
       "    </tr>\n",
       "    <tr>\n",
       "      <th>1</th>\n",
       "      <td>filipeximenes</td>\n",
       "      <td>40</td>\n",
       "      <td>32</td>\n",
       "      <td>72</td>\n",
       "      <td>0</td>\n",
       "      <td>0.014185</td>\n",
       "      <td>9</td>\n",
       "      <td>0.267709</td>\n",
       "      <td>40297.561868</td>\n",
       "      <td>1.000000</td>\n",
       "    </tr>\n",
       "    <tr>\n",
       "      <th>2</th>\n",
       "      <td>simoneas02</td>\n",
       "      <td>37</td>\n",
       "      <td>26</td>\n",
       "      <td>63</td>\n",
       "      <td>9</td>\n",
       "      <td>0.011433</td>\n",
       "      <td>10</td>\n",
       "      <td>0.268627</td>\n",
       "      <td>40894.607104</td>\n",
       "      <td>0.211671</td>\n",
       "    </tr>\n",
       "    <tr>\n",
       "      <th>3</th>\n",
       "      <td>renatooliveira</td>\n",
       "      <td>35</td>\n",
       "      <td>28</td>\n",
       "      <td>63</td>\n",
       "      <td>0</td>\n",
       "      <td>0.010550</td>\n",
       "      <td>9</td>\n",
       "      <td>0.258613</td>\n",
       "      <td>26763.575801</td>\n",
       "      <td>0.994672</td>\n",
       "    </tr>\n",
       "    <tr>\n",
       "      <th>4</th>\n",
       "      <td>lailsonbm</td>\n",
       "      <td>29</td>\n",
       "      <td>1</td>\n",
       "      <td>30</td>\n",
       "      <td>0</td>\n",
       "      <td>0.013151</td>\n",
       "      <td>11</td>\n",
       "      <td>0.149686</td>\n",
       "      <td>1142.658235</td>\n",
       "      <td>0.838433</td>\n",
       "    </tr>\n",
       "  </tbody>\n",
       "</table>\n",
       "</div>"
      ],
      "text/plain": [
       "             User  In_Degree  Out_Degree  Degree  Modularity_Class  Page_Rank  \\\n",
       "0  fernandocastor         48           7      55                 6   0.012520   \n",
       "1   filipeximenes         40          32      72                 0   0.014185   \n",
       "2      simoneas02         37          26      63                 9   0.011433   \n",
       "3  renatooliveira         35          28      63                 0   0.010550   \n",
       "4       lailsonbm         29           1      30                 0   0.013151   \n",
       "\n",
       "   Eccentricity_Centrality  Closness_Centrality  Betweeness_Centrality  \\\n",
       "0                        8             0.253469           37787.361925   \n",
       "1                        9             0.267709           40297.561868   \n",
       "2                       10             0.268627           40894.607104   \n",
       "3                        9             0.258613           26763.575801   \n",
       "4                       11             0.149686            1142.658235   \n",
       "\n",
       "   EigenVector_Centrality  \n",
       "0                0.751562  \n",
       "1                1.000000  \n",
       "2                0.211671  \n",
       "3                0.994672  \n",
       "4                0.838433  "
      ]
     },
     "execution_count": 26,
     "metadata": {},
     "output_type": "execute_result"
    }
   ],
   "source": [
    "#\n",
    "nodes_data = pd.read_csv('../data/recife/graph_data.csv')\n",
    "\n",
    "# nodes_data.columns = ['User', 'In_Degree', 'Out_Degree', 'Degree', 'Modularity_Class', 'Page_Rank', 'Eccentricity_Centrality', 'Closness_Centrality', 'Betweeness_Centrality', 'EigenVector_Centrality']\n",
    "# nodes_data.sort_values('In_Degree', axis=0, ascending=False, inplace=True)\n",
    "# nodes_data.to_csv('../data/recife/nodes_data.csv', index=False)\n",
    "\n",
    "nodes_data.head()"
   ]
  },
  {
   "cell_type": "markdown",
   "metadata": {},
   "source": [
    "## COMUNIDADES"
   ]
  },
  {
   "cell_type": "code",
   "execution_count": 27,
   "metadata": {},
   "outputs": [
    {
     "data": {
      "text/html": [
       "<div>\n",
       "<style scoped>\n",
       "    .dataframe tbody tr th:only-of-type {\n",
       "        vertical-align: middle;\n",
       "    }\n",
       "\n",
       "    .dataframe tbody tr th {\n",
       "        vertical-align: top;\n",
       "    }\n",
       "\n",
       "    .dataframe thead th {\n",
       "        text-align: right;\n",
       "    }\n",
       "</style>\n",
       "<table border=\"1\" class=\"dataframe\">\n",
       "  <thead>\n",
       "    <tr style=\"text-align: right;\">\n",
       "      <th></th>\n",
       "      <th>In_Degree</th>\n",
       "      <th>Out_Degree</th>\n",
       "      <th>Degree</th>\n",
       "      <th>Modularity_Class</th>\n",
       "      <th>Page_Rank</th>\n",
       "      <th>Eccentricity_Centrality</th>\n",
       "      <th>Closness_Centrality</th>\n",
       "      <th>Betweeness_Centrality</th>\n",
       "      <th>EigenVector_Centrality</th>\n",
       "    </tr>\n",
       "  </thead>\n",
       "  <tbody>\n",
       "    <tr>\n",
       "      <th>count</th>\n",
       "      <td>828.000000</td>\n",
       "      <td>828.000000</td>\n",
       "      <td>828.000000</td>\n",
       "      <td>828.000000</td>\n",
       "      <td>828.000000</td>\n",
       "      <td>828.000000</td>\n",
       "      <td>828.000000</td>\n",
       "      <td>828.000000</td>\n",
       "      <td>828.000000</td>\n",
       "    </tr>\n",
       "    <tr>\n",
       "      <th>mean</th>\n",
       "      <td>2.793478</td>\n",
       "      <td>2.793478</td>\n",
       "      <td>5.586957</td>\n",
       "      <td>7.602657</td>\n",
       "      <td>0.001208</td>\n",
       "      <td>6.553140</td>\n",
       "      <td>0.256711</td>\n",
       "      <td>1419.676329</td>\n",
       "      <td>0.042428</td>\n",
       "    </tr>\n",
       "    <tr>\n",
       "      <th>std</th>\n",
       "      <td>4.567072</td>\n",
       "      <td>4.667115</td>\n",
       "      <td>8.360292</td>\n",
       "      <td>6.902523</td>\n",
       "      <td>0.001698</td>\n",
       "      <td>4.938395</td>\n",
       "      <td>0.295489</td>\n",
       "      <td>4458.272707</td>\n",
       "      <td>0.107496</td>\n",
       "    </tr>\n",
       "    <tr>\n",
       "      <th>min</th>\n",
       "      <td>0.000000</td>\n",
       "      <td>0.000000</td>\n",
       "      <td>1.000000</td>\n",
       "      <td>-3.000000</td>\n",
       "      <td>0.000329</td>\n",
       "      <td>0.000000</td>\n",
       "      <td>0.000000</td>\n",
       "      <td>0.000000</td>\n",
       "      <td>0.000000</td>\n",
       "    </tr>\n",
       "    <tr>\n",
       "      <th>25%</th>\n",
       "      <td>1.000000</td>\n",
       "      <td>1.000000</td>\n",
       "      <td>1.000000</td>\n",
       "      <td>1.750000</td>\n",
       "      <td>0.000444</td>\n",
       "      <td>1.000000</td>\n",
       "      <td>0.127562</td>\n",
       "      <td>0.000000</td>\n",
       "      <td>0.001290</td>\n",
       "    </tr>\n",
       "    <tr>\n",
       "      <th>50%</th>\n",
       "      <td>1.000000</td>\n",
       "      <td>1.000000</td>\n",
       "      <td>3.000000</td>\n",
       "      <td>6.000000</td>\n",
       "      <td>0.000682</td>\n",
       "      <td>9.000000</td>\n",
       "      <td>0.191944</td>\n",
       "      <td>0.000000</td>\n",
       "      <td>0.006063</td>\n",
       "    </tr>\n",
       "    <tr>\n",
       "      <th>75%</th>\n",
       "      <td>3.000000</td>\n",
       "      <td>3.000000</td>\n",
       "      <td>6.000000</td>\n",
       "      <td>12.000000</td>\n",
       "      <td>0.001235</td>\n",
       "      <td>11.000000</td>\n",
       "      <td>0.224246</td>\n",
       "      <td>692.926692</td>\n",
       "      <td>0.029582</td>\n",
       "    </tr>\n",
       "    <tr>\n",
       "      <th>max</th>\n",
       "      <td>48.000000</td>\n",
       "      <td>46.000000</td>\n",
       "      <td>72.000000</td>\n",
       "      <td>33.000000</td>\n",
       "      <td>0.020541</td>\n",
       "      <td>14.000000</td>\n",
       "      <td>1.000000</td>\n",
       "      <td>40894.607104</td>\n",
       "      <td>1.000000</td>\n",
       "    </tr>\n",
       "  </tbody>\n",
       "</table>\n",
       "</div>"
      ],
      "text/plain": [
       "        In_Degree  Out_Degree      Degree  Modularity_Class   Page_Rank  \\\n",
       "count  828.000000  828.000000  828.000000        828.000000  828.000000   \n",
       "mean     2.793478    2.793478    5.586957          7.602657    0.001208   \n",
       "std      4.567072    4.667115    8.360292          6.902523    0.001698   \n",
       "min      0.000000    0.000000    1.000000         -3.000000    0.000329   \n",
       "25%      1.000000    1.000000    1.000000          1.750000    0.000444   \n",
       "50%      1.000000    1.000000    3.000000          6.000000    0.000682   \n",
       "75%      3.000000    3.000000    6.000000         12.000000    0.001235   \n",
       "max     48.000000   46.000000   72.000000         33.000000    0.020541   \n",
       "\n",
       "       Eccentricity_Centrality  Closness_Centrality  Betweeness_Centrality  \\\n",
       "count               828.000000           828.000000             828.000000   \n",
       "mean                  6.553140             0.256711            1419.676329   \n",
       "std                   4.938395             0.295489            4458.272707   \n",
       "min                   0.000000             0.000000               0.000000   \n",
       "25%                   1.000000             0.127562               0.000000   \n",
       "50%                   9.000000             0.191944               0.000000   \n",
       "75%                  11.000000             0.224246             692.926692   \n",
       "max                  14.000000             1.000000           40894.607104   \n",
       "\n",
       "       EigenVector_Centrality  \n",
       "count              828.000000  \n",
       "mean                 0.042428  \n",
       "std                  0.107496  \n",
       "min                  0.000000  \n",
       "25%                  0.001290  \n",
       "50%                  0.006063  \n",
       "75%                  0.029582  \n",
       "max                  1.000000  "
      ]
     },
     "execution_count": 27,
     "metadata": {},
     "output_type": "execute_result"
    }
   ],
   "source": [
    "nodes_data.describe()"
   ]
  },
  {
   "cell_type": "markdown",
   "metadata": {},
   "source": [
    "**Legenda Modularity_Class**. Colocamos:  \n",
    "- \\-2 para as \"comunidades\" de tamanho 2\n",
    "- \\-3 para as \"comunidades\" de tamanho 3\n"
   ]
  },
  {
   "cell_type": "markdown",
   "metadata": {},
   "source": []
  },
  {
   "cell_type": "code",
   "execution_count": null,
   "metadata": {},
   "outputs": [],
   "source": []
  }
 ],
 "metadata": {
  "kernelspec": {
   "display_name": "Python 3 (ipykernel)",
   "language": "python",
   "name": "python3"
  },
  "language_info": {
   "codemirror_mode": {
    "name": "ipython",
    "version": 3
   },
   "file_extension": ".py",
   "mimetype": "text/x-python",
   "name": "python",
   "nbconvert_exporter": "python",
   "pygments_lexer": "ipython3",
   "version": "3.10.14"
  }
 },
 "nbformat": 4,
 "nbformat_minor": 4
}
