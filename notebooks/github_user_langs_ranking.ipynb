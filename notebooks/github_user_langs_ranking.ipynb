{
 "cells": [
  {
   "cell_type": "markdown",
   "metadata": {},
   "source": [
    "# Recomendacao de usuarios compativeis para participar de um projeto\n",
    "\n",
    "      A descricao do projeto é dada pela lista de tecnologias/linguagens =['JavaScript','JavaScript','Python','JavaScript','JavaScript','C++','JavaScript','Lua','C']\n",
    "\n",
    "    Você pode repetir uma tecnologias quantas vzs quiser, isso aumenta o peso da tecnologia especifica, e ajuda a encontrar usuarios mais especialistas.\n",
    "\n",
    "\n"
   ]
  },
  {
   "cell_type": "code",
   "execution_count": 1,
   "metadata": {},
   "outputs": [
    {
     "name": "stdout",
     "output_type": "stream",
     "text": [
      "CPU times: user 1.78 s, sys: 799 ms, total: 2.58 s\n",
      "Wall time: 17.1 s\n"
     ]
    }
   ],
   "source": [
    "%%time\n",
    "\n",
    "import pandas as pd\n",
    "import numpy as np\n",
    "import re\n",
    "\n",
    "from gensim.corpora import Dictionary\n",
    "from gensim.models import TfidfModel\n",
    "from gensim.models import Word2Vec\n",
    "from multiprocessing import cpu_count\n",
    "from gensim.similarities import MatrixSimilarity, SparseMatrixSimilarity, SoftCosineSimilarity\n",
    "\n",
    "# import logging\n",
    "# logging.basicConfig(format='%(asctime)s : %(levelname)s : %(message)s', level=logging.INFO)\n"
   ]
  },
  {
   "cell_type": "code",
   "execution_count": 2,
   "metadata": {},
   "outputs": [
    {
     "data": {
      "text/html": [
       "<div>\n",
       "<style scoped>\n",
       "    .dataframe tbody tr th:only-of-type {\n",
       "        vertical-align: middle;\n",
       "    }\n",
       "\n",
       "    .dataframe tbody tr th {\n",
       "        vertical-align: top;\n",
       "    }\n",
       "\n",
       "    .dataframe thead th {\n",
       "        text-align: right;\n",
       "    }\n",
       "</style>\n",
       "<table border=\"1\" class=\"dataframe\">\n",
       "  <thead>\n",
       "    <tr style=\"text-align: right;\">\n",
       "      <th></th>\n",
       "      <th>User</th>\n",
       "      <th>Repo_Member</th>\n",
       "      <th>mRepo_Language</th>\n",
       "      <th>Repo_Owner</th>\n",
       "      <th>oRepo_Language</th>\n",
       "    </tr>\n",
       "  </thead>\n",
       "  <tbody>\n",
       "    <tr>\n",
       "      <th>0</th>\n",
       "      <td>tarruda</td>\n",
       "      <td>libmpack/libmpack</td>\n",
       "      <td>C</td>\n",
       "      <td>tarruda/Algoritmos,tarruda/archdb,tarruda/back...</td>\n",
       "      <td>JavaScript,JavaScript,JavaScript,JavaScript,Py...</td>\n",
       "    </tr>\n",
       "    <tr>\n",
       "      <th>1</th>\n",
       "      <td>mairatma</td>\n",
       "      <td>deprecate/steel-avatar,deprecate/steel-cell-de...</td>\n",
       "      <td>CSS,CSS,HTML,CSS,HTML,CSS,JavaScript,CSS,JavaS...</td>\n",
       "      <td>mairatma/alloy-ui,mairatma/alloyui.com,mairatm...</td>\n",
       "      <td>JavaScript,JavaScript,TypeScript,JavaScript,Ja...</td>\n",
       "    </tr>\n",
       "    <tr>\n",
       "      <th>2</th>\n",
       "      <td>joselitojunior1</td>\n",
       "      <td>acmh/maecoruja,Cisneiros/projeto-anfa,demianbo...</td>\n",
       "      <td>JavaScript,Java,Java,HTML,JavaScript,None</td>\n",
       "      <td>joselitojunior1/abigobaldo-nunes-adventures,jo...</td>\n",
       "      <td>JavaScript,HTML,CSS,None,None,None,None,GCC Ma...</td>\n",
       "    </tr>\n",
       "    <tr>\n",
       "      <th>3</th>\n",
       "      <td>marcelcaraciolo</td>\n",
       "      <td>irgmedeiros/TCCRecommender,jg1141/Open-Allure-DS</td>\n",
       "      <td>Python,Python</td>\n",
       "      <td>marcelcaraciolo/apontador-api-libs,marcelcarac...</td>\n",
       "      <td>PHP,Python,Python,None,Python,Python,Python,No...</td>\n",
       "    </tr>\n",
       "    <tr>\n",
       "      <th>4</th>\n",
       "      <td>luanfonceca</td>\n",
       "      <td>andrezap/analise_expressao_genica,andrezap/arv...</td>\n",
       "      <td>Java,Java,Java,Ruby,Ruby,JavaScript,JavaScript...</td>\n",
       "      <td>luanfonceca/168horas,luanfonceca/4stoq,luanfon...</td>\n",
       "      <td>CSS,Ruby,Python,JavaScript,Python,Python,None,...</td>\n",
       "    </tr>\n",
       "  </tbody>\n",
       "</table>\n",
       "</div>"
      ],
      "text/plain": [
       "              User                                        Repo_Member  \\\n",
       "0          tarruda                                  libmpack/libmpack   \n",
       "1         mairatma  deprecate/steel-avatar,deprecate/steel-cell-de...   \n",
       "2  joselitojunior1  acmh/maecoruja,Cisneiros/projeto-anfa,demianbo...   \n",
       "3  marcelcaraciolo   irgmedeiros/TCCRecommender,jg1141/Open-Allure-DS   \n",
       "4      luanfonceca  andrezap/analise_expressao_genica,andrezap/arv...   \n",
       "\n",
       "                                      mRepo_Language  \\\n",
       "0                                                  C   \n",
       "1  CSS,CSS,HTML,CSS,HTML,CSS,JavaScript,CSS,JavaS...   \n",
       "2          JavaScript,Java,Java,HTML,JavaScript,None   \n",
       "3                                      Python,Python   \n",
       "4  Java,Java,Java,Ruby,Ruby,JavaScript,JavaScript...   \n",
       "\n",
       "                                          Repo_Owner  \\\n",
       "0  tarruda/Algoritmos,tarruda/archdb,tarruda/back...   \n",
       "1  mairatma/alloy-ui,mairatma/alloyui.com,mairatm...   \n",
       "2  joselitojunior1/abigobaldo-nunes-adventures,jo...   \n",
       "3  marcelcaraciolo/apontador-api-libs,marcelcarac...   \n",
       "4  luanfonceca/168horas,luanfonceca/4stoq,luanfon...   \n",
       "\n",
       "                                      oRepo_Language  \n",
       "0  JavaScript,JavaScript,JavaScript,JavaScript,Py...  \n",
       "1  JavaScript,JavaScript,TypeScript,JavaScript,Ja...  \n",
       "2  JavaScript,HTML,CSS,None,None,None,None,GCC Ma...  \n",
       "3  PHP,Python,Python,None,Python,Python,Python,No...  \n",
       "4  CSS,Ruby,Python,JavaScript,Python,Python,None,...  "
      ]
     },
     "execution_count": 2,
     "metadata": {},
     "output_type": "execute_result"
    }
   ],
   "source": [
    "users_repositories = pd.read_csv('../data/recife/users__repositories.csv', dtype=str)\n",
    "users_repositories.head()"
   ]
  },
  {
   "cell_type": "code",
   "execution_count": 28,
   "metadata": {},
   "outputs": [
    {
     "data": {
      "text/html": [
       "<div>\n",
       "<style scoped>\n",
       "    .dataframe tbody tr th:only-of-type {\n",
       "        vertical-align: middle;\n",
       "    }\n",
       "\n",
       "    .dataframe tbody tr th {\n",
       "        vertical-align: top;\n",
       "    }\n",
       "\n",
       "    .dataframe thead th {\n",
       "        text-align: right;\n",
       "    }\n",
       "</style>\n",
       "<table border=\"1\" class=\"dataframe\">\n",
       "  <thead>\n",
       "    <tr style=\"text-align: right;\">\n",
       "      <th></th>\n",
       "      <th>User</th>\n",
       "      <th>Repo_Member</th>\n",
       "      <th>mRepo_Language</th>\n",
       "      <th>Repo_Owner</th>\n",
       "      <th>oRepo_Language</th>\n",
       "    </tr>\n",
       "  </thead>\n",
       "  <tbody>\n",
       "    <tr>\n",
       "      <th>count</th>\n",
       "      <td>1992</td>\n",
       "      <td>785</td>\n",
       "      <td>785</td>\n",
       "      <td>1630</td>\n",
       "      <td>1630</td>\n",
       "    </tr>\n",
       "    <tr>\n",
       "      <th>unique</th>\n",
       "      <td>1981</td>\n",
       "      <td>764</td>\n",
       "      <td>413</td>\n",
       "      <td>1622</td>\n",
       "      <td>1207</td>\n",
       "    </tr>\n",
       "    <tr>\n",
       "      <th>top</th>\n",
       "      <td>khurama</td>\n",
       "      <td>consensotec/gsan</td>\n",
       "      <td>Java</td>\n",
       "      <td>diogo-lins/BankAccount,diogo-lins/com-liferay-...</td>\n",
       "      <td>None</td>\n",
       "    </tr>\n",
       "    <tr>\n",
       "      <th>freq</th>\n",
       "      <td>2</td>\n",
       "      <td>3</td>\n",
       "      <td>78</td>\n",
       "      <td>2</td>\n",
       "      <td>132</td>\n",
       "    </tr>\n",
       "  </tbody>\n",
       "</table>\n",
       "</div>"
      ],
      "text/plain": [
       "           User       Repo_Member mRepo_Language  \\\n",
       "count      1992               785            785   \n",
       "unique     1981               764            413   \n",
       "top     khurama  consensotec/gsan           Java   \n",
       "freq          2                 3             78   \n",
       "\n",
       "                                               Repo_Owner oRepo_Language  \n",
       "count                                                1630           1630  \n",
       "unique                                               1622           1207  \n",
       "top     diogo-lins/BankAccount,diogo-lins/com-liferay-...           None  \n",
       "freq                                                    2            132  "
      ]
     },
     "execution_count": 28,
     "metadata": {},
     "output_type": "execute_result"
    }
   ],
   "source": [
    "users_repositories.describe()"
   ]
  },
  {
   "cell_type": "code",
   "execution_count": 29,
   "metadata": {},
   "outputs": [
    {
     "data": {
      "text/html": [
       "<div>\n",
       "<style scoped>\n",
       "    .dataframe tbody tr th:only-of-type {\n",
       "        vertical-align: middle;\n",
       "    }\n",
       "\n",
       "    .dataframe tbody tr th {\n",
       "        vertical-align: top;\n",
       "    }\n",
       "\n",
       "    .dataframe thead th {\n",
       "        text-align: right;\n",
       "    }\n",
       "</style>\n",
       "<table border=\"1\" class=\"dataframe\">\n",
       "  <thead>\n",
       "    <tr style=\"text-align: right;\">\n",
       "      <th></th>\n",
       "      <th>User</th>\n",
       "      <th>Repos</th>\n",
       "      <th>Languages</th>\n",
       "    </tr>\n",
       "  </thead>\n",
       "  <tbody>\n",
       "    <tr>\n",
       "      <th>0</th>\n",
       "      <td>tarruda</td>\n",
       "      <td>libmpack/libmpack,tarruda/Algoritmos,tarruda/a...</td>\n",
       "      <td>C,JavaScript,JavaScript,JavaScript,JavaScript,...</td>\n",
       "    </tr>\n",
       "    <tr>\n",
       "      <th>1</th>\n",
       "      <td>mairatma</td>\n",
       "      <td>deprecate/steel-avatar,deprecate/steel-cell-de...</td>\n",
       "      <td>CSS,CSS,HTML,CSS,HTML,CSS,JavaScript,CSS,JavaS...</td>\n",
       "    </tr>\n",
       "    <tr>\n",
       "      <th>2</th>\n",
       "      <td>joselitojunior1</td>\n",
       "      <td>acmh/maecoruja,Cisneiros/projeto-anfa,demianbo...</td>\n",
       "      <td>JavaScript,Java,Java,HTML,JavaScript,None,Java...</td>\n",
       "    </tr>\n",
       "    <tr>\n",
       "      <th>3</th>\n",
       "      <td>marcelcaraciolo</td>\n",
       "      <td>irgmedeiros/TCCRecommender,jg1141/Open-Allure-...</td>\n",
       "      <td>Python,Python,PHP,Python,Python,None,Python,Py...</td>\n",
       "    </tr>\n",
       "    <tr>\n",
       "      <th>4</th>\n",
       "      <td>luanfonceca</td>\n",
       "      <td>andrezap/analise_expressao_genica,andrezap/arv...</td>\n",
       "      <td>Java,Java,Java,Ruby,Ruby,JavaScript,JavaScript...</td>\n",
       "    </tr>\n",
       "  </tbody>\n",
       "</table>\n",
       "</div>"
      ],
      "text/plain": [
       "              User                                              Repos  \\\n",
       "0          tarruda  libmpack/libmpack,tarruda/Algoritmos,tarruda/a...   \n",
       "1         mairatma  deprecate/steel-avatar,deprecate/steel-cell-de...   \n",
       "2  joselitojunior1  acmh/maecoruja,Cisneiros/projeto-anfa,demianbo...   \n",
       "3  marcelcaraciolo  irgmedeiros/TCCRecommender,jg1141/Open-Allure-...   \n",
       "4      luanfonceca  andrezap/analise_expressao_genica,andrezap/arv...   \n",
       "\n",
       "                                           Languages  \n",
       "0  C,JavaScript,JavaScript,JavaScript,JavaScript,...  \n",
       "1  CSS,CSS,HTML,CSS,HTML,CSS,JavaScript,CSS,JavaS...  \n",
       "2  JavaScript,Java,Java,HTML,JavaScript,None,Java...  \n",
       "3  Python,Python,PHP,Python,Python,None,Python,Py...  \n",
       "4  Java,Java,Java,Ruby,Ruby,JavaScript,JavaScript...  "
      ]
     },
     "execution_count": 29,
     "metadata": {},
     "output_type": "execute_result"
    }
   ],
   "source": [
    "# Filtrando e Transformando o dataframe para dados de interesse\n",
    "\n",
    "repos_langs = pd.DataFrame({ \n",
    "    'User': users_repositories['User'],\n",
    "    'Repos': (users_repositories['Repo_Member']+','+users_repositories['Repo_Owner']).fillna(''),\n",
    "    'Languages': (users_repositories['mRepo_Language']+','+users_repositories['oRepo_Language']).fillna('')})\n",
    "repos_langs.head()"
   ]
  },
  {
   "cell_type": "markdown",
   "metadata": {},
   "source": [
    "## Construindo o dicionario: frequencia das palavras"
   ]
  },
  {
   "cell_type": "markdown",
   "metadata": {},
   "source": [
    "### Languages"
   ]
  },
  {
   "cell_type": "code",
   "execution_count": 30,
   "metadata": {},
   "outputs": [
    {
     "data": {
      "text/plain": [
       "0    [C, JavaScript, JavaScript, JavaScript, JavaSc...\n",
       "1    [CSS, CSS, HTML, CSS, HTML, CSS, JavaScript, C...\n",
       "2    [JavaScript, Java, Java, HTML, JavaScript, Non...\n",
       "3    [Python, Python, PHP, Python, Python, None, Py...\n",
       "4    [Java, Java, Java, Ruby, Ruby, JavaScript, Jav...\n",
       "Name: Languages, dtype: object"
      ]
     },
     "execution_count": 30,
     "metadata": {},
     "output_type": "execute_result"
    }
   ],
   "source": [
    "# Selecao de caracteristicas: vetor de linguagens\n",
    "languages = repos_langs['Languages'].apply(lambda x: str(x).split(','))\n",
    "languages.head()"
   ]
  },
  {
   "cell_type": "markdown",
   "metadata": {},
   "source": [
    "### Repos"
   ]
  },
  {
   "cell_type": "code",
   "execution_count": 31,
   "metadata": {},
   "outputs": [
    {
     "data": {
      "text/plain": [
       "0    [libmpack, libmpack, tarruda, Algoritmos, tarr...\n",
       "1    [deprecate, steel-avatar, deprecate, steel-cel...\n",
       "2    [acmh, maecoruja, Cisneiros, projeto-anfa, dem...\n",
       "3    [irgmedeiros, TCCRecommender, jg1141, Open-All...\n",
       "4    [andrezap, analise_expressao_genica, andrezap,...\n",
       "Name: Repos, dtype: object"
      ]
     },
     "execution_count": 31,
     "metadata": {},
     "output_type": "execute_result"
    }
   ],
   "source": [
    "repos = repos_langs['Repos']\\\n",
    "            .apply(lambda x: str(x).split(','))\\\n",
    "            .apply(lambda x: np.concatenate([r.split('/') for r in x]))\n",
    "repos.head()"
   ]
  },
  {
   "cell_type": "code",
   "execution_count": 32,
   "metadata": {},
   "outputs": [
    {
     "name": "stdout",
     "output_type": "stream",
     "text": [
      "Number of unique words: 102\n",
      "Dictionary(102 unique tokens: ['C', 'C++', 'CMake', 'CoffeeScript', 'HTML']...)\n"
     ]
    }
   ],
   "source": [
    "#  building dictionary based on languages dataset\n",
    "dictionary = Dictionary(languages)\n",
    "print(\"Number of unique words: %d\" % len(dictionary))\n",
    "print(dictionary)"
   ]
  },
  {
   "cell_type": "markdown",
   "metadata": {},
   "source": [
    "## Train Model for predicions(similaridade): tf-idf"
   ]
  },
  {
   "cell_type": "code",
   "execution_count": 33,
   "metadata": {},
   "outputs": [],
   "source": [
    "#  Traing Model for predicions(similaridade): tf-idf\n",
    "tfidf = TfidfModel(dictionary=dictionary)\n",
    "\n",
    "# print(dictionary.token2id)"
   ]
  },
  {
   "cell_type": "code",
   "execution_count": 34,
   "metadata": {},
   "outputs": [
    {
     "data": {
      "text/plain": [
       "[(0, 1), (1, 1), (7, 5), (8, 1), (12, 1)]"
      ]
     },
     "execution_count": 34,
     "metadata": {},
     "output_type": "execute_result"
    }
   ],
   "source": [
    "# Novo Dado a ser rankeado\n",
    "new_doc = ['JavaScript','JavaScript','Python','JavaScript','JavaScript','C++','JavaScript','Lua','C'] # novo exemplo\n",
    "\n",
    "# Transformando novo exemplo to vetor (lang_idx, freq)\n",
    "new_vec = dictionary.doc2bow(new_doc) # frequency vector\n",
    "new_vec"
   ]
  },
  {
   "cell_type": "code",
   "execution_count": 35,
   "metadata": {},
   "outputs": [
    {
     "name": "stdout",
     "output_type": "stream",
     "text": [
      "[(0, 0.2544226420392753), (1, 0.2679520076775512), (7, 0.7610542410669464), (8, 0.4989679145224941), (12, 0.18787842672965765)]\n"
     ]
    }
   ],
   "source": [
    "# ranking dos termos presentes em new_vec utilizando o mode tfidf\n",
    "print(tfidf[new_vec]) # vector score"
   ]
  },
  {
   "cell_type": "markdown",
   "metadata": {},
   "source": [
    "## Construindo a Matriz de similaridades"
   ]
  },
  {
   "cell_type": "code",
   "execution_count": 36,
   "metadata": {},
   "outputs": [],
   "source": [
    "# Transforming dataset values\n",
    "# vetor de frequencia de palavras = languages freq.\n",
    "bow_corpus = [dictionary.doc2bow(text) for text in list(languages)] #frequency vector for all languages dataset\n",
    "\n",
    "# Tecnica: Calculo de similaridade com Cosin\n",
    "index = SparseMatrixSimilarity(tfidf[bow_corpus], num_features=102)"
   ]
  },
  {
   "cell_type": "markdown",
   "metadata": {},
   "source": [
    "# LISTA DE TOP 10 USUARIOS RECOMENDADOS para new_vec"
   ]
  },
  {
   "cell_type": "code",
   "execution_count": 37,
   "metadata": {},
   "outputs": [
    {
     "data": {
      "text/plain": [
       "638           AleffSouza\n",
       "1075       reueljonathan\n",
       "0                tarruda\n",
       "580         felipemobile\n",
       "197           leoreinaux\n",
       "992       marcuscarneiro\n",
       "133     FranciscoMarinho\n",
       "1423         bureauworks\n",
       "1793               EFTBR\n",
       "160                 acmh\n",
       "Name: User, dtype: object"
      ]
     },
     "execution_count": 37,
     "metadata": {},
     "output_type": "execute_result"
    }
   ],
   "source": [
    "similarities = index[tfidf[new_vec]]\n",
    "recomendations = list(enumerate(similarities))\n",
    "top_recs = sorted(recomendations, key=lambda rating: rating[1], reverse=True)\n",
    "repos_langs.iloc[[tr[0] for tr in top_recs[:10]], 0]"
   ]
  },
  {
   "cell_type": "markdown",
   "metadata": {},
   "source": [
    "#End."
   ]
  },
  {
   "cell_type": "markdown",
   "metadata": {},
   "source": [
    "## Extra: Resultados com o Algoritmo sofcosin"
   ]
  },
  {
   "cell_type": "code",
   "execution_count": 39,
   "metadata": {},
   "outputs": [
    {
     "data": {
      "text/plain": [
       "638        AleffSouza\n",
       "457         ntocampos\n",
       "146     foolOnTheHill\n",
       "1075    reueljonathan\n",
       "138        PedroRossi\n",
       "197        leoreinaux\n",
       "160              acmh\n",
       "412              Rom7\n",
       "665      MaryCaroline\n",
       "105        casevictor\n",
       "Name: User, dtype: object"
      ]
     },
     "execution_count": 39,
     "metadata": {},
     "output_type": "execute_result"
    }
   ],
   "source": [
    "# Algoritmo: Calculo de similaridade com SofCosin\n",
    "\n",
    "w2v_model = Word2Vec(languages, workers=cpu_count(), size=102, seed=12345)\n",
    "similarity_matrix = w2v_model.wv.similarity_matrix(dictionary, tfidf, nonzero_limit=100)\n",
    "\n",
    "index = SoftCosineSimilarity( tfidf[bow_corpus], similarity_matrix)\n",
    "\n",
    "similarities = index[tfidf[new_vec]]\n",
    "recs_soft = list(enumerate(similarities))\n",
    "# print(recs_soft)\n",
    "\n",
    "top_recs_soft = sorted(recs_soft, key=lambda rating: rating[1], reverse=True)\n",
    "repos_langs.iloc[[tr[0] for tr in top_recs_soft[:10]], 0]"
   ]
  },
  {
   "cell_type": "code",
   "execution_count": null,
   "metadata": {},
   "outputs": [],
   "source": []
  }
 ],
 "metadata": {
  "kernelspec": {
   "display_name": "Python 3 (ipykernel)",
   "language": "python",
   "name": "python3"
  },
  "language_info": {
   "codemirror_mode": {
    "name": "ipython",
    "version": 3
   },
   "file_extension": ".py",
   "mimetype": "text/x-python",
   "name": "python",
   "nbconvert_exporter": "python",
   "pygments_lexer": "ipython3",
   "version": "3.10.14"
  }
 },
 "nbformat": 4,
 "nbformat_minor": 4
}
