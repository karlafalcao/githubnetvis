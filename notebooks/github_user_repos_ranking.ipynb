{
 "cells": [
  {
   "cell_type": "code",
   "execution_count": 5,
   "metadata": {},
   "outputs": [
    {
     "name": "stdout",
     "output_type": "stream",
     "text": [
      "CPU times: user 328 ms, sys: 90.6 ms, total: 418 ms\n",
      "Wall time: 547 ms\n"
     ]
    }
   ],
   "source": [
    "%%time\n",
    "\n",
    "import pandas as pd\n",
    "import numpy as np\n",
    "import re\n",
    "\n",
    "from gensim.corpora import Dictionary\n",
    "from gensim.models import TfidfModel\n",
    "from gensim.models import Word2Vec\n",
    "from multiprocessing import cpu_count\n",
    "from gensim.similarities import MatrixSimilarity, SparseMatrixSimilarity, SoftCosineSimilarity\n",
    "\n",
    "import logging\n",
    "logging.basicConfig(format='%(asctime)s : %(levelname)s : %(message)s', level=logging.INFO)\n"
   ]
  },
  {
   "cell_type": "code",
   "execution_count": 6,
   "metadata": {},
   "outputs": [
    {
     "data": {
      "text/html": [
       "<div>\n",
       "<style scoped>\n",
       "    .dataframe tbody tr th:only-of-type {\n",
       "        vertical-align: middle;\n",
       "    }\n",
       "\n",
       "    .dataframe tbody tr th {\n",
       "        vertical-align: top;\n",
       "    }\n",
       "\n",
       "    .dataframe thead th {\n",
       "        text-align: right;\n",
       "    }\n",
       "</style>\n",
       "<table border=\"1\" class=\"dataframe\">\n",
       "  <thead>\n",
       "    <tr style=\"text-align: right;\">\n",
       "      <th></th>\n",
       "      <th>User</th>\n",
       "      <th>Repo_Member</th>\n",
       "      <th>mRepo_Language</th>\n",
       "      <th>Repo_Owner</th>\n",
       "      <th>oRepo_Language</th>\n",
       "    </tr>\n",
       "  </thead>\n",
       "  <tbody>\n",
       "    <tr>\n",
       "      <th>0</th>\n",
       "      <td>tarruda</td>\n",
       "      <td>libmpack/libmpack</td>\n",
       "      <td>C</td>\n",
       "      <td>tarruda/Algoritmos,tarruda/archdb,tarruda/back...</td>\n",
       "      <td>JavaScript,JavaScript,JavaScript,JavaScript,Py...</td>\n",
       "    </tr>\n",
       "    <tr>\n",
       "      <th>1</th>\n",
       "      <td>mairatma</td>\n",
       "      <td>deprecate/steel-avatar,deprecate/steel-cell-de...</td>\n",
       "      <td>CSS,CSS,HTML,CSS,HTML,CSS,JavaScript,CSS,JavaS...</td>\n",
       "      <td>mairatma/alloy-ui,mairatma/alloyui.com,mairatm...</td>\n",
       "      <td>JavaScript,JavaScript,TypeScript,JavaScript,Ja...</td>\n",
       "    </tr>\n",
       "    <tr>\n",
       "      <th>2</th>\n",
       "      <td>joselitojunior1</td>\n",
       "      <td>acmh/maecoruja,Cisneiros/projeto-anfa,demianbo...</td>\n",
       "      <td>JavaScript,Java,Java,HTML,JavaScript,None</td>\n",
       "      <td>joselitojunior1/abigobaldo-nunes-adventures,jo...</td>\n",
       "      <td>JavaScript,HTML,CSS,None,None,None,None,GCC Ma...</td>\n",
       "    </tr>\n",
       "    <tr>\n",
       "      <th>3</th>\n",
       "      <td>marcelcaraciolo</td>\n",
       "      <td>irgmedeiros/TCCRecommender,jg1141/Open-Allure-DS</td>\n",
       "      <td>Python,Python</td>\n",
       "      <td>marcelcaraciolo/apontador-api-libs,marcelcarac...</td>\n",
       "      <td>PHP,Python,Python,None,Python,Python,Python,No...</td>\n",
       "    </tr>\n",
       "    <tr>\n",
       "      <th>4</th>\n",
       "      <td>luanfonceca</td>\n",
       "      <td>andrezap/analise_expressao_genica,andrezap/arv...</td>\n",
       "      <td>Java,Java,Java,Ruby,Ruby,JavaScript,JavaScript...</td>\n",
       "      <td>luanfonceca/168horas,luanfonceca/4stoq,luanfon...</td>\n",
       "      <td>CSS,Ruby,Python,JavaScript,Python,Python,None,...</td>\n",
       "    </tr>\n",
       "  </tbody>\n",
       "</table>\n",
       "</div>"
      ],
      "text/plain": [
       "              User                                        Repo_Member  \\\n",
       "0          tarruda                                  libmpack/libmpack   \n",
       "1         mairatma  deprecate/steel-avatar,deprecate/steel-cell-de...   \n",
       "2  joselitojunior1  acmh/maecoruja,Cisneiros/projeto-anfa,demianbo...   \n",
       "3  marcelcaraciolo   irgmedeiros/TCCRecommender,jg1141/Open-Allure-DS   \n",
       "4      luanfonceca  andrezap/analise_expressao_genica,andrezap/arv...   \n",
       "\n",
       "                                      mRepo_Language  \\\n",
       "0                                                  C   \n",
       "1  CSS,CSS,HTML,CSS,HTML,CSS,JavaScript,CSS,JavaS...   \n",
       "2          JavaScript,Java,Java,HTML,JavaScript,None   \n",
       "3                                      Python,Python   \n",
       "4  Java,Java,Java,Ruby,Ruby,JavaScript,JavaScript...   \n",
       "\n",
       "                                          Repo_Owner  \\\n",
       "0  tarruda/Algoritmos,tarruda/archdb,tarruda/back...   \n",
       "1  mairatma/alloy-ui,mairatma/alloyui.com,mairatm...   \n",
       "2  joselitojunior1/abigobaldo-nunes-adventures,jo...   \n",
       "3  marcelcaraciolo/apontador-api-libs,marcelcarac...   \n",
       "4  luanfonceca/168horas,luanfonceca/4stoq,luanfon...   \n",
       "\n",
       "                                      oRepo_Language  \n",
       "0  JavaScript,JavaScript,JavaScript,JavaScript,Py...  \n",
       "1  JavaScript,JavaScript,TypeScript,JavaScript,Ja...  \n",
       "2  JavaScript,HTML,CSS,None,None,None,None,GCC Ma...  \n",
       "3  PHP,Python,Python,None,Python,Python,Python,No...  \n",
       "4  CSS,Ruby,Python,JavaScript,Python,Python,None,...  "
      ]
     },
     "execution_count": 6,
     "metadata": {},
     "output_type": "execute_result"
    }
   ],
   "source": [
    "users_repositories = pd.read_csv('../data/users__repositories.csv', dtype=str)\n",
    "users_repositories.head()"
   ]
  },
  {
   "cell_type": "code",
   "execution_count": 7,
   "metadata": {},
   "outputs": [
    {
     "data": {
      "text/html": [
       "<div>\n",
       "<style scoped>\n",
       "    .dataframe tbody tr th:only-of-type {\n",
       "        vertical-align: middle;\n",
       "    }\n",
       "\n",
       "    .dataframe tbody tr th {\n",
       "        vertical-align: top;\n",
       "    }\n",
       "\n",
       "    .dataframe thead th {\n",
       "        text-align: right;\n",
       "    }\n",
       "</style>\n",
       "<table border=\"1\" class=\"dataframe\">\n",
       "  <thead>\n",
       "    <tr style=\"text-align: right;\">\n",
       "      <th></th>\n",
       "      <th>User</th>\n",
       "      <th>Repos</th>\n",
       "      <th>Languages</th>\n",
       "    </tr>\n",
       "  </thead>\n",
       "  <tbody>\n",
       "    <tr>\n",
       "      <th>0</th>\n",
       "      <td>tarruda</td>\n",
       "      <td>libmpack/libmpack,tarruda/Algoritmos,tarruda/a...</td>\n",
       "      <td>C,JavaScript,JavaScript,JavaScript,JavaScript,...</td>\n",
       "    </tr>\n",
       "    <tr>\n",
       "      <th>1</th>\n",
       "      <td>mairatma</td>\n",
       "      <td>deprecate/steel-avatar,deprecate/steel-cell-de...</td>\n",
       "      <td>CSS,CSS,HTML,CSS,HTML,CSS,JavaScript,CSS,JavaS...</td>\n",
       "    </tr>\n",
       "    <tr>\n",
       "      <th>2</th>\n",
       "      <td>joselitojunior1</td>\n",
       "      <td>acmh/maecoruja,Cisneiros/projeto-anfa,demianbo...</td>\n",
       "      <td>JavaScript,Java,Java,HTML,JavaScript,None,Java...</td>\n",
       "    </tr>\n",
       "    <tr>\n",
       "      <th>3</th>\n",
       "      <td>marcelcaraciolo</td>\n",
       "      <td>irgmedeiros/TCCRecommender,jg1141/Open-Allure-...</td>\n",
       "      <td>Python,Python,PHP,Python,Python,None,Python,Py...</td>\n",
       "    </tr>\n",
       "    <tr>\n",
       "      <th>4</th>\n",
       "      <td>luanfonceca</td>\n",
       "      <td>andrezap/analise_expressao_genica,andrezap/arv...</td>\n",
       "      <td>Java,Java,Java,Ruby,Ruby,JavaScript,JavaScript...</td>\n",
       "    </tr>\n",
       "  </tbody>\n",
       "</table>\n",
       "</div>"
      ],
      "text/plain": [
       "              User                                              Repos  \\\n",
       "0          tarruda  libmpack/libmpack,tarruda/Algoritmos,tarruda/a...   \n",
       "1         mairatma  deprecate/steel-avatar,deprecate/steel-cell-de...   \n",
       "2  joselitojunior1  acmh/maecoruja,Cisneiros/projeto-anfa,demianbo...   \n",
       "3  marcelcaraciolo  irgmedeiros/TCCRecommender,jg1141/Open-Allure-...   \n",
       "4      luanfonceca  andrezap/analise_expressao_genica,andrezap/arv...   \n",
       "\n",
       "                                           Languages  \n",
       "0  C,JavaScript,JavaScript,JavaScript,JavaScript,...  \n",
       "1  CSS,CSS,HTML,CSS,HTML,CSS,JavaScript,CSS,JavaS...  \n",
       "2  JavaScript,Java,Java,HTML,JavaScript,None,Java...  \n",
       "3  Python,Python,PHP,Python,Python,None,Python,Py...  \n",
       "4  Java,Java,Java,Ruby,Ruby,JavaScript,JavaScript...  "
      ]
     },
     "execution_count": 7,
     "metadata": {},
     "output_type": "execute_result"
    }
   ],
   "source": [
    "repos_langs = pd.DataFrame({ \n",
    "    'User': users_repositories['User'],\n",
    "    'Repos': (users_repositories['Repo_Member']+','+users_repositories['Repo_Owner']).fillna(''),\n",
    "    'Languages': (users_repositories['mRepo_Language']+','+users_repositories['oRepo_Language']).fillna('')})\n",
    "repos_langs.head()"
   ]
  },
  {
   "cell_type": "code",
   "execution_count": 8,
   "metadata": {},
   "outputs": [
    {
     "data": {
      "text/plain": [
       "0    [libmpack, libmpack, tarruda, Algoritmos, tarr...\n",
       "1    [deprecate, steel-avatar, deprecate, steel-cel...\n",
       "2    [acmh, maecoruja, Cisneiros, projeto-anfa, dem...\n",
       "3    [irgmedeiros, TCCRecommender, jg1141, Open-All...\n",
       "4    [andrezap, analise_expressao_genica, andrezap,...\n",
       "Name: Repos, dtype: object"
      ]
     },
     "execution_count": 8,
     "metadata": {},
     "output_type": "execute_result"
    }
   ],
   "source": [
    "repos = repos_langs['Repos']\\\n",
    "            .apply(lambda x: str(x).split(','))\\\n",
    "            .apply(lambda x: np.concatenate([r.split('/') for r in x]))\n",
    "repos.head()"
   ]
  },
  {
   "cell_type": "code",
   "execution_count": 9,
   "metadata": {},
   "outputs": [
    {
     "name": "stderr",
     "output_type": "stream",
     "text": [
      "2018-07-02 22:30:03,713 : INFO : adding document #0 to Dictionary(0 unique tokens: [])\n",
      "2018-07-02 22:30:03,762 : INFO : built Dictionary(12418 unique tokens: ['Algoritmos', 'CodeMirror', 'DefinitelyTyped', 'MaidSafe', 'MemoryModule']...) from 1992 documents (total 28472 corpus positions)\n"
     ]
    },
    {
     "name": "stdout",
     "output_type": "stream",
     "text": [
      "Number of unique words: 12418\n",
      "Dictionary(12418 unique tokens: ['Algoritmos', 'CodeMirror', 'DefinitelyTyped', 'MaidSafe', 'MemoryModule']...)\n"
     ]
    }
   ],
   "source": [
    "#  building langs dictionary\n",
    "dictionary = Dictionary(repos)\n",
    "\n",
    "print(\"Number of unique words: %d\" % len(dictionary))\n",
    "print(dictionary)\n",
    "# print(dictionary.token2id)"
   ]
  },
  {
   "cell_type": "markdown",
   "metadata": {},
   "source": [
    "## Train Model for predicions(similaridade): tf-idf"
   ]
  },
  {
   "cell_type": "code",
   "execution_count": 10,
   "metadata": {},
   "outputs": [],
   "source": [
    "# train model on dictionary to predict similarities\n",
    "tfidf = TfidfModel(dictionary=dictionary)\n"
   ]
  },
  {
   "cell_type": "code",
   "execution_count": 38,
   "metadata": {},
   "outputs": [
    {
     "data": {
      "text/plain": [
       "'luanfonceca'"
      ]
     },
     "execution_count": 38,
     "metadata": {},
     "output_type": "execute_result"
    }
   ],
   "source": [
    "# Novo Dado a ser rankeado\n",
    "\n",
    "new_doc = repos[4]\n",
    "# Transforming new_doc into vector (lang_idx, freq)\n",
    "new_vec = dictionary.doc2bow(new_doc)\n",
    "\n",
    "repos_langs.iloc[4, 0] # Para testar nossa hipotese vamos encontrar usuarios similares ao usuario 4"
   ]
  },
  {
   "cell_type": "code",
   "execution_count": 12,
   "metadata": {},
   "outputs": [
    {
     "name": "stdout",
     "output_type": "stream",
     "text": [
      "[(348, 0.007391168192596804), (369, 0.00967245806245393), (370, 0.00967245806245393), (371, 0.00967245806245393), (372, 0.00967245806245393), (373, 0.00967245806245393), (374, 0.00967245806245393), (375, 0.00967245806245393), (376, 0.00967245806245393), (377, 0.00967245806245393), (378, 0.01934491612490786), (379, 0.00967245806245393), (380, 0.00967245806245393), (381, 0.00967245806245393), (382, 0.00967245806245393), (383, 0.00967245806245393), (384, 0.00967245806245393), (385, 0.00967245806245393), (386, 0.00967245806245393), (387, 0.00967245806245393), (388, 0.00967245806245393), (389, 0.00967245806245393), (390, 0.00967245806245393), (391, 0.00967245806245393), (392, 0.029017374187361784), (393, 0.00967245806245393), (394, 0.008789934672183978), (395, 0.00967245806245393), (396, 0.00967245806245393), (397, 0.00967245806245393), (398, 0.00967245806245393), (399, 0.00967245806245393), (400, 0.00967245806245393), (401, 0.00967245806245393), (402, 0.00967245806245393), (403, 0.00967245806245393), (404, 0.008789934672183978), (405, 0.00967245806245393), (406, 0.00967245806245393), (407, 0.00967245806245393), (408, 0.00967245806245393), (409, 0.00967245806245393), (410, 0.00967245806245393), (411, 0.00967245806245393), (412, 0.00967245806245393), (413, 0.00967245806245393), (414, 0.00967245806245393), (415, 0.00967245806245393), (416, 0.00967245806245393), (417, 0.00967245806245393), (418, 0.00967245806245393), (419, 0.008789934672183978), (420, 0.00967245806245393), (421, 0.00967245806245393), (422, 0.00967245806245393), (423, 0.00967245806245393), (424, 0.00967245806245393), (425, 0.00967245806245393), (426, 0.00967245806245393), (427, 0.00967245806245393), (428, 0.00967245806245393), (429, 0.00967245806245393), (430, 0.00967245806245393), (431, 0.00967245806245393), (432, 0.00967245806245393), (433, 0.00967245806245393), (434, 0.00967245806245393), (435, 0.00967245806245393), (436, 0.00967245806245393), (437, 0.00967245806245393), (438, 0.00967245806245393), (439, 0.00967245806245393), (440, 0.00967245806245393), (441, 0.00967245806245393), (442, 0.00967245806245393), (443, 0.00967245806245393), (444, 0.00967245806245393), (445, 0.00967245806245393), (446, 0.00967245806245393), (447, 0.00967245806245393), (448, 0.008789934672183978), (449, 0.00967245806245393), (450, 0.00967245806245393), (451, 0.00967245806245393), (452, 0.9932626179567895), (453, 0.00967245806245393), (454, 0.00967245806245393), (455, 0.00967245806245393), (456, 0.00967245806245393), (457, 0.008789934672183978), (458, 0.00967245806245393), (459, 0.00967245806245393), (460, 0.00967245806245393), (461, 0.00967245806245393), (462, 0.00967245806245393), (463, 0.00967245806245393), (464, 0.008789934672183978), (465, 0.008273691582866756), (466, 0.029017374187361784), (467, 0.008789934672183978), (468, 0.007391168192596804), (469, 0.00967245806245393), (470, 0.00967245806245393), (471, 0.008789934672183978), (472, 0.00967245806245393), (473, 0.00967245806245393), (474, 0.00967245806245393), (475, 0.00967245806245393), (476, 0.00967245806245393), (477, 0.00967245806245393), (478, 0.00967245806245393), (479, 0.00967245806245393), (480, 0.00967245806245393), (481, 0.006508644802326855), (482, 0.00967245806245393), (483, 0.007391168192596804), (484, 0.00967245806245393), (485, 0.00967245806245393), (486, 0.00967245806245393), (487, 0.00967245806245393), (488, 0.00967245806245393), (489, 0.00967245806245393), (490, 0.00967245806245393), (491, 0.00967245806245393), (492, 0.00967245806245393), (493, 0.00967245806245393), (494, 0.00967245806245393), (495, 0.00967245806245393), (496, 0.00967245806245393)]\n"
     ]
    }
   ],
   "source": [
    "# ranking dos termos presentes em new_vec utilizando o mode tfidf\n",
    "print(tfidf[new_vec]) # vector score"
   ]
  },
  {
   "cell_type": "code",
   "execution_count": 13,
   "metadata": {},
   "outputs": [
    {
     "name": "stderr",
     "output_type": "stream",
     "text": [
      "2018-07-02 22:30:08,546 : INFO : creating sparse index\n",
      "2018-07-02 22:30:08,546 : INFO : creating sparse matrix from corpus\n",
      "2018-07-02 22:30:08,548 : INFO : PROGRESS: at document #0\n",
      "2018-07-02 22:30:08,658 : INFO : created <1992x12418 sparse matrix of type '<class 'numpy.float32'>'\n",
      "\twith 16362 stored elements in Compressed Sparse Row format>\n"
     ]
    }
   ],
   "source": [
    "\n",
    "# Transforming dataset values\n",
    "# vetor de frequencia de palavras = repos freq.\n",
    "bow_corpus  = [dictionary.doc2bow(text) for text in list(repos)]\n",
    "\n",
    "# Calcula matriz esparsa de similaridades User_LangsxUser_Langs\n",
    "index = SparseMatrixSimilarity(tfidf[bow_corpus], num_features=12418)"
   ]
  },
  {
   "cell_type": "markdown",
   "metadata": {},
   "source": [
    "** LISTA DE TOP 10 USUARIOS RECOMENDADOS PARA O USUARIO 4 **"
   ]
  },
  {
   "cell_type": "code",
   "execution_count": 42,
   "metadata": {},
   "outputs": [
    {
     "data": {
      "text/plain": [
       "4           luanfonceca\n",
       "9        renatooliveira\n",
       "1653    tisstech-brasil\n",
       "519             caiofsr\n",
       "682        ericksantana\n",
       "66              vanessa\n",
       "737           betegelse\n",
       "171          caionovaes\n",
       "665        MaryCaroline\n",
       "184           mulatinho\n",
       "Name: User, dtype: object"
      ]
     },
     "execution_count": 42,
     "metadata": {},
     "output_type": "execute_result"
    }
   ],
   "source": [
    "# LISTA DE TOP 10 USUARIOS RECOMENDADOS PARA O USUARIO 4\n",
    "\n",
    "similarities = index[tfidf[new_vec]]\n",
    "recomendations = list(enumerate(similarities))\n",
    "top_recomendations = sorted(recomendations, key=lambda rating: rating[1], reverse=True)\n",
    "top_users = top_recomendations[:10]\n",
    "repos_langs.iloc[[tr[0] for tr in top_users], 0]"
   ]
  },
  {
   "cell_type": "markdown",
   "metadata": {},
   "source": [
    "end model."
   ]
  },
  {
   "cell_type": "code",
   "execution_count": null,
   "metadata": {},
   "outputs": [],
   "source": []
  }
 ],
 "metadata": {
  "kernelspec": {
   "display_name": "Python 3 (ipykernel)",
   "language": "python",
   "name": "python3"
  },
  "language_info": {
   "codemirror_mode": {
    "name": "ipython",
    "version": 3
   },
   "file_extension": ".py",
   "mimetype": "text/x-python",
   "name": "python",
   "nbconvert_exporter": "python",
   "pygments_lexer": "ipython3",
   "version": "3.10.14"
  }
 },
 "nbformat": 4,
 "nbformat_minor": 4
}
